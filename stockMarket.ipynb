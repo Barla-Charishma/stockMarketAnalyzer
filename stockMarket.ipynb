{
 "cells": [
  {
   "cell_type": "code",
   "execution_count": 58,
   "id": "653d6491-8e47-4d74-8bab-d7fa5ff404e2",
   "metadata": {
    "scrolled": true
   },
   "outputs": [
    {
     "name": "stdout",
     "output_type": "stream",
     "text": [
      "Requirement already satisfied: langchain in c:\\users\\chari\\anaconda3\\lib\\site-packages (0.3.7)\n",
      "Requirement already satisfied: PyYAML>=5.3 in c:\\users\\chari\\anaconda3\\lib\\site-packages (from langchain) (6.0.1)\n",
      "Requirement already satisfied: SQLAlchemy<3,>=1.4 in c:\\users\\chari\\anaconda3\\lib\\site-packages (from langchain) (2.0.34)\n",
      "Requirement already satisfied: aiohttp<4.0.0,>=3.8.3 in c:\\users\\chari\\anaconda3\\lib\\site-packages (from langchain) (3.10.5)\n",
      "Requirement already satisfied: langchain-core<0.4.0,>=0.3.15 in c:\\users\\chari\\anaconda3\\lib\\site-packages (from langchain) (0.3.19)\n",
      "Requirement already satisfied: langchain-text-splitters<0.4.0,>=0.3.0 in c:\\users\\chari\\anaconda3\\lib\\site-packages (from langchain) (0.3.2)\n",
      "Requirement already satisfied: langsmith<0.2.0,>=0.1.17 in c:\\users\\chari\\anaconda3\\lib\\site-packages (from langchain) (0.1.143)\n",
      "Requirement already satisfied: numpy<2.0.0,>=1.26.0 in c:\\users\\chari\\anaconda3\\lib\\site-packages (from langchain) (1.26.4)\n",
      "Requirement already satisfied: pydantic<3.0.0,>=2.7.4 in c:\\users\\chari\\anaconda3\\lib\\site-packages (from langchain) (2.9.2)\n",
      "Requirement already satisfied: requests<3,>=2 in c:\\users\\chari\\anaconda3\\lib\\site-packages (from langchain) (2.32.3)\n",
      "Requirement already satisfied: tenacity!=8.4.0,<10,>=8.1.0 in c:\\users\\chari\\anaconda3\\lib\\site-packages (from langchain) (8.2.3)\n",
      "Requirement already satisfied: aiohappyeyeballs>=2.3.0 in c:\\users\\chari\\anaconda3\\lib\\site-packages (from aiohttp<4.0.0,>=3.8.3->langchain) (2.4.0)\n",
      "Requirement already satisfied: aiosignal>=1.1.2 in c:\\users\\chari\\anaconda3\\lib\\site-packages (from aiohttp<4.0.0,>=3.8.3->langchain) (1.2.0)\n",
      "Requirement already satisfied: attrs>=17.3.0 in c:\\users\\chari\\anaconda3\\lib\\site-packages (from aiohttp<4.0.0,>=3.8.3->langchain) (23.1.0)\n",
      "Requirement already satisfied: frozenlist>=1.1.1 in c:\\users\\chari\\anaconda3\\lib\\site-packages (from aiohttp<4.0.0,>=3.8.3->langchain) (1.4.0)\n",
      "Requirement already satisfied: multidict<7.0,>=4.5 in c:\\users\\chari\\anaconda3\\lib\\site-packages (from aiohttp<4.0.0,>=3.8.3->langchain) (6.0.4)\n",
      "Requirement already satisfied: yarl<2.0,>=1.0 in c:\\users\\chari\\anaconda3\\lib\\site-packages (from aiohttp<4.0.0,>=3.8.3->langchain) (1.11.0)\n",
      "Requirement already satisfied: jsonpatch<2.0,>=1.33 in c:\\users\\chari\\anaconda3\\lib\\site-packages (from langchain-core<0.4.0,>=0.3.15->langchain) (1.33)\n",
      "Requirement already satisfied: packaging<25,>=23.2 in c:\\users\\chari\\anaconda3\\lib\\site-packages (from langchain-core<0.4.0,>=0.3.15->langchain) (24.1)\n",
      "Requirement already satisfied: typing-extensions>=4.7 in c:\\users\\chari\\anaconda3\\lib\\site-packages (from langchain-core<0.4.0,>=0.3.15->langchain) (4.11.0)\n",
      "Requirement already satisfied: httpx<1,>=0.23.0 in c:\\users\\chari\\anaconda3\\lib\\site-packages (from langsmith<0.2.0,>=0.1.17->langchain) (0.27.0)\n",
      "Requirement already satisfied: orjson<4.0.0,>=3.9.14 in c:\\users\\chari\\anaconda3\\lib\\site-packages (from langsmith<0.2.0,>=0.1.17->langchain) (3.10.11)\n",
      "Requirement already satisfied: requests-toolbelt<2.0.0,>=1.0.0 in c:\\users\\chari\\anaconda3\\lib\\site-packages (from langsmith<0.2.0,>=0.1.17->langchain) (1.0.0)\n",
      "Requirement already satisfied: annotated-types>=0.6.0 in c:\\users\\chari\\anaconda3\\lib\\site-packages (from pydantic<3.0.0,>=2.7.4->langchain) (0.6.0)\n",
      "Requirement already satisfied: pydantic-core==2.23.4 in c:\\users\\chari\\anaconda3\\lib\\site-packages (from pydantic<3.0.0,>=2.7.4->langchain) (2.23.4)\n",
      "Requirement already satisfied: charset-normalizer<4,>=2 in c:\\users\\chari\\anaconda3\\lib\\site-packages (from requests<3,>=2->langchain) (3.3.2)\n",
      "Requirement already satisfied: idna<4,>=2.5 in c:\\users\\chari\\anaconda3\\lib\\site-packages (from requests<3,>=2->langchain) (3.7)\n",
      "Requirement already satisfied: urllib3<3,>=1.21.1 in c:\\users\\chari\\anaconda3\\lib\\site-packages (from requests<3,>=2->langchain) (2.2.3)\n",
      "Requirement already satisfied: certifi>=2017.4.17 in c:\\users\\chari\\anaconda3\\lib\\site-packages (from requests<3,>=2->langchain) (2024.8.30)\n",
      "Requirement already satisfied: greenlet!=0.4.17 in c:\\users\\chari\\anaconda3\\lib\\site-packages (from SQLAlchemy<3,>=1.4->langchain) (3.0.1)\n",
      "Requirement already satisfied: anyio in c:\\users\\chari\\anaconda3\\lib\\site-packages (from httpx<1,>=0.23.0->langsmith<0.2.0,>=0.1.17->langchain) (4.2.0)\n",
      "Requirement already satisfied: httpcore==1.* in c:\\users\\chari\\anaconda3\\lib\\site-packages (from httpx<1,>=0.23.0->langsmith<0.2.0,>=0.1.17->langchain) (1.0.2)\n",
      "Requirement already satisfied: sniffio in c:\\users\\chari\\anaconda3\\lib\\site-packages (from httpx<1,>=0.23.0->langsmith<0.2.0,>=0.1.17->langchain) (1.3.0)\n",
      "Requirement already satisfied: h11<0.15,>=0.13 in c:\\users\\chari\\anaconda3\\lib\\site-packages (from httpcore==1.*->httpx<1,>=0.23.0->langsmith<0.2.0,>=0.1.17->langchain) (0.14.0)\n",
      "Requirement already satisfied: jsonpointer>=1.9 in c:\\users\\chari\\anaconda3\\lib\\site-packages (from jsonpatch<2.0,>=1.33->langchain-core<0.4.0,>=0.3.15->langchain) (2.1)\n",
      "Note: you may need to restart the kernel to use updated packages.\n"
     ]
    }
   ],
   "source": [
    "pip install langchain"
   ]
  },
  {
   "cell_type": "code",
   "execution_count": 59,
   "id": "60f6f537-2790-4a3e-abe1-9b6bcc4cd6a0",
   "metadata": {},
   "outputs": [
    {
     "name": "stdout",
     "output_type": "stream",
     "text": [
      "Requirement already satisfied: TextLoader in c:\\users\\chari\\anaconda3\\lib\\site-packages (0.0.9)Note: you may need to restart the kernel to use updated packages.\n",
      "\n",
      "Requirement already satisfied: chardet in c:\\users\\chari\\anaconda3\\lib\\site-packages (from TextLoader) (4.0.0)\n"
     ]
    }
   ],
   "source": [
    "pip install TextLoader"
   ]
  },
  {
   "cell_type": "code",
   "execution_count": 60,
   "id": "90ff36c8-0b9a-4f88-996f-d5c3da123ebd",
   "metadata": {},
   "outputs": [],
   "source": [
    "from langchain_community.document_loaders import TextLoader\n"
   ]
  },
  {
   "cell_type": "code",
   "execution_count": 61,
   "id": "565b8665-298e-49e3-acd9-b3d195cc8740",
   "metadata": {},
   "outputs": [],
   "source": [
    "loader =TextLoader(\"Tatamotors.txt\")\n",
    "data=loader.load()"
   ]
  },
  {
   "cell_type": "code",
   "execution_count": 62,
   "id": "4b6a90c4-de0a-43eb-9170-9ff59130f89e",
   "metadata": {},
   "outputs": [
    {
     "data": {
      "text/plain": [
       "[Document(metadata={'source': 'Tatamotors.txt'}, page_content='Tata Motors\\n\\n\\n\\nTata Motors LimitedHeadquarters in MumbaiFormerlyTata Engineering and Locomotive Company Ltd. (TELCO)Company typePublicTraded asBSE:Â\\xa0500570NSE:Â\\xa0TATAMOTORSBSE SENSEX constituentNSE NIFTY 50 constituentISININ9155A01020IndustryAutomotiveFounded1945; 79Â\\xa0years agoFounderJ. R. D. TataHeadquartersMumbai, Maharashtra, India[1]Area servedWorldwideKey peopleNatarajan Chandrasekaran  (Chairman)P. B. Balaji (CFO)[2]ProductsAutomobilesLuxury vehiclesCommercial vehiclesAutomotive partsPickup trucksSUVsProduction output1.1 million (2021)ServicesAutomotive financeVehicle leasingVehicle serviceRevenue â‚¹443,877 crore (US$53Â\\xa0billion) (2024)[3]Operating income â‚¹28,232 crore (US$3.4Â\\xa0billion) (2024)[3]Net income â‚¹31,806 crore (US$3.8Â\\xa0billion) (2024)[3]Total assets â‚¹370,663 crore (US$44Â\\xa0billion) (2024)[4]Total equity â‚¹93,093 crore (US$11Â\\xa0billion) (2024)[4]Number of employees91,811 (2024)[5]ParentTata GroupSubsidiaries\\nTata Motors Cars\\nJaguar Land Rover\\nTata Daewoo\\nTata Marcopolo\\nTata Technologies\\nTata Hispano\\nTata Hitachi Construction Machinery\\nRatingS&P BB/Stable[6]Websitetatamotors.com\\nTata Motors Limited is an Indian multinational automotive company, headquartered in Mumbai and part of the Tata Group. The company produces cars, trucks, vans, and buses.[7]\\nSubsidiaries include British Jaguar Land Rover and South Korean Tata Daewoo. Tata Motors has joint ventures with Hitachi (Tata Hitachi Construction Machinery) and Stellantis, which makes vehicle parts for Fiat Chrysler and Tata-branded vehicles.\\nTata Motors has auto manufacturing and vehicle plants in Jamshedpur, Pantnagar, Lucknow, Sanand, Dharwad, and Pune in India, as well as in Argentina, South Africa, the United Kingdom, and Thailand. It has research and development centers in Pune, Jamshedpur, Lucknow, Dharwad, India and South Korea, the United Kingdom, and Spain. Tata Motors is listed on the BSE and NSE, and is a constituent of the BSE SENSEX and NIFTY 50 benchmark indices. The company is ranked 265th on the Fortune Global 500 list of the world\\'s biggest corporations as of 2019.[8]\\nOn 17 January 2017, Natarajan Chandrasekaran was appointed chairman of the company Tata Group. Tata Motors increased its UV market share to over 8% in FY2019.[9]\\n\\n\\nHistory[edit]\\nTata Sierra (1991-2000)\\nTata Sumo (1994â€“2019)\\nTata Motors was founded in 1945, as a locomotive manufacturer. Tata Group entered the commercial vehicle sector in 1954 after forming a joint venture with Daimler-Benz of Germany in which Tata developed a manufacturing facility in Jamshedpur for Daimler lorries.[10] By November 1954 Tata and Daimler manufactured their first goods carrier chassis at their Jamshedpur plant with 90-100Â\\xa0hp and capacity of 3-5 tons.[11] After years of dominating the commercial vehicle market in India, Tata Motors entered the passenger vehicle market in 1991 by launching the Tata Sierra, a sport utility vehicle based on the Tata Mobile platform. Tata subsequently launched the Tata Estate (1992; a station wagon design based on the earlier Tata Mobile), the Tata Sumo (1994, a 5-door SUV) and the Tata Safari (1998).[citation needed]\\n\\nTata Indica (first generation)\\nTata launched the Indica in 1998. A newer version of the car, named Indica V2, later appeared. Tata Motors also exported cars to South Africa.[12]\\nIn the 2000s, Tata Motors made a series of acquisitions and partnerships, acquiring Daewoo\\'s South Korea-based truck manufacturing unit,[13] a joint venture with the Brazil-based Marcopolo, Tata Marcopolo Bus,[14] Jaguar Land Rover.,[15][16][17][18] Hispano Carrocera,[19] and an 80% stake in the Italian design and engineering company Trilix.[20]\\nOn 12 October 2021, private equity firm TPG invested $1 billion in Tata Motors\\' electric vehicle subsidiary.[21]\\n\\nOperations[edit]\\nTata Motors has vehicle assembly operations in India, the United Kingdom, South Korea, Thailand, Spain, and South Africa. It plans to establish plants in Turkey, Indonesia, and Eastern Europe.\\n\\nTata Motors Cars[edit]\\n\\nTata Motors Cars is a division of Tata Motors which produces passenger cars under the Tata Motors hood. Tata Motors is among the top five passenger vehicle brands in India with products in the compact, midsize car, and utility vehicle segments.[22] The company\\'s manufacturing base in India is spread across Jamshedpur (Jharkhand), Pune (Maharashtra), Lucknow (Uttar Pradesh), Pantnagar (Uttarakhand), Dharwad (Karnataka) and Sanand (Gujarat). Tata\\'s dealership, sales, service, and spare parts network comprise over 3,500 touchpoints.[22] Tata Motors has more than 250 dealerships in more than 195 cities across 27 states and four Union Territories of India.[23] It has the third-largest sales and service network after Maruti Suzuki and Hyundai.\\nTata also has franchisee/joint venture assembly operations in Kenya, Bangladesh, Ukraine, Russia, and Senegal.[24] Tata has dealerships in 26 countries across 4 continents.[25] Tata is present in many countries, it has managed to create a large consumer base in the Indian subcontinent, namely India, Bangladesh, Bhutan, Sri Lanka and Nepal. Tata is also present in Italy,[26] Spain,[27] Poland,[28] Romania,[29] Turkey,[30] Chile,[31] South Africa,[32] Oman, Kuwait, Qatar, Saudi Arabia, United Arab Emirates, Bahrain, Iraq, Syria and Australia.\\n\\nTata Daewoo[edit]\\n\\nTata LPT Trucks made at overseas plantsTata Daewoo (officially Tata Daewoo Commercial Vehicle Company and formerly Daewoo Commercial Vehicle Company) is a commercial vehicle manufacturer headquartered in Gunsan, Jeollabuk-do South Korea, and a wholly owned subsidiary of Tata Motors. It is the second-largest heavy commercial vehicle manufacturer in South Korea and was acquired by Tata Motors in 2004. The principal reasons behind the acquisition were to reduce Tata\\'s dependence on the Indian commercial vehicle market (which was responsible for around 94% of its sales in the MHCV segment and around 84% in the light commercial vehicle segment) and expand its product portfolio by leveraging on Daewoo\\'s strengths in the heavy-tonnage sector.\\nTata Motors has jointly worked with Tata Daewoo to develop trucks such as Novus and World Truck and buses including GloBus and StarBus. In 2012, Tata began developing a new line to manufacture competitive and fuel-efficient commercial vehicles to face the competition posed by the entry of international brands such as Mercedes-Benz, Volvo, and Navistar into the Indian market.[33]\\n\\nTata Hispano[edit]\\n\\nTata Hispano Motors Carrocera, S.A. was a bus and coach manufacturer based in Zaragoza, Aragon, Spain, and a wholly owned subsidiary of Tata Motors. Tata Hispano has plants in Zaragoza, Spain, and Casablanca, Morocco. Tata Motors first acquired a 21% stake in Hispano Carrocera SA in 2005,[34] and purchased the remaining 79% for an undisclosed sum in 2009, making it a fully owned subsidiary, subsequently renamed Tata Hispano. In 2013, Tata Hispano ceased production at its Zaragoza plant.[35][36]\\n\\nTML Drivelines[edit]\\nTML Drivelines Ltd. is a wholly owned subsidiary of Tata Motors engaged in the manufacture of gearboxes and axles for heavy and medium commercial vehicles. It has production facilities at Jamshedpur and Lucknow.  TML Forge division is also a recent acquisition of TML Drivelines. TML Drivelines was formed through the merger of HV Transmission  and HV Axles.\\n\\nTata Technologies[edit]\\nTata Technologies Limited (TTL) is a 43%-owned subsidiary of Tata Motors which provides design, engineering, and business process outsourcing services to the automotive industry. It is headquartered in Pune\\'s Hinjawadi business district and also has operations in London, Detroit and Thailand. Its clients include Ford, General Motors, Honda, and Toyota.\\nThe British engineering and design services company Incat International, which specialises in engineering and design services and product lifecycle management in the automotive, aerospace, and engineering sectors, is a wholly owned subsidiary of TTL. It was acquired by TTL in August 2005 for â‚¹4 billion.\\nIn 2017, TAL, a subsidiary of Tata Motors, manufactured India\\'s first industrial articulated robot for micro, small, and medium enterprises.[36]\\n\\nEuropean Technical Centre[edit]\\nThe Tata Motors European Technical Centre (TMETC) is an automotive design, engineering, and research company based at WMG, University of Warwick on the campus of the University of Warwick in England. It was established in 2005 and is a wholly owned subsidiary of Tata Motors. It was the joint developer of the World Truck.[37]\\nIn September 2013, it was announced that a new National Automotive Innovation Campus would be built at WMG at Warwick\\'s main campus at a cost of Â£100 million.[38][39] The initiative will be a partnership between Tata Motors, the university, and Jaguar Land Rover, with Â£30 million in funding coming from Tata Motors.[40]\\n\\nSubsidiaries[edit]\\nJaguar Land Rover[edit]\\nRange Rover (L405)\\n\\nLand Rover Defender\\nJaguar Land Rover PLC is a premium British automaker headquartered in Whitley, Coventry, United Kingdom, and has been a wholly owned subsidiary of Tata Motors since June 2008, when it was acquired from Ford Motor Company of USA.[41] Its principal activity is the development, manufacture and sale of Jaguar luxury and sports cars and Land Rover premium four-wheel-drive vehicles.\\nJaguar Land Rover has two design centres and three assembly plants in the United Kingdom. Under Tata ownership, Jaguar Land Rover has launched new vehicles including the Range Rover Evoque, Jaguar F-Type, the Jaguar XE, the Jaguar XJ (X351), the second-generation Range Rover Sport, and Jaguar XF, the fourth-generation Land Rover Discovery, Range Rover Velar  and the Range Rover (L405).\\n\\nLand Rover Discovery Sport\\nJD Power, of the US, rates Land Rover and Jaguar as the two worst brands for initial quality.\\n[42] The Jaguar F-Pace made Consumer Reports February 2019 list of the 10 Least Reliable Cars. The editors cited \"electronics, drive system, power equipment, noises and leaks\" as problematic aspects.[43]\\nThe Jaguar Land Rover subsidiary was struggling by 2019 and Tata Motors wrote down its investment in JLR by $3.9 billion. Much of the financial problem was due to a 50% drop in sales in China during 2019, although the situation was improving. Still, Tata was open to considering a partnership with another company according to a statement in mid-October, as long as the partnership agreement would allow Tata to maintain control of the business. The company ruled out the possibility of a sale of JLR to another entity.[44]\\nIn July 2023, Tata announced its plans to invest Â£4 billion to build an electric car battery factory in the UK, which will be one of the largest of its kind in Europe.[45][46][47] The factory will be the company\\'s first battery production facility outside India.[47] Located in Bridgwater, Somerset, the factory will supply Jaguar Land Rover\\'s future battery electric models, including the Range Rover, Defender, Discovery and Jaguar brands, with the potential to also supply other car manufacturers.[36] Production at the new facility is due to start in 2026.\\n\\nJoint ventures[edit]\\nTata Marcopolo[edit]\\n\\nA Tata Marcopolo bus in use in Chandigarh, India\\nTata Marcopolo is a bus-manufacturing joint venture between Tata Motors (51%) and the Brazil-based Marcopolo S.A. (49%). The joint venture manufactures and assembles fully built buses and coaches targeted at developing mass rapid transportation systems. It uses technology and expertise in chassis and aggregates from Tata Motors, and know-how in processes and systems for bodybuilding and bus body design from Marcopolo. Tata Marcopolo has launched a low-floor city bus which is widely used by transport corporations in many Indian cities. Its manufacturing facility is based in Dharwad, Karnataka State, India and Lucknow, India.\\nTata Motors is expected to buy the 49% stake held by its partner Marcopolo in the bus-making joint venture for â‚¹100 crore by February 2021. The subsidiary will continue with the â€˜Marcopoloâ€™ trademark for a minimum of three years with a non-compete provision in India for a corresponding period.[48]\\n\\nFiat-Tata[edit]\\nFiat-Tata is an India-based joint venture between Tata and Stellantis\\' Fiat which produces Fiat and Tata branded passenger cars, as well as engines and transmissions. Tata Motors has gained access to Fiat\\'s diesel engine and transmission technology through the joint venture.[49]\\nThe two companies formerly also had a distribution joint venture through which Fiat products were sold in India through joint Tata-Fiat dealerships. This distribution arrangement was ended in March 2013; Fiats have since been distributed in India by Fiat Automobiles India Limited, a wholly owned subsidiary of Fiat[50][51] and now Tata Motors.\\n\\nTata Hitachi Construction Machinery[edit]\\n\\nTata Hitachi Construction Machinery is a joint venture between Tata Motors and Hitachi which manufactures excavators and other construction equipment.[citation needed] It was previously known as Telcon Construction Solutions.[citation needed]\\n\\nTata Motors European Technical Centre[edit]\\nThe TATA Motors European Technical Centre is an automotive design, engineering, and research company.[citation needed] Company based at WMG, University of Warwick in the United Kingdom.[citation needed] It was established in 2005 and is wholly owned subsidiary of Tata Motors. It was the joint developer of the World Truck.[citation needed] In September 2013 it was announced that a new National Automotive Innovative Campus would be built at WMG at Warwick\\'s main campus at a cost of 92 million pounds.[52] The initiative will be a partnership between Tata Motors, the university, and Jaguar Land Rover, with the 30 million pounds in funding coming from Tata Motors.[53]\\n\\nHyundai-Tata[edit]\\nTata Motors and Hyundai are in a joint venture to provide  the automatic transmission for Tata Safari & Tata Harrier model.[54]\\n\\nProducts[edit]\\nFor details of Land Rover and Jaguar products, see Jaguar Land Rover.\\n\\nPassenger vehicles[edit]\\n\\nCurrent Models[edit]\\n\\n\\nModel\\n\\nYear of Introduction\\n\\n\\nHatchback\\n\\n\\nTata Tiago\\n\\n2016[55]\\n\\n\\nTata Altroz\\n\\n2020\\n\\n\\nSedan\\n\\n\\nTata Tigor\\n\\n2016\\n\\n\\nSUV/Crossover\\n\\n\\nTata Punch\\n\\n2021\\n\\n\\nTata Nexon\\n\\n2017\\n\\n\\nTata Harrier\\n\\n2018\\n\\n\\nTata Safari\\n\\n2021\\n\\n\\nElectric\\n\\n\\nTata Nexon EV\\n\\n2020\\n\\n\\nTata Tigor EV\\n\\n2021\\n\\n\\nTata Tiago EV\\n\\n2022\\n\\n\\nTata Punch EV\\n\\n2023\\n\\nCommercial vehicles[edit]\\nTata Ace\\nTata Ace Zip\\nTata Ace EV\\nTata Super Ace\\nTata Intra\\nTata Intra V10\\nTata Intra V20\\nTata Intra V30\\nTata Intra V50\\nTata Xenon XT\\nTata Yodha\\nTata Ace Mega\\nTata Iris\\nTata TL/Telcoline/207 Pick-up truck\\nTata 407 Ex and Ex2\\nTata 709 Ex\\nTata 807 (Steel cabin chassis, cowl chassis, medium bus chassis, steel cabin + steel body chassis)\\nTata 809 Ex and Ex2\\nTata 909 Ex and Ex2\\nTata 1210 SE and SFC (Semi Forward)\\nTata 1210 LP (Long Plate)\\nTata 1109 (Intermediate truck/ LCV bus)\\nTata 1512c (Medium bus chassis)\\nTata 1515c/1615 (Medium bus chassis)\\nTata 1612c/1616c/1618c (Heavy bus chassis)\\nTata 1618 (Semilow-floor bus chassis)\\nTata 1623 (Rear-engined low-floor bus chassis)\\nTata 1518C (Medium truck) 10 ton\\nTata 1613/1615c (Medium truck)\\nTata 1616/1618c (Heavy duty truck)\\nTata 2515c/2516c/2518c (Heavy duty 10-wheeler truck)\\nTata Starbus (Branded buses for city, intercity, school bus, and standard passenger transportation)\\nTata Divo (Hispano Divo)\\nTata CityRide (12- to 20-seater buses for intracity use)\\nTata 3015 (Heavy truck)\\nTata 3118 (Heavy truck) (8Ã—2)\\nTata 3516 (Heavy truck)\\nTata 4018 (Heavy truck)\\nTata 4923 (Ultraheavy truck) (6Ã—4)\\nTata Novus\\nTata Prima\\nTata SIGNA series\\nTata Ultra series (ICV Segment)\\nTata Winger - (Maxivan)\\nElectric vehicles[edit]\\nTata Motors has unveiled electric versions of the Tata Indica passenger car powered by TM4 electric motors and inverters,[56] as well as the Tata Ace commercial vehicle, both of which run on lithium batteries which launched in 2022.\\nIn 2008 Tata Motors\\' UK subsidiary, Tata Motors European Technical Centre, bought a 50.3% holding in electric vehicle technology firm MiljÃ¸bil Grenland/Innovasjon of Norway for US$1.93 million, and planned to launch the electric Indica hatchback in Europe the following year.[57][58][59] In September 2010, Tata Motors presented four CNGâ€“Electric Hybrid low-floored Starbuses to the Delhi Transport Corporation, to be used during the 2010 Commonwealth Games. These were the first environmentally friendly buses to be used for public transportation in India.\\nIn December 2019, Tata Motors unveiled the Nexon EV, an SUV with a 30.2KWh lithium-ion battery and a consistent range of 312Â\\xa0km on a single charge. It is also equipped with fast charging technology, which can charge the vehicle from 0% - 80% in 60 minutes.[60] With 525 units of Nexon EV sold in India last month, Tata Nexon EV[61] was the best-selling electric car in the month of April 2021 in India.\\nTata Passenger Electric Mobility is a subsidiary which produces electric cars under the brand name Tata Motors.[62]\\nList of Tata electric vehicles:\\n\\nTata Nexon EV\\nTata Tigor EV\\nTata Altroz EV\\nTata Tiago EV\\nTata Ace EV\\nTata Punch EV[63]\\nElectric Vehicle Concepts[edit]\\nTata Curvv\\nTata Avinya\\nTata EVision\\nHarrier.ev\\nSierra.ev[64]\\nDiscontinued Models[edit]\\nTata Telcoline (1988â€“2010)\\nTata Sierra (1991â€“2003)\\nTata Estate (1992â€“2000)\\nTata Sumo (1994â€“2019)\\nTata Indica (1998â€“2015)\\nTata Spacio (2000-2011)\\nTata Indigo (2002â€“2015)\\nTata Indigo Marina (2006â€“2009)\\nTata Xenon (2007â€“2018)\\nTata Sumo Grande (2008â€“2016)\\nTata Vista (2008â€“2015)\\nTata Nano (2008â€“2018)\\nTata Manza (2011â€“2016)[65]\\nTata Venture (2010â€“2017)\\nTata Aria (2010â€“2017)\\nTata Zest (2014â€“2020)\\nTata Bolt (2014â€“2019)\\nTata Hexa (2017â€“2020)\\nNotable vehicles[edit]\\nTata Nano[edit]\\n\\nTata Nano is often cited as the world\\'s most affordable car\\nThe Nano was launched in 2009 as a city car intended to appeal as an affordable alternative to the section of the Indian populace that is primarily the owner of motorcycles and has not bought their first car. Initially priced at â‚¹100,000 (US$1,500), the vehicle attracted a lot of attention for its relatively low price. However, the Nano was very poorly rated for safety[66][67] and in 2018, Cyrus Mistry, chairman of the Tata Group, called the Tata Nano a failed project, with production ending in May 2018.[68]\\n\\nTata Ace[edit]\\n\\nTata Super Ace\\nTata Ace, India\\'s first indigenously developed sub-one-ton minitruck, was launched in May 2005. The minitruck was a huge success in India with auto analysts claiming that Ace had changed the dynamics of the light commercial vehicle  (LCV) market in the country by creating a new market segment termed the small commercial vehicle  segment. Ace rapidly emerged as the first choice for transporters and single truck owners for city and rural transport.\\nBy October 2005, LCV sales of Tata Motors had grown by 36.6% to 28,537 units due to the rising demand for Ace. The Ace was built with a load body produced by Autoline Industries.[69]\\nBy 2005, Autoline was producing 300 load bodies per day for Tata Motors. Ace is still a top seller for TML with 500,000 units sold by June 2010.[70] In 2011, Tata Motors invested Rs 1000 crore in Dharwad Plant, Karnataka, with the capacity of 90,000 units annually and launched two models of 0.5-T capacity as Tata Ace Zip, Magic Iris.[71] Ace has also been exported to several Asian, European, South American, and African countries and all-electric models are sold through Polaris Industries\\' Global Electric Motorcars division. In Sri Lanka, it is sold through Diesel & Motor Engineering (DIMO) PLC under the name of DIMO Batta.\\n\\nTata Prima[edit]\\n\\nA Tata Prima 4928.S in Assam, India\\nTata Prima is a range of heavy trucks first introduced in 2008 as the company\\'s \\'global\\' truck. Tata Prima was the winner of the \\'Commercial Vehicle of the Year\\' at the Apollo Commercial Vehicles Awards, 2010 and 2012.\\n\\nTata 407[edit]\\n\\nA Tata 407 being used as water truck\\nThe Tata 407 is a light commercial vehicle (LCV) that has sold over 500,000 units since its launch in 1986.[72] In India, this vehicle dominates market share of the LCV category, accounting for close to 75% of LCV sales. The 407 model range includes trucks, tippers, pick-ups and vehicles for agri/food products, construction, light mining and services.[73]\\n\\nTata Harrier[edit]\\n\\nTata Harrier\\nTata Harrier is a 5-seater SUV that rivals the MG Hector and Jeep Compass. This car uses the engine from Fiat which is a 2.0 L-4 cylinder turbocharged diesel motor and transmission from Hyundai which is a 6-speed, available in both manual and automatic. Tata Harrier is derived from the H5X Concept displayed at the 2018 Auto Expo. It was launched on 23 January 2019.[74]\\nThe car is a C-segment crossover SUV based on the OmegaArc platform, an essentially re-engineered version of the Jaguar Land Rover D8 platform.[75] A petrol variant of the Harrier is confirmed to launch in 2022â€“23.[76]\\nTata Harrier is also available in Nepal with the name H5.\\n\\nTata Nexon[edit]\\n\\nTata Nexon\\nThe Tata Nexon is a subcompact crossover SUV produced by Tata Motors since 2017. It is the first crossover SUV from Tata Motors, and occupies the sub-4 metre crossover SUV segment in India.[77] The electric version of the Nexon was revealed on 19 December 2019. The Nexon EV uses components from Tata Motors\\' electric vehicle technology brand Ziptron. The electric motor produces 94.7Â\\xa0kW (127Â\\xa0hp; 129Â\\xa0PS) and 245Â\\xa0Nâ‹…m (181Â\\xa0lbfâ‹…ft) of torque and 0 - 100 under 9.9 seconds. It has a 30.2 kWh battery with an ARAI rated range of up to 312Â\\xa0km.[78]\\nThe battery can be fully charged in under 8 hours using a complimentary AC charger. It can also be charged using a 15-ampere power cable that can be used at any place with the necessary power socket. DC 25Â\\xa0kW fast charging can be used to charge the battery from 0 to 80% in 1 hour.[79]\\n\\nRestructuring[edit]\\nIn March 2024, Tata Motors announced plans to undergo a significant restructuring by splitting into two separate listed entities. This strategic move aims to enhance operational efficiencies and focus on distinct business segments. The demerger is expected to allow each entity to pursue tailored growth strategies and attract specific investor bases. The announcement was well-received by the market, with Tata Motors\\' stock experiencing a notable jump following the news.[80][81][82]\\n\\nSee also[edit]\\nList of companies of India\\nList of largest companies by revenue\\nList of corporations by market capitalisation\\nMake in India\\nForbes Global 2000\\nFortune India 500\\nAutomotive industry in India\\nTata Revotron engine\\nReferences[edit]\\n\\n^ \"Contact Us - Tata Motors Limited\". www.tatamotors.com. 14 October 2015. Archived from the original on 4 May 2019. Retrieved 30 July 2018.\\n\\n^ \"Tata Motors Ltd\". Reuters. Retrieved 19 May 2024.\\n\\n^ Jump up to: a b c \"Tata Motors Ltd. Financial Statements\" (PDF). bseindia.com.\\n\\n^ Jump up to: a b \"Tata Motors Consolidated Balance Sheet, Tata Motors Financial Statement & Accounts\" (PDF). www.bseindia.com.\\n\\n^ \"Tata Motors\" (PDF). Tata Motors. May 2022. Retrieved 1 June 2024. Employees: 50,837\\n\\n^ cite news|url=https://www.business-standard.com/amp/companies/news/s-p-upgrades-tata-motors-long-term-issuer-issue-credit-ratings-to-bb-123042600194_1.html%7Cwebsite=business-standard.com\\n\\n^ \"Financials of Tata Motors Limited\". CNN. Archived from the original on 16 October 2013.\\n\\n^ \"Fortune Global 500 list\". Archived from the original on 7 August 2019. Retrieved 18 October 2019.\\n\\n^ \"Tata Motors Market Share\". Auto Car Professional. Retrieved 2 April 2019.\\n\\n^ \"More Special A Licences Granted | 12th March 1954 | The Commercial Motor Archive\". archive.commercialmotor.com. Retrieved 30 May 2023.\\n\\n^ \"Government Viewâ€¢ On RoadsÂ\\xa0: Big Extension of Construction? | 12th November 1954 | The Commercial Motor Archive\". archive.commercialmotor.com. Retrieved 30 May 2023.\\n\\n^ \"Tata Milestones\". Archived from the original on 6 December 2010. Retrieved 22 March 2009.\\n\\n^ \"Tata Motors completes acquisition of Daewoo Commercial Vehicle Company\". Tata Motors. Archived from the original on 8 February 2010. Retrieved 7 October 2010.\\n\\n^ \"Tata Motors, Brazil co form joint venture\". The Hindu Business Line. Archived from the original on 10 October 2010. Retrieved 7 October 2010.\\n\\n^ \"Ford Motor Company Announces Agreement to Sell Jaguar Land Rover to Tata Motors\" (Press release). Ford Motor Company. 26 March 2008. Archived from the original on 12 June 2008. Retrieved 27 March 2008.\\n\\n^ \"Tata Motors enters into Definitive Agreement with Ford for purchase of Jaguar Land Rover\" (Press release). Tata Motors. 26 March 2008. Archived from the original on 5 December 2010. Retrieved 27 March 2008.\\n\\n^ Lewin, Tony (27 March 2008). \"Classic names are part of Tata deal\". Automotive News. Crain Communications. Archived from the original on 28 March 2008. Retrieved 18 May 2008.\\n\\n^ \"Tata Motors completes acquisition of Jag, Land Rover\". Thomson Reuters. 2 June 2008. Archived from the original on 29 December 2008. Retrieved 2 June 2008.\\n\\n^ \"Tata Motors acquires control of Hispano Carrocera\". Business-Standard. 20 October 2009. Archived from the original on 21 April 2010. Retrieved 20 October 2011.\\n\\n^ \"Tata Motors acquires 80% stake in Italy\\'s Trilix\". Money Control. Archived from the original on 10 October 2010. Retrieved 7 October 2010.\\n\\n^ Barman, Arijit (12 October 2021). \"TPG - Tata Motors: TPG drives into Tata Motors EV business with $1 billion investment\". The Economic Times. Retrieved 13 October 2021.\\n\\n^ Jump up to: a b \"Tata Motors\". Tata Motors. Archived from the original on 11 January 2011. Retrieved 4 June 2009.\\n\\n^ \"Booking Center Locator\". tatanano.inservices.tatamotors.com. Archived from the original on 25 March 2009. Retrieved 15 January 2022.\\n\\n^ \"Tata Motors InternationalÂ\\xa0: CompanyÂ\\xa0: Profile\". Tatacarsworldwide.com. Archived from the original on 4 March 2009. Retrieved 4 June 2009.\\n\\n^ \"Tata Motors InternationalÂ\\xa0: Global Network\". Tatacarsworldwide.com. Archived from the original on 15 July 2009. Retrieved 4 June 2009.\\n\\n^ \"Tata Motors -\". Tata Motors. Archived from the original on 27 May 2017. Retrieved 27 September 2017.\\n\\n^ \"Tata Motors EspaÃ±a. Coches Tata - Coches Nuevos y Nuevas Ofertas de Tata\". Tatamotors.es. Archived from the original on 11 October 2007. Retrieved 28 June 2015.\\n\\n^ \"Start - sklep internetowy Tata Motors POLSKA\". tatamotor.com.pl. Archived from the original on 28 September 2017. Retrieved 27 September 2017.\\n\\n^ \"Davossi\". Davossi.ro. Archived from the original on 1 August 2015. Retrieved 28 June 2015.\\n\\n^ \"Tata TÃ¼rkÄ±ye\". Tata.com.tr. Archived from the original on 12 January 2008. Retrieved 28 June 2015.\\n\\n^ \"Tata Motors\". Tata-motors.cl. Archived from the original on 9 August 2011. Retrieved 28 June 2015.\\n\\n^ \"Tata Homepage - Tata South Africa\". Tata.co.za. Archived from the original on 26 June 2015. Retrieved 28 June 2015.\\n\\n^ \"Tatas readying new line of CVs to take on competition\". 14 July 2012. Archived from the original on 17 July 2012. Retrieved 14 July 2012.\\n\\n^ \"Hispano\". Hispano-net.com. Archived from the original on 28 September 2010. Retrieved 11 October 2010.\\n\\n^ \"Media - Tata Motors Limited\". 10 September 2015. Archived from the original on 28 September 2017. Retrieved 27 September 2017.\\n\\n^ Jump up to: a b c Mondal, Manisha. \"Robotic hand rocks manufacturing cradle\". The Hindu. Retrieved 11 April 2017.\\n\\n^ \"Tata Motors Unveils New Range Of Trucks\". Motorbeam.com. 29 May 2009. Archived from the original on 1 June 2009. Retrieved 4 June 2009.\\n\\n^ \"Â£100m investment boost for Warwick University\". The Independent. 25 September 2013. Archived from the original on 29 September 2013. Retrieved 29 September 2013.\\n\\n^ \"University of Warwick Â£100m car centre \\'will secure jobs\\'\". BBC. 24 September 2013. Archived from the original on 28 September 2013. Retrieved 29 September 2013.\\n\\n^ \"Tata Motors confirms Â£30m investment in UK R&D centre\". The Engineer. 3 December 2013. Archived from the original on 29 November 2014. Retrieved 27 February 2014.\\n\\n^ Rutherford, Mike (29 March 2008). \"Mike Rutherford ponders Tata\\'s takeover of Land Rover and Jaguar\". The Daily Telegraph. Archived from the original on 8 April 2008. Retrieved 30 July 2008.\\n\\n^ McIntyre, Douglas A. (24 June 2019). \"And the Worst New Car Sold in America Isâ€¦\". MSN. Microsoft News. Retrieved 25 June 2019.\\n\\n^ Linkov, Jon; Elek, Steven (18 November 2021). \"10 Least Reliable Cars\". Consumer Reports. Archived from the original on 7 October 2019.\\n\\n^ Trudell, Craig; Coppola, Gabrielle; Kotoky, Anurag (15 October 2019). \"Tata Looks for Jaguar Land Rover Partners, but Rules Out Sale\". Bloomberg. Archived from the original on 17 October 2019.\\n\\n^ \"Tata Group confirms plans to build gigafactory for batteries in the UK\". Sky News. Retrieved 20 July 2023.\\n\\n^ Ralph, Alex (20 July 2023). \"Tata to build Â£4bn gigafactory in Somerset\". The Times. ISSNÂ\\xa00140-0460. Retrieved 20 July 2023.\\n\\n^ Jump up to: a b \"Tata confirms Somerset will host Â£4bn battery factory\". BBC News. 28 February 2024. Retrieved 28 February 2024.\\n\\n^ \"Tata Motors To Buy Remaining 49% Share In Tata Marcopolo Motors For Nearly â‚¹ 100 Crore\". Retrieved 23 December 2020.\\n\\n^ \"Fiat, Tata Motors set up joint venture\". timesofmalta.com. 21 October 2007. Archived from the original on 18 November 2007. Retrieved 1 April 2008.\\n\\n^ \"Fiat to complete split from Tata in sales ops by Mar 2013\". Business Standard. 19 September 2012. Archived from the original on 12 January 2014. Retrieved 12 January 2014.\\n\\n^ \"After split with Tata Motors, Fiat begins its solo India ride\". The Economic Times. 11 April 2013. Archived from the original on 12 January 2014. Retrieved 12 January 2014.\\n\\n^ \"Â£92 million National Automotive Innovation Campus to be built at University of Warwick\". warwick.ac.uk. Retrieved 6 October 2020.\\n\\n^ \"Tata Motors European technical centre demonstrates latest mobility technology on the Tata HEXA\". Automotive World. Archived from the original on 10 January 2019. Retrieved 9 January 2018.\\n\\n^ \"How Good Is All New Tata Safari 2023\". Motorlane. 12 November 2023.\\n\\n^ www.ETAuto.com. \"Tata Tiago to be launched on April 6 - ET Auto\". ETAuto.com. Retrieved 27 February 2024.\\n\\n^ \"Customers\". TM4. Archived from the original on 30 June 2015. Retrieved 28 June 2015.\\n\\n^ \"TMETC acquires 50.3 per cent stake in Norway\\'s Miljo Grenland/Innovasjon; to launch first electric vehicle\". Tata.com. 14 October 2008. Archived from the original on 30 July 2013. Retrieved 2 May 2009.\\n\\n^ \"Tata Motors European Technical Centre\". Tata.com. Archived from the original on 24 January 2009. Retrieved 2 May 2009.\\n\\n^ \"Tata to launch EV next year\". Just-auto.com. 14 October 2008. Archived from the original on 29 March 2009. Retrieved 2 May 2009.\\n\\n^ \"Tata Nexon EV - India\\'s Own Electric Compact SUV Powered by Ziptron\". Tata Nexon EV - India\\'s Own Electric Compact SUV Powered by Ziptron. Retrieved 28 July 2020.\\n\\n^ \"Tata Nexon EV was India\\'s best-selling electric car in April 2021\". www.timesnownews.com. 20 May 2021. Retrieved 25 June 2021.\\n\\n^ \"Archived copy\". Archived from the original on 8 January 2016. Retrieved 28 June 2015.{{cite web}}:  CS1 maint: archived copy as title (link)\\n\\n^ \"Punch.ev\". ev.tatamotors.com. Retrieved 22 January 2024.\\n\\n^ \"TATA Motors EV\". ev.tatamotors.com. Retrieved 22 January 2024.\\n\\n^ \"Tata Manza [2011-2015] - Manza [2011-2015] Price, Specs, Images, Colours\". www.cartrade.com. Retrieved 28 February 2024.\\n\\n^ \"Tata Nano safety under scrutiny after dire crash test results\". Guardian. 31 January 2014. Retrieved 9 September 2017.\\n\\n^ \"Tata Nano falls short of global crash test standards â€“ video\". Guardian. 31 January 2014. Retrieved 9 September 2017.\\n\\n^ \"Air Asia Case Puts Spotlight Once Again on Cyrus Mistry\\'s \\'Legacy Hotspots\\'\". The Wire. Archived from the original on 9 July 2018. Retrieved 5 June 2018.\\n\\n^ \"Autoline - A Stamp of Perfection\". 9 February 2008. Archived from the original on 9 February 2008. Retrieved 27 September 2017.\\n\\n^ \"tatamotors\". Tatamotors. 14 March 2012. Archived from the original on 9 February 2008. Retrieved 8 August 2012.\\n\\n^ \"Autoline\". 9 February 2008. Archived from the original on 9 February 2008. Retrieved 11 October 2010.\\n\\n^ \"TATA Motors Annual Report 2011â€“2012\". Tatamotors.com. Archived from the original on 8 January 2016. Retrieved 28 June 2015.\\n\\n^ \"Tata Light Commercial Vehicles\". Tata Motors.\\n\\n^ \"2019 Tata Harrier launched in India, priced at Rs 12.69 lakh\". Archived from the original on 21 March 2019. Retrieved 21 March 2019.\\n\\n^ \"OMEGA-Arc: What defines Tata Harrier is the platform, here\\'s how it\\'s different\". The Financial Express. 12 December 2020. Retrieved 12 January 2021.\\n\\n^ \"Tata confirms Harrier petrol\". Autocar India. Retrieved 12 January 2021.\\n\\n^ Dhingra, Mayank (21 September 2017). \"Tata Motors launches Nexon compact SUV at Rs 585,000\". Autocar Professional India. Retrieved 5 March 2021.\\n\\n^ \"Tata Nexon EV debuts with 300 km range\". autocarindia.com. Retrieved 8 March 2021.\\n\\n^ \"Tata Nexon EV Review\". news18. 17 January 2021. Retrieved 17 January 2021.\\n\\n^ \"India\\'s Tata Motors jumps on plans to split into two listed firms\". Reuters. 5 March 2024. Retrieved 6 March 2024.\\n\\n^ \"Explained: What Tata Motors\\' demerger plan means for the company and its shareholders\". Indian Express. 5 March 2024. Retrieved 6 March 2024.\\n\\n^ \"Tata Motors stock check: How does the demerger impact its fundamental and technical outlook for long-term\". Livemint. Retrieved 6 March 2024.\\n\\n\\nExternal links[edit]\\n\\n\\nOfficial website\\n\\n\\n\\n\\n\\n\\n\\n\\n')]"
      ]
     },
     "execution_count": 62,
     "metadata": {},
     "output_type": "execute_result"
    }
   ],
   "source": [
    "data"
   ]
  },
  {
   "cell_type": "code",
   "execution_count": 63,
   "id": "9e5d2e50-2c7c-4705-8cc3-9e6c50e857c3",
   "metadata": {},
   "outputs": [
    {
     "data": {
      "text/plain": [
       "list"
      ]
     },
     "execution_count": 63,
     "metadata": {},
     "output_type": "execute_result"
    }
   ],
   "source": [
    "type(data)"
   ]
  },
  {
   "cell_type": "code",
   "execution_count": 64,
   "id": "31ad088a-dec0-4df2-ac1b-60171c1b1f4a",
   "metadata": {},
   "outputs": [
    {
     "data": {
      "text/plain": [
       "1"
      ]
     },
     "execution_count": 64,
     "metadata": {},
     "output_type": "execute_result"
    }
   ],
   "source": [
    "len(data)"
   ]
  },
  {
   "cell_type": "code",
   "execution_count": 65,
   "id": "241a9850-92f0-4a5b-a394-765c46523e53",
   "metadata": {},
   "outputs": [
    {
     "data": {
      "text/plain": [
       "langchain_core.documents.base.Document"
      ]
     },
     "execution_count": 65,
     "metadata": {},
     "output_type": "execute_result"
    }
   ],
   "source": [
    "type(data[0])\n"
   ]
  },
  {
   "cell_type": "code",
   "execution_count": 66,
   "id": "78a06c3f-4ce2-4e2d-8426-4f5b0b361286",
   "metadata": {},
   "outputs": [
    {
     "data": {
      "text/plain": [
       "{'source': 'Tatamotors.txt'}"
      ]
     },
     "execution_count": 66,
     "metadata": {},
     "output_type": "execute_result"
    }
   ],
   "source": [
    "data[0].metadata"
   ]
  },
  {
   "cell_type": "code",
   "execution_count": 67,
   "id": "ed4a8052-2366-4676-b3cc-85868476c7af",
   "metadata": {},
   "outputs": [
    {
     "data": {
      "text/plain": [
       "'Tata Motors\\n\\n\\n\\nTata Motors LimitedHeadquarters in MumbaiFormerlyTata Engineering and Locomotive Company Ltd. (TELCO)Company typePublicTraded asBSE:Â\\xa0500570NSE:Â\\xa0TATAMOTORSBSE SENSEX constituentNSE NIFTY 50 constituentISININ9155A01020IndustryAutomotiveFounded1945; 79Â\\xa0years agoFounderJ. R. D. TataHeadquartersMumbai, Maharashtra, India[1]Area servedWorldwideKey peopleNatarajan Chandrasekaran  (Chairman)P. B. Balaji (CFO)[2]ProductsAutomobilesLuxury vehiclesCommercial vehiclesAutomotive partsPickup trucksSUVsProduction output1.1 million (2021)ServicesAutomotive financeVehicle leasingVehicle serviceRevenue â‚¹443,877 crore (US$53Â\\xa0billion) (2024)[3]Operating income â‚¹28,232 crore (US$3.4Â\\xa0billion) (2024)[3]Net income â‚¹31,806 crore (US$3.8Â\\xa0billion) (2024)[3]Total assets â‚¹370,663 crore (US$44Â\\xa0billion) (2024)[4]Total equity â‚¹93,093 crore (US$11Â\\xa0billion) (2024)[4]Number of employees91,811 (2024)[5]ParentTata GroupSubsidiaries\\nTata Motors Cars\\nJaguar Land Rover\\nTata Daewoo\\nTata Marcopolo\\nTata Technologies\\nTata Hispano\\nTata Hitachi Construction Machinery\\nRatingS&P BB/Stable[6]Websitetatamotors.com\\nTata Motors Limited is an Indian multinational automotive company, headquartered in Mumbai and part of the Tata Group. The company produces cars, trucks, vans, and buses.[7]\\nSubsidiaries include British Jaguar Land Rover and South Korean Tata Daewoo. Tata Motors has joint ventures with Hitachi (Tata Hitachi Construction Machinery) and Stellantis, which makes vehicle parts for Fiat Chrysler and Tata-branded vehicles.\\nTata Motors has auto manufacturing and vehicle plants in Jamshedpur, Pantnagar, Lucknow, Sanand, Dharwad, and Pune in India, as well as in Argentina, South Africa, the United Kingdom, and Thailand. It has research and development centers in Pune, Jamshedpur, Lucknow, Dharwad, India and South Korea, the United Kingdom, and Spain. Tata Motors is listed on the BSE and NSE, and is a constituent of the BSE SENSEX and NIFTY 50 benchmark indices. The company is ranked 265th on the Fortune Global 500 list of the world\\'s biggest corporations as of 2019.[8]\\nOn 17 January 2017, Natarajan Chandrasekaran was appointed chairman of the company Tata Group. Tata Motors increased its UV market share to over 8% in FY2019.[9]\\n\\n\\nHistory[edit]\\nTata Sierra (1991-2000)\\nTata Sumo (1994â€“2019)\\nTata Motors was founded in 1945, as a locomotive manufacturer. Tata Group entered the commercial vehicle sector in 1954 after forming a joint venture with Daimler-Benz of Germany in which Tata developed a manufacturing facility in Jamshedpur for Daimler lorries.[10] By November 1954 Tata and Daimler manufactured their first goods carrier chassis at their Jamshedpur plant with 90-100Â\\xa0hp and capacity of 3-5 tons.[11] After years of dominating the commercial vehicle market in India, Tata Motors entered the passenger vehicle market in 1991 by launching the Tata Sierra, a sport utility vehicle based on the Tata Mobile platform. Tata subsequently launched the Tata Estate (1992; a station wagon design based on the earlier Tata Mobile), the Tata Sumo (1994, a 5-door SUV) and the Tata Safari (1998).[citation needed]\\n\\nTata Indica (first generation)\\nTata launched the Indica in 1998. A newer version of the car, named Indica V2, later appeared. Tata Motors also exported cars to South Africa.[12]\\nIn the 2000s, Tata Motors made a series of acquisitions and partnerships, acquiring Daewoo\\'s South Korea-based truck manufacturing unit,[13] a joint venture with the Brazil-based Marcopolo, Tata Marcopolo Bus,[14] Jaguar Land Rover.,[15][16][17][18] Hispano Carrocera,[19] and an 80% stake in the Italian design and engineering company Trilix.[20]\\nOn 12 October 2021, private equity firm TPG invested $1 billion in Tata Motors\\' electric vehicle subsidiary.[21]\\n\\nOperations[edit]\\nTata Motors has vehicle assembly operations in India, the United Kingdom, South Korea, Thailand, Spain, and South Africa. It plans to establish plants in Turkey, Indonesia, and Eastern Europe.\\n\\nTata Motors Cars[edit]\\n\\nTata Motors Cars is a division of Tata Motors which produces passenger cars under the Tata Motors hood. Tata Motors is among the top five passenger vehicle brands in India with products in the compact, midsize car, and utility vehicle segments.[22] The company\\'s manufacturing base in India is spread across Jamshedpur (Jharkhand), Pune (Maharashtra), Lucknow (Uttar Pradesh), Pantnagar (Uttarakhand), Dharwad (Karnataka) and Sanand (Gujarat). Tata\\'s dealership, sales, service, and spare parts network comprise over 3,500 touchpoints.[22] Tata Motors has more than 250 dealerships in more than 195 cities across 27 states and four Union Territories of India.[23] It has the third-largest sales and service network after Maruti Suzuki and Hyundai.\\nTata also has franchisee/joint venture assembly operations in Kenya, Bangladesh, Ukraine, Russia, and Senegal.[24] Tata has dealerships in 26 countries across 4 continents.[25] Tata is present in many countries, it has managed to create a large consumer base in the Indian subcontinent, namely India, Bangladesh, Bhutan, Sri Lanka and Nepal. Tata is also present in Italy,[26] Spain,[27] Poland,[28] Romania,[29] Turkey,[30] Chile,[31] South Africa,[32] Oman, Kuwait, Qatar, Saudi Arabia, United Arab Emirates, Bahrain, Iraq, Syria and Australia.\\n\\nTata Daewoo[edit]\\n\\nTata LPT Trucks made at overseas plantsTata Daewoo (officially Tata Daewoo Commercial Vehicle Company and formerly Daewoo Commercial Vehicle Company) is a commercial vehicle manufacturer headquartered in Gunsan, Jeollabuk-do South Korea, and a wholly owned subsidiary of Tata Motors. It is the second-largest heavy commercial vehicle manufacturer in South Korea and was acquired by Tata Motors in 2004. The principal reasons behind the acquisition were to reduce Tata\\'s dependence on the Indian commercial vehicle market (which was responsible for around 94% of its sales in the MHCV segment and around 84% in the light commercial vehicle segment) and expand its product portfolio by leveraging on Daewoo\\'s strengths in the heavy-tonnage sector.\\nTata Motors has jointly worked with Tata Daewoo to develop trucks such as Novus and World Truck and buses including GloBus and StarBus. In 2012, Tata began developing a new line to manufacture competitive and fuel-efficient commercial vehicles to face the competition posed by the entry of international brands such as Mercedes-Benz, Volvo, and Navistar into the Indian market.[33]\\n\\nTata Hispano[edit]\\n\\nTata Hispano Motors Carrocera, S.A. was a bus and coach manufacturer based in Zaragoza, Aragon, Spain, and a wholly owned subsidiary of Tata Motors. Tata Hispano has plants in Zaragoza, Spain, and Casablanca, Morocco. Tata Motors first acquired a 21% stake in Hispano Carrocera SA in 2005,[34] and purchased the remaining 79% for an undisclosed sum in 2009, making it a fully owned subsidiary, subsequently renamed Tata Hispano. In 2013, Tata Hispano ceased production at its Zaragoza plant.[35][36]\\n\\nTML Drivelines[edit]\\nTML Drivelines Ltd. is a wholly owned subsidiary of Tata Motors engaged in the manufacture of gearboxes and axles for heavy and medium commercial vehicles. It has production facilities at Jamshedpur and Lucknow.  TML Forge division is also a recent acquisition of TML Drivelines. TML Drivelines was formed through the merger of HV Transmission  and HV Axles.\\n\\nTata Technologies[edit]\\nTata Technologies Limited (TTL) is a 43%-owned subsidiary of Tata Motors which provides design, engineering, and business process outsourcing services to the automotive industry. It is headquartered in Pune\\'s Hinjawadi business district and also has operations in London, Detroit and Thailand. Its clients include Ford, General Motors, Honda, and Toyota.\\nThe British engineering and design services company Incat International, which specialises in engineering and design services and product lifecycle management in the automotive, aerospace, and engineering sectors, is a wholly owned subsidiary of TTL. It was acquired by TTL in August 2005 for â‚¹4 billion.\\nIn 2017, TAL, a subsidiary of Tata Motors, manufactured India\\'s first industrial articulated robot for micro, small, and medium enterprises.[36]\\n\\nEuropean Technical Centre[edit]\\nThe Tata Motors European Technical Centre (TMETC) is an automotive design, engineering, and research company based at WMG, University of Warwick on the campus of the University of Warwick in England. It was established in 2005 and is a wholly owned subsidiary of Tata Motors. It was the joint developer of the World Truck.[37]\\nIn September 2013, it was announced that a new National Automotive Innovation Campus would be built at WMG at Warwick\\'s main campus at a cost of Â£100 million.[38][39] The initiative will be a partnership between Tata Motors, the university, and Jaguar Land Rover, with Â£30 million in funding coming from Tata Motors.[40]\\n\\nSubsidiaries[edit]\\nJaguar Land Rover[edit]\\nRange Rover (L405)\\n\\nLand Rover Defender\\nJaguar Land Rover PLC is a premium British automaker headquartered in Whitley, Coventry, United Kingdom, and has been a wholly owned subsidiary of Tata Motors since June 2008, when it was acquired from Ford Motor Company of USA.[41] Its principal activity is the development, manufacture and sale of Jaguar luxury and sports cars and Land Rover premium four-wheel-drive vehicles.\\nJaguar Land Rover has two design centres and three assembly plants in the United Kingdom. Under Tata ownership, Jaguar Land Rover has launched new vehicles including the Range Rover Evoque, Jaguar F-Type, the Jaguar XE, the Jaguar XJ (X351), the second-generation Range Rover Sport, and Jaguar XF, the fourth-generation Land Rover Discovery, Range Rover Velar  and the Range Rover (L405).\\n\\nLand Rover Discovery Sport\\nJD Power, of the US, rates Land Rover and Jaguar as the two worst brands for initial quality.\\n[42] The Jaguar F-Pace made Consumer Reports February 2019 list of the 10 Least Reliable Cars. The editors cited \"electronics, drive system, power equipment, noises and leaks\" as problematic aspects.[43]\\nThe Jaguar Land Rover subsidiary was struggling by 2019 and Tata Motors wrote down its investment in JLR by $3.9 billion. Much of the financial problem was due to a 50% drop in sales in China during 2019, although the situation was improving. Still, Tata was open to considering a partnership with another company according to a statement in mid-October, as long as the partnership agreement would allow Tata to maintain control of the business. The company ruled out the possibility of a sale of JLR to another entity.[44]\\nIn July 2023, Tata announced its plans to invest Â£4 billion to build an electric car battery factory in the UK, which will be one of the largest of its kind in Europe.[45][46][47] The factory will be the company\\'s first battery production facility outside India.[47] Located in Bridgwater, Somerset, the factory will supply Jaguar Land Rover\\'s future battery electric models, including the Range Rover, Defender, Discovery and Jaguar brands, with the potential to also supply other car manufacturers.[36] Production at the new facility is due to start in 2026.\\n\\nJoint ventures[edit]\\nTata Marcopolo[edit]\\n\\nA Tata Marcopolo bus in use in Chandigarh, India\\nTata Marcopolo is a bus-manufacturing joint venture between Tata Motors (51%) and the Brazil-based Marcopolo S.A. (49%). The joint venture manufactures and assembles fully built buses and coaches targeted at developing mass rapid transportation systems. It uses technology and expertise in chassis and aggregates from Tata Motors, and know-how in processes and systems for bodybuilding and bus body design from Marcopolo. Tata Marcopolo has launched a low-floor city bus which is widely used by transport corporations in many Indian cities. Its manufacturing facility is based in Dharwad, Karnataka State, India and Lucknow, India.\\nTata Motors is expected to buy the 49% stake held by its partner Marcopolo in the bus-making joint venture for â‚¹100 crore by February 2021. The subsidiary will continue with the â€˜Marcopoloâ€™ trademark for a minimum of three years with a non-compete provision in India for a corresponding period.[48]\\n\\nFiat-Tata[edit]\\nFiat-Tata is an India-based joint venture between Tata and Stellantis\\' Fiat which produces Fiat and Tata branded passenger cars, as well as engines and transmissions. Tata Motors has gained access to Fiat\\'s diesel engine and transmission technology through the joint venture.[49]\\nThe two companies formerly also had a distribution joint venture through which Fiat products were sold in India through joint Tata-Fiat dealerships. This distribution arrangement was ended in March 2013; Fiats have since been distributed in India by Fiat Automobiles India Limited, a wholly owned subsidiary of Fiat[50][51] and now Tata Motors.\\n\\nTata Hitachi Construction Machinery[edit]\\n\\nTata Hitachi Construction Machinery is a joint venture between Tata Motors and Hitachi which manufactures excavators and other construction equipment.[citation needed] It was previously known as Telcon Construction Solutions.[citation needed]\\n\\nTata Motors European Technical Centre[edit]\\nThe TATA Motors European Technical Centre is an automotive design, engineering, and research company.[citation needed] Company based at WMG, University of Warwick in the United Kingdom.[citation needed] It was established in 2005 and is wholly owned subsidiary of Tata Motors. It was the joint developer of the World Truck.[citation needed] In September 2013 it was announced that a new National Automotive Innovative Campus would be built at WMG at Warwick\\'s main campus at a cost of 92 million pounds.[52] The initiative will be a partnership between Tata Motors, the university, and Jaguar Land Rover, with the 30 million pounds in funding coming from Tata Motors.[53]\\n\\nHyundai-Tata[edit]\\nTata Motors and Hyundai are in a joint venture to provide  the automatic transmission for Tata Safari & Tata Harrier model.[54]\\n\\nProducts[edit]\\nFor details of Land Rover and Jaguar products, see Jaguar Land Rover.\\n\\nPassenger vehicles[edit]\\n\\nCurrent Models[edit]\\n\\n\\nModel\\n\\nYear of Introduction\\n\\n\\nHatchback\\n\\n\\nTata Tiago\\n\\n2016[55]\\n\\n\\nTata Altroz\\n\\n2020\\n\\n\\nSedan\\n\\n\\nTata Tigor\\n\\n2016\\n\\n\\nSUV/Crossover\\n\\n\\nTata Punch\\n\\n2021\\n\\n\\nTata Nexon\\n\\n2017\\n\\n\\nTata Harrier\\n\\n2018\\n\\n\\nTata Safari\\n\\n2021\\n\\n\\nElectric\\n\\n\\nTata Nexon EV\\n\\n2020\\n\\n\\nTata Tigor EV\\n\\n2021\\n\\n\\nTata Tiago EV\\n\\n2022\\n\\n\\nTata Punch EV\\n\\n2023\\n\\nCommercial vehicles[edit]\\nTata Ace\\nTata Ace Zip\\nTata Ace EV\\nTata Super Ace\\nTata Intra\\nTata Intra V10\\nTata Intra V20\\nTata Intra V30\\nTata Intra V50\\nTata Xenon XT\\nTata Yodha\\nTata Ace Mega\\nTata Iris\\nTata TL/Telcoline/207 Pick-up truck\\nTata 407 Ex and Ex2\\nTata 709 Ex\\nTata 807 (Steel cabin chassis, cowl chassis, medium bus chassis, steel cabin + steel body chassis)\\nTata 809 Ex and Ex2\\nTata 909 Ex and Ex2\\nTata 1210 SE and SFC (Semi Forward)\\nTata 1210 LP (Long Plate)\\nTata 1109 (Intermediate truck/ LCV bus)\\nTata 1512c (Medium bus chassis)\\nTata 1515c/1615 (Medium bus chassis)\\nTata 1612c/1616c/1618c (Heavy bus chassis)\\nTata 1618 (Semilow-floor bus chassis)\\nTata 1623 (Rear-engined low-floor bus chassis)\\nTata 1518C (Medium truck) 10 ton\\nTata 1613/1615c (Medium truck)\\nTata 1616/1618c (Heavy duty truck)\\nTata 2515c/2516c/2518c (Heavy duty 10-wheeler truck)\\nTata Starbus (Branded buses for city, intercity, school bus, and standard passenger transportation)\\nTata Divo (Hispano Divo)\\nTata CityRide (12- to 20-seater buses for intracity use)\\nTata 3015 (Heavy truck)\\nTata 3118 (Heavy truck) (8Ã—2)\\nTata 3516 (Heavy truck)\\nTata 4018 (Heavy truck)\\nTata 4923 (Ultraheavy truck) (6Ã—4)\\nTata Novus\\nTata Prima\\nTata SIGNA series\\nTata Ultra series (ICV Segment)\\nTata Winger - (Maxivan)\\nElectric vehicles[edit]\\nTata Motors has unveiled electric versions of the Tata Indica passenger car powered by TM4 electric motors and inverters,[56] as well as the Tata Ace commercial vehicle, both of which run on lithium batteries which launched in 2022.\\nIn 2008 Tata Motors\\' UK subsidiary, Tata Motors European Technical Centre, bought a 50.3% holding in electric vehicle technology firm MiljÃ¸bil Grenland/Innovasjon of Norway for US$1.93 million, and planned to launch the electric Indica hatchback in Europe the following year.[57][58][59] In September 2010, Tata Motors presented four CNGâ€“Electric Hybrid low-floored Starbuses to the Delhi Transport Corporation, to be used during the 2010 Commonwealth Games. These were the first environmentally friendly buses to be used for public transportation in India.\\nIn December 2019, Tata Motors unveiled the Nexon EV, an SUV with a 30.2KWh lithium-ion battery and a consistent range of 312Â\\xa0km on a single charge. It is also equipped with fast charging technology, which can charge the vehicle from 0% - 80% in 60 minutes.[60] With 525 units of Nexon EV sold in India last month, Tata Nexon EV[61] was the best-selling electric car in the month of April 2021 in India.\\nTata Passenger Electric Mobility is a subsidiary which produces electric cars under the brand name Tata Motors.[62]\\nList of Tata electric vehicles:\\n\\nTata Nexon EV\\nTata Tigor EV\\nTata Altroz EV\\nTata Tiago EV\\nTata Ace EV\\nTata Punch EV[63]\\nElectric Vehicle Concepts[edit]\\nTata Curvv\\nTata Avinya\\nTata EVision\\nHarrier.ev\\nSierra.ev[64]\\nDiscontinued Models[edit]\\nTata Telcoline (1988â€“2010)\\nTata Sierra (1991â€“2003)\\nTata Estate (1992â€“2000)\\nTata Sumo (1994â€“2019)\\nTata Indica (1998â€“2015)\\nTata Spacio (2000-2011)\\nTata Indigo (2002â€“2015)\\nTata Indigo Marina (2006â€“2009)\\nTata Xenon (2007â€“2018)\\nTata Sumo Grande (2008â€“2016)\\nTata Vista (2008â€“2015)\\nTata Nano (2008â€“2018)\\nTata Manza (2011â€“2016)[65]\\nTata Venture (2010â€“2017)\\nTata Aria (2010â€“2017)\\nTata Zest (2014â€“2020)\\nTata Bolt (2014â€“2019)\\nTata Hexa (2017â€“2020)\\nNotable vehicles[edit]\\nTata Nano[edit]\\n\\nTata Nano is often cited as the world\\'s most affordable car\\nThe Nano was launched in 2009 as a city car intended to appeal as an affordable alternative to the section of the Indian populace that is primarily the owner of motorcycles and has not bought their first car. Initially priced at â‚¹100,000 (US$1,500), the vehicle attracted a lot of attention for its relatively low price. However, the Nano was very poorly rated for safety[66][67] and in 2018, Cyrus Mistry, chairman of the Tata Group, called the Tata Nano a failed project, with production ending in May 2018.[68]\\n\\nTata Ace[edit]\\n\\nTata Super Ace\\nTata Ace, India\\'s first indigenously developed sub-one-ton minitruck, was launched in May 2005. The minitruck was a huge success in India with auto analysts claiming that Ace had changed the dynamics of the light commercial vehicle  (LCV) market in the country by creating a new market segment termed the small commercial vehicle  segment. Ace rapidly emerged as the first choice for transporters and single truck owners for city and rural transport.\\nBy October 2005, LCV sales of Tata Motors had grown by 36.6% to 28,537 units due to the rising demand for Ace. The Ace was built with a load body produced by Autoline Industries.[69]\\nBy 2005, Autoline was producing 300 load bodies per day for Tata Motors. Ace is still a top seller for TML with 500,000 units sold by June 2010.[70] In 2011, Tata Motors invested Rs 1000 crore in Dharwad Plant, Karnataka, with the capacity of 90,000 units annually and launched two models of 0.5-T capacity as Tata Ace Zip, Magic Iris.[71] Ace has also been exported to several Asian, European, South American, and African countries and all-electric models are sold through Polaris Industries\\' Global Electric Motorcars division. In Sri Lanka, it is sold through Diesel & Motor Engineering (DIMO) PLC under the name of DIMO Batta.\\n\\nTata Prima[edit]\\n\\nA Tata Prima 4928.S in Assam, India\\nTata Prima is a range of heavy trucks first introduced in 2008 as the company\\'s \\'global\\' truck. Tata Prima was the winner of the \\'Commercial Vehicle of the Year\\' at the Apollo Commercial Vehicles Awards, 2010 and 2012.\\n\\nTata 407[edit]\\n\\nA Tata 407 being used as water truck\\nThe Tata 407 is a light commercial vehicle (LCV) that has sold over 500,000 units since its launch in 1986.[72] In India, this vehicle dominates market share of the LCV category, accounting for close to 75% of LCV sales. The 407 model range includes trucks, tippers, pick-ups and vehicles for agri/food products, construction, light mining and services.[73]\\n\\nTata Harrier[edit]\\n\\nTata Harrier\\nTata Harrier is a 5-seater SUV that rivals the MG Hector and Jeep Compass. This car uses the engine from Fiat which is a 2.0 L-4 cylinder turbocharged diesel motor and transmission from Hyundai which is a 6-speed, available in both manual and automatic. Tata Harrier is derived from the H5X Concept displayed at the 2018 Auto Expo. It was launched on 23 January 2019.[74]\\nThe car is a C-segment crossover SUV based on the OmegaArc platform, an essentially re-engineered version of the Jaguar Land Rover D8 platform.[75] A petrol variant of the Harrier is confirmed to launch in 2022â€“23.[76]\\nTata Harrier is also available in Nepal with the name H5.\\n\\nTata Nexon[edit]\\n\\nTata Nexon\\nThe Tata Nexon is a subcompact crossover SUV produced by Tata Motors since 2017. It is the first crossover SUV from Tata Motors, and occupies the sub-4 metre crossover SUV segment in India.[77] The electric version of the Nexon was revealed on 19 December 2019. The Nexon EV uses components from Tata Motors\\' electric vehicle technology brand Ziptron. The electric motor produces 94.7Â\\xa0kW (127Â\\xa0hp; 129Â\\xa0PS) and 245Â\\xa0Nâ‹…m (181Â\\xa0lbfâ‹…ft) of torque and 0 - 100 under 9.9 seconds. It has a 30.2 kWh battery with an ARAI rated range of up to 312Â\\xa0km.[78]\\nThe battery can be fully charged in under 8 hours using a complimentary AC charger. It can also be charged using a 15-ampere power cable that can be used at any place with the necessary power socket. DC 25Â\\xa0kW fast charging can be used to charge the battery from 0 to 80% in 1 hour.[79]\\n\\nRestructuring[edit]\\nIn March 2024, Tata Motors announced plans to undergo a significant restructuring by splitting into two separate listed entities. This strategic move aims to enhance operational efficiencies and focus on distinct business segments. The demerger is expected to allow each entity to pursue tailored growth strategies and attract specific investor bases. The announcement was well-received by the market, with Tata Motors\\' stock experiencing a notable jump following the news.[80][81][82]\\n\\nSee also[edit]\\nList of companies of India\\nList of largest companies by revenue\\nList of corporations by market capitalisation\\nMake in India\\nForbes Global 2000\\nFortune India 500\\nAutomotive industry in India\\nTata Revotron engine\\nReferences[edit]\\n\\n^ \"Contact Us - Tata Motors Limited\". www.tatamotors.com. 14 October 2015. Archived from the original on 4 May 2019. Retrieved 30 July 2018.\\n\\n^ \"Tata Motors Ltd\". Reuters. Retrieved 19 May 2024.\\n\\n^ Jump up to: a b c \"Tata Motors Ltd. Financial Statements\" (PDF). bseindia.com.\\n\\n^ Jump up to: a b \"Tata Motors Consolidated Balance Sheet, Tata Motors Financial Statement & Accounts\" (PDF). www.bseindia.com.\\n\\n^ \"Tata Motors\" (PDF). Tata Motors. May 2022. Retrieved 1 June 2024. Employees: 50,837\\n\\n^ cite news|url=https://www.business-standard.com/amp/companies/news/s-p-upgrades-tata-motors-long-term-issuer-issue-credit-ratings-to-bb-123042600194_1.html%7Cwebsite=business-standard.com\\n\\n^ \"Financials of Tata Motors Limited\". CNN. Archived from the original on 16 October 2013.\\n\\n^ \"Fortune Global 500 list\". Archived from the original on 7 August 2019. Retrieved 18 October 2019.\\n\\n^ \"Tata Motors Market Share\". Auto Car Professional. Retrieved 2 April 2019.\\n\\n^ \"More Special A Licences Granted | 12th March 1954 | The Commercial Motor Archive\". archive.commercialmotor.com. Retrieved 30 May 2023.\\n\\n^ \"Government Viewâ€¢ On RoadsÂ\\xa0: Big Extension of Construction? | 12th November 1954 | The Commercial Motor Archive\". archive.commercialmotor.com. Retrieved 30 May 2023.\\n\\n^ \"Tata Milestones\". Archived from the original on 6 December 2010. Retrieved 22 March 2009.\\n\\n^ \"Tata Motors completes acquisition of Daewoo Commercial Vehicle Company\". Tata Motors. Archived from the original on 8 February 2010. Retrieved 7 October 2010.\\n\\n^ \"Tata Motors, Brazil co form joint venture\". The Hindu Business Line. Archived from the original on 10 October 2010. Retrieved 7 October 2010.\\n\\n^ \"Ford Motor Company Announces Agreement to Sell Jaguar Land Rover to Tata Motors\" (Press release). Ford Motor Company. 26 March 2008. Archived from the original on 12 June 2008. Retrieved 27 March 2008.\\n\\n^ \"Tata Motors enters into Definitive Agreement with Ford for purchase of Jaguar Land Rover\" (Press release). Tata Motors. 26 March 2008. Archived from the original on 5 December 2010. Retrieved 27 March 2008.\\n\\n^ Lewin, Tony (27 March 2008). \"Classic names are part of Tata deal\". Automotive News. Crain Communications. Archived from the original on 28 March 2008. Retrieved 18 May 2008.\\n\\n^ \"Tata Motors completes acquisition of Jag, Land Rover\". Thomson Reuters. 2 June 2008. Archived from the original on 29 December 2008. Retrieved 2 June 2008.\\n\\n^ \"Tata Motors acquires control of Hispano Carrocera\". Business-Standard. 20 October 2009. Archived from the original on 21 April 2010. Retrieved 20 October 2011.\\n\\n^ \"Tata Motors acquires 80% stake in Italy\\'s Trilix\". Money Control. Archived from the original on 10 October 2010. Retrieved 7 October 2010.\\n\\n^ Barman, Arijit (12 October 2021). \"TPG - Tata Motors: TPG drives into Tata Motors EV business with $1 billion investment\". The Economic Times. Retrieved 13 October 2021.\\n\\n^ Jump up to: a b \"Tata Motors\". Tata Motors. Archived from the original on 11 January 2011. Retrieved 4 June 2009.\\n\\n^ \"Booking Center Locator\". tatanano.inservices.tatamotors.com. Archived from the original on 25 March 2009. Retrieved 15 January 2022.\\n\\n^ \"Tata Motors InternationalÂ\\xa0: CompanyÂ\\xa0: Profile\". Tatacarsworldwide.com. Archived from the original on 4 March 2009. Retrieved 4 June 2009.\\n\\n^ \"Tata Motors InternationalÂ\\xa0: Global Network\". Tatacarsworldwide.com. Archived from the original on 15 July 2009. Retrieved 4 June 2009.\\n\\n^ \"Tata Motors -\". Tata Motors. Archived from the original on 27 May 2017. Retrieved 27 September 2017.\\n\\n^ \"Tata Motors EspaÃ±a. Coches Tata - Coches Nuevos y Nuevas Ofertas de Tata\". Tatamotors.es. Archived from the original on 11 October 2007. Retrieved 28 June 2015.\\n\\n^ \"Start - sklep internetowy Tata Motors POLSKA\". tatamotor.com.pl. Archived from the original on 28 September 2017. Retrieved 27 September 2017.\\n\\n^ \"Davossi\". Davossi.ro. Archived from the original on 1 August 2015. Retrieved 28 June 2015.\\n\\n^ \"Tata TÃ¼rkÄ±ye\". Tata.com.tr. Archived from the original on 12 January 2008. Retrieved 28 June 2015.\\n\\n^ \"Tata Motors\". Tata-motors.cl. Archived from the original on 9 August 2011. Retrieved 28 June 2015.\\n\\n^ \"Tata Homepage - Tata South Africa\". Tata.co.za. Archived from the original on 26 June 2015. Retrieved 28 June 2015.\\n\\n^ \"Tatas readying new line of CVs to take on competition\". 14 July 2012. Archived from the original on 17 July 2012. Retrieved 14 July 2012.\\n\\n^ \"Hispano\". Hispano-net.com. Archived from the original on 28 September 2010. Retrieved 11 October 2010.\\n\\n^ \"Media - Tata Motors Limited\". 10 September 2015. Archived from the original on 28 September 2017. Retrieved 27 September 2017.\\n\\n^ Jump up to: a b c Mondal, Manisha. \"Robotic hand rocks manufacturing cradle\". The Hindu. Retrieved 11 April 2017.\\n\\n^ \"Tata Motors Unveils New Range Of Trucks\". Motorbeam.com. 29 May 2009. Archived from the original on 1 June 2009. Retrieved 4 June 2009.\\n\\n^ \"Â£100m investment boost for Warwick University\". The Independent. 25 September 2013. Archived from the original on 29 September 2013. Retrieved 29 September 2013.\\n\\n^ \"University of Warwick Â£100m car centre \\'will secure jobs\\'\". BBC. 24 September 2013. Archived from the original on 28 September 2013. Retrieved 29 September 2013.\\n\\n^ \"Tata Motors confirms Â£30m investment in UK R&D centre\". The Engineer. 3 December 2013. Archived from the original on 29 November 2014. Retrieved 27 February 2014.\\n\\n^ Rutherford, Mike (29 March 2008). \"Mike Rutherford ponders Tata\\'s takeover of Land Rover and Jaguar\". The Daily Telegraph. Archived from the original on 8 April 2008. Retrieved 30 July 2008.\\n\\n^ McIntyre, Douglas A. (24 June 2019). \"And the Worst New Car Sold in America Isâ€¦\". MSN. Microsoft News. Retrieved 25 June 2019.\\n\\n^ Linkov, Jon; Elek, Steven (18 November 2021). \"10 Least Reliable Cars\". Consumer Reports. Archived from the original on 7 October 2019.\\n\\n^ Trudell, Craig; Coppola, Gabrielle; Kotoky, Anurag (15 October 2019). \"Tata Looks for Jaguar Land Rover Partners, but Rules Out Sale\". Bloomberg. Archived from the original on 17 October 2019.\\n\\n^ \"Tata Group confirms plans to build gigafactory for batteries in the UK\". Sky News. Retrieved 20 July 2023.\\n\\n^ Ralph, Alex (20 July 2023). \"Tata to build Â£4bn gigafactory in Somerset\". The Times. ISSNÂ\\xa00140-0460. Retrieved 20 July 2023.\\n\\n^ Jump up to: a b \"Tata confirms Somerset will host Â£4bn battery factory\". BBC News. 28 February 2024. Retrieved 28 February 2024.\\n\\n^ \"Tata Motors To Buy Remaining 49% Share In Tata Marcopolo Motors For Nearly â‚¹ 100 Crore\". Retrieved 23 December 2020.\\n\\n^ \"Fiat, Tata Motors set up joint venture\". timesofmalta.com. 21 October 2007. Archived from the original on 18 November 2007. Retrieved 1 April 2008.\\n\\n^ \"Fiat to complete split from Tata in sales ops by Mar 2013\". Business Standard. 19 September 2012. Archived from the original on 12 January 2014. Retrieved 12 January 2014.\\n\\n^ \"After split with Tata Motors, Fiat begins its solo India ride\". The Economic Times. 11 April 2013. Archived from the original on 12 January 2014. Retrieved 12 January 2014.\\n\\n^ \"Â£92 million National Automotive Innovation Campus to be built at University of Warwick\". warwick.ac.uk. Retrieved 6 October 2020.\\n\\n^ \"Tata Motors European technical centre demonstrates latest mobility technology on the Tata HEXA\". Automotive World. Archived from the original on 10 January 2019. Retrieved 9 January 2018.\\n\\n^ \"How Good Is All New Tata Safari 2023\". Motorlane. 12 November 2023.\\n\\n^ www.ETAuto.com. \"Tata Tiago to be launched on April 6 - ET Auto\". ETAuto.com. Retrieved 27 February 2024.\\n\\n^ \"Customers\". TM4. Archived from the original on 30 June 2015. Retrieved 28 June 2015.\\n\\n^ \"TMETC acquires 50.3 per cent stake in Norway\\'s Miljo Grenland/Innovasjon; to launch first electric vehicle\". Tata.com. 14 October 2008. Archived from the original on 30 July 2013. Retrieved 2 May 2009.\\n\\n^ \"Tata Motors European Technical Centre\". Tata.com. Archived from the original on 24 January 2009. Retrieved 2 May 2009.\\n\\n^ \"Tata to launch EV next year\". Just-auto.com. 14 October 2008. Archived from the original on 29 March 2009. Retrieved 2 May 2009.\\n\\n^ \"Tata Nexon EV - India\\'s Own Electric Compact SUV Powered by Ziptron\". Tata Nexon EV - India\\'s Own Electric Compact SUV Powered by Ziptron. Retrieved 28 July 2020.\\n\\n^ \"Tata Nexon EV was India\\'s best-selling electric car in April 2021\". www.timesnownews.com. 20 May 2021. Retrieved 25 June 2021.\\n\\n^ \"Archived copy\". Archived from the original on 8 January 2016. Retrieved 28 June 2015.{{cite web}}:  CS1 maint: archived copy as title (link)\\n\\n^ \"Punch.ev\". ev.tatamotors.com. Retrieved 22 January 2024.\\n\\n^ \"TATA Motors EV\". ev.tatamotors.com. Retrieved 22 January 2024.\\n\\n^ \"Tata Manza [2011-2015] - Manza [2011-2015] Price, Specs, Images, Colours\". www.cartrade.com. Retrieved 28 February 2024.\\n\\n^ \"Tata Nano safety under scrutiny after dire crash test results\". Guardian. 31 January 2014. Retrieved 9 September 2017.\\n\\n^ \"Tata Nano falls short of global crash test standards â€“ video\". Guardian. 31 January 2014. Retrieved 9 September 2017.\\n\\n^ \"Air Asia Case Puts Spotlight Once Again on Cyrus Mistry\\'s \\'Legacy Hotspots\\'\". The Wire. Archived from the original on 9 July 2018. Retrieved 5 June 2018.\\n\\n^ \"Autoline - A Stamp of Perfection\". 9 February 2008. Archived from the original on 9 February 2008. Retrieved 27 September 2017.\\n\\n^ \"tatamotors\". Tatamotors. 14 March 2012. Archived from the original on 9 February 2008. Retrieved 8 August 2012.\\n\\n^ \"Autoline\". 9 February 2008. Archived from the original on 9 February 2008. Retrieved 11 October 2010.\\n\\n^ \"TATA Motors Annual Report 2011â€“2012\". Tatamotors.com. Archived from the original on 8 January 2016. Retrieved 28 June 2015.\\n\\n^ \"Tata Light Commercial Vehicles\". Tata Motors.\\n\\n^ \"2019 Tata Harrier launched in India, priced at Rs 12.69 lakh\". Archived from the original on 21 March 2019. Retrieved 21 March 2019.\\n\\n^ \"OMEGA-Arc: What defines Tata Harrier is the platform, here\\'s how it\\'s different\". The Financial Express. 12 December 2020. Retrieved 12 January 2021.\\n\\n^ \"Tata confirms Harrier petrol\". Autocar India. Retrieved 12 January 2021.\\n\\n^ Dhingra, Mayank (21 September 2017). \"Tata Motors launches Nexon compact SUV at Rs 585,000\". Autocar Professional India. Retrieved 5 March 2021.\\n\\n^ \"Tata Nexon EV debuts with 300 km range\". autocarindia.com. Retrieved 8 March 2021.\\n\\n^ \"Tata Nexon EV Review\". news18. 17 January 2021. Retrieved 17 January 2021.\\n\\n^ \"India\\'s Tata Motors jumps on plans to split into two listed firms\". Reuters. 5 March 2024. Retrieved 6 March 2024.\\n\\n^ \"Explained: What Tata Motors\\' demerger plan means for the company and its shareholders\". Indian Express. 5 March 2024. Retrieved 6 March 2024.\\n\\n^ \"Tata Motors stock check: How does the demerger impact its fundamental and technical outlook for long-term\". Livemint. Retrieved 6 March 2024.\\n\\n\\nExternal links[edit]\\n\\n\\nOfficial website\\n\\n\\n\\n\\n\\n\\n\\n\\n'"
      ]
     },
     "execution_count": 67,
     "metadata": {},
     "output_type": "execute_result"
    }
   ],
   "source": [
    "data[0].page_content"
   ]
  },
  {
   "cell_type": "markdown",
   "id": "0280b925-0c5d-449e-a11d-6c85f46d95b5",
   "metadata": {},
   "source": [
    "# loading CSV files"
   ]
  },
  {
   "cell_type": "code",
   "execution_count": 69,
   "id": "cd1401e8-8f64-4a28-908b-acb3aa9c5667",
   "metadata": {},
   "outputs": [],
   "source": [
    "from langchain.document_loaders.csv_loader import CSVLoader"
   ]
  },
  {
   "cell_type": "code",
   "execution_count": 70,
   "id": "d2ecf633-3ffc-44c4-92f5-d6ae41335aeb",
   "metadata": {},
   "outputs": [],
   "source": [
    "loader = CSVLoader(\"movies.csv\")"
   ]
  },
  {
   "cell_type": "code",
   "execution_count": 71,
   "id": "39fcb8f7-ca5b-4578-a27f-976b643104d2",
   "metadata": {},
   "outputs": [],
   "source": [
    "csv_data = loader.load()"
   ]
  },
  {
   "cell_type": "code",
   "execution_count": 72,
   "id": "48119145-b15c-407d-9ab6-9e8541d46982",
   "metadata": {},
   "outputs": [
    {
     "data": {
      "text/plain": [
       "[Document(metadata={'source': 'movies.csv', 'row': 0}, page_content='movie_id: 101\\ntitle: K.G.F: Chapter 2\\nindustry: Bollywood\\nrelease_year: 2022\\nimdb_rating: 8.4\\nstudio: Hombale Films\\nlanguage_id: 3\\nbudget: 1\\nrevenue: 12.5\\nunit: Billions\\ncurrency: INR'),\n",
       " Document(metadata={'source': 'movies.csv', 'row': 1}, page_content='movie_id: 102\\ntitle: Doctor Strange in the Multiverse of Madness\\nindustry: Hollywood\\nrelease_year: 2022\\nimdb_rating: 7\\nstudio: Marvel Studios\\nlanguage_id: 5\\nbudget: 200\\nrevenue: 954.8\\nunit: Millions\\ncurrency: USD'),\n",
       " Document(metadata={'source': 'movies.csv', 'row': 2}, page_content='movie_id: 103\\ntitle: Thor: The Dark World\\nindustry: Hollywood\\nrelease_year: 2013\\nimdb_rating: 6.8\\nstudio: Marvel Studios\\nlanguage_id: 5\\nbudget: 165\\nrevenue: 644.8\\nunit: Millions\\ncurrency: USD'),\n",
       " Document(metadata={'source': 'movies.csv', 'row': 3}, page_content='movie_id: 104\\ntitle: Thor: Ragnarok\\nindustry: Hollywood\\nrelease_year: 2017\\nimdb_rating: 7.9\\nstudio: Marvel Studios\\nlanguage_id: 5\\nbudget: 180\\nrevenue: 854\\nunit: Millions\\ncurrency: USD'),\n",
       " Document(metadata={'source': 'movies.csv', 'row': 4}, page_content='movie_id: 105\\ntitle: Thor: Love and Thunder\\nindustry: Hollywood\\nrelease_year: 2022\\nimdb_rating: 6.8\\nstudio: Marvel Studios\\nlanguage_id: 5\\nbudget: 250\\nrevenue: 670\\nunit: Millions\\ncurrency: USD'),\n",
       " Document(metadata={'source': 'movies.csv', 'row': 5}, page_content='movie_id: 106\\ntitle: Sholay\\nindustry: Bollywood\\nrelease_year: 1975\\nimdb_rating: 8.1\\nstudio: United Producers\\nlanguage_id: 1\\nbudget: Not Available\\nrevenue: Not Available\\nunit: Not Available\\ncurrency: Not Available'),\n",
       " Document(metadata={'source': 'movies.csv', 'row': 6}, page_content='movie_id: 107\\ntitle: Dilwale Dulhania Le Jayenge\\nindustry: Bollywood\\nrelease_year: 1995\\nimdb_rating: 8\\nstudio: Yash Raj Films\\nlanguage_id: 1\\nbudget: 400\\nrevenue: 2000\\nunit: Millions\\ncurrency: INR'),\n",
       " Document(metadata={'source': 'movies.csv', 'row': 7}, page_content='movie_id: 108\\ntitle: 3 Idiots\\nindustry: Bollywood\\nrelease_year: 2009\\nimdb_rating: 8.4\\nstudio: Vinod Chopra Films\\nlanguage_id: 1\\nbudget: 550\\nrevenue: 4000\\nunit: Millions\\ncurrency: INR'),\n",
       " Document(metadata={'source': 'movies.csv', 'row': 8}, page_content='movie_id: 109\\ntitle: Kabhi Khushi Kabhie Gham\\nindustry: Bollywood\\nrelease_year: 2001\\nimdb_rating: 7.4\\nstudio: Dharma Productions\\nlanguage_id: 1\\nbudget: 390\\nrevenue: 1360\\nunit: Millions\\ncurrency: INR')]"
      ]
     },
     "execution_count": 72,
     "metadata": {},
     "output_type": "execute_result"
    }
   ],
   "source": [
    "csv_data"
   ]
  },
  {
   "cell_type": "code",
   "execution_count": 73,
   "id": "e9140d8a-b3d0-459e-9f24-52979458564c",
   "metadata": {},
   "outputs": [
    {
     "data": {
      "text/plain": [
       "9"
      ]
     },
     "execution_count": 73,
     "metadata": {},
     "output_type": "execute_result"
    }
   ],
   "source": [
    "len(csv_data)"
   ]
  },
  {
   "cell_type": "code",
   "execution_count": 74,
   "id": "0949a5ed-22bf-4735-bb7e-92d5641ea567",
   "metadata": {},
   "outputs": [
    {
     "data": {
      "text/plain": [
       "Document(metadata={'source': 'movies.csv', 'row': 0}, page_content='movie_id: 101\\ntitle: K.G.F: Chapter 2\\nindustry: Bollywood\\nrelease_year: 2022\\nimdb_rating: 8.4\\nstudio: Hombale Films\\nlanguage_id: 3\\nbudget: 1\\nrevenue: 12.5\\nunit: Billions\\ncurrency: INR')"
      ]
     },
     "execution_count": 74,
     "metadata": {},
     "output_type": "execute_result"
    }
   ],
   "source": [
    "csv_data[0]"
   ]
  },
  {
   "cell_type": "code",
   "execution_count": 75,
   "id": "87f8c15c-1120-496a-b601-757528dff024",
   "metadata": {},
   "outputs": [
    {
     "data": {
      "text/plain": [
       "{'source': 'movies.csv', 'row': 0}"
      ]
     },
     "execution_count": 75,
     "metadata": {},
     "output_type": "execute_result"
    }
   ],
   "source": [
    "csv_data[0].metadata"
   ]
  },
  {
   "cell_type": "code",
   "execution_count": 76,
   "id": "b0459e7b-9cb7-44ee-90cb-be54a82d5071",
   "metadata": {},
   "outputs": [],
   "source": [
    "loader=CSVLoader(\"movies.csv\",source_column=\"title\")\n",
    "csv_data=loader.load()"
   ]
  },
  {
   "cell_type": "code",
   "execution_count": 77,
   "id": "f4dec670-f483-454f-831b-fe0e2349103a",
   "metadata": {},
   "outputs": [
    {
     "data": {
      "text/plain": [
       "[Document(metadata={'source': 'K.G.F: Chapter 2', 'row': 0}, page_content='movie_id: 101\\ntitle: K.G.F: Chapter 2\\nindustry: Bollywood\\nrelease_year: 2022\\nimdb_rating: 8.4\\nstudio: Hombale Films\\nlanguage_id: 3\\nbudget: 1\\nrevenue: 12.5\\nunit: Billions\\ncurrency: INR'),\n",
       " Document(metadata={'source': 'Doctor Strange in the Multiverse of Madness', 'row': 1}, page_content='movie_id: 102\\ntitle: Doctor Strange in the Multiverse of Madness\\nindustry: Hollywood\\nrelease_year: 2022\\nimdb_rating: 7\\nstudio: Marvel Studios\\nlanguage_id: 5\\nbudget: 200\\nrevenue: 954.8\\nunit: Millions\\ncurrency: USD'),\n",
       " Document(metadata={'source': 'Thor: The Dark World', 'row': 2}, page_content='movie_id: 103\\ntitle: Thor: The Dark World\\nindustry: Hollywood\\nrelease_year: 2013\\nimdb_rating: 6.8\\nstudio: Marvel Studios\\nlanguage_id: 5\\nbudget: 165\\nrevenue: 644.8\\nunit: Millions\\ncurrency: USD'),\n",
       " Document(metadata={'source': 'Thor: Ragnarok', 'row': 3}, page_content='movie_id: 104\\ntitle: Thor: Ragnarok\\nindustry: Hollywood\\nrelease_year: 2017\\nimdb_rating: 7.9\\nstudio: Marvel Studios\\nlanguage_id: 5\\nbudget: 180\\nrevenue: 854\\nunit: Millions\\ncurrency: USD'),\n",
       " Document(metadata={'source': 'Thor: Love and Thunder', 'row': 4}, page_content='movie_id: 105\\ntitle: Thor: Love and Thunder\\nindustry: Hollywood\\nrelease_year: 2022\\nimdb_rating: 6.8\\nstudio: Marvel Studios\\nlanguage_id: 5\\nbudget: 250\\nrevenue: 670\\nunit: Millions\\ncurrency: USD'),\n",
       " Document(metadata={'source': 'Sholay', 'row': 5}, page_content='movie_id: 106\\ntitle: Sholay\\nindustry: Bollywood\\nrelease_year: 1975\\nimdb_rating: 8.1\\nstudio: United Producers\\nlanguage_id: 1\\nbudget: Not Available\\nrevenue: Not Available\\nunit: Not Available\\ncurrency: Not Available'),\n",
       " Document(metadata={'source': 'Dilwale Dulhania Le Jayenge', 'row': 6}, page_content='movie_id: 107\\ntitle: Dilwale Dulhania Le Jayenge\\nindustry: Bollywood\\nrelease_year: 1995\\nimdb_rating: 8\\nstudio: Yash Raj Films\\nlanguage_id: 1\\nbudget: 400\\nrevenue: 2000\\nunit: Millions\\ncurrency: INR'),\n",
       " Document(metadata={'source': '3 Idiots', 'row': 7}, page_content='movie_id: 108\\ntitle: 3 Idiots\\nindustry: Bollywood\\nrelease_year: 2009\\nimdb_rating: 8.4\\nstudio: Vinod Chopra Films\\nlanguage_id: 1\\nbudget: 550\\nrevenue: 4000\\nunit: Millions\\ncurrency: INR'),\n",
       " Document(metadata={'source': 'Kabhi Khushi Kabhie Gham', 'row': 8}, page_content='movie_id: 109\\ntitle: Kabhi Khushi Kabhie Gham\\nindustry: Bollywood\\nrelease_year: 2001\\nimdb_rating: 7.4\\nstudio: Dharma Productions\\nlanguage_id: 1\\nbudget: 390\\nrevenue: 1360\\nunit: Millions\\ncurrency: INR')]"
      ]
     },
     "execution_count": 77,
     "metadata": {},
     "output_type": "execute_result"
    }
   ],
   "source": [
    "csv_data"
   ]
  },
  {
   "cell_type": "code",
   "execution_count": 78,
   "id": "8ca90e17-a984-472d-9691-958dcf184221",
   "metadata": {},
   "outputs": [
    {
     "data": {
      "text/plain": [
       "{'source': 'K.G.F: Chapter 2', 'row': 0}"
      ]
     },
     "execution_count": 78,
     "metadata": {},
     "output_type": "execute_result"
    }
   ],
   "source": [
    "csv_data[0].metadata"
   ]
  },
  {
   "cell_type": "markdown",
   "id": "a3acb5bb-dfe9-4f63-8b75-933bb5f5f24a",
   "metadata": {},
   "source": [
    "# loading data from URLs"
   ]
  },
  {
   "cell_type": "code",
   "execution_count": 80,
   "id": "6cffd815-d086-433b-8245-864d20532ee8",
   "metadata": {},
   "outputs": [
    {
     "name": "stdout",
     "output_type": "stream",
     "text": [
      "Requirement already satisfied: unstructured in c:\\users\\chari\\anaconda3\\lib\\site-packages (0.16.8)\n",
      "Requirement already satisfied: chardet in c:\\users\\chari\\anaconda3\\lib\\site-packages (from unstructured) (4.0.0)\n",
      "Requirement already satisfied: filetype in c:\\users\\chari\\anaconda3\\lib\\site-packages (from unstructured) (1.2.0)\n",
      "Requirement already satisfied: python-magic in c:\\users\\chari\\anaconda3\\lib\\site-packages (from unstructured) (0.4.27)\n",
      "Requirement already satisfied: lxml in c:\\users\\chari\\anaconda3\\lib\\site-packages (from unstructured) (5.2.1)\n",
      "Requirement already satisfied: nltk in c:\\users\\chari\\anaconda3\\lib\\site-packages (from unstructured) (3.9.1)\n",
      "Requirement already satisfied: requests in c:\\users\\chari\\anaconda3\\lib\\site-packages (from unstructured) (2.32.3)\n",
      "Requirement already satisfied: beautifulsoup4 in c:\\users\\chari\\anaconda3\\lib\\site-packages (from unstructured) (4.12.3)\n",
      "Requirement already satisfied: emoji in c:\\users\\chari\\anaconda3\\lib\\site-packages (from unstructured) (2.14.0)\n",
      "Requirement already satisfied: dataclasses-json in c:\\users\\chari\\anaconda3\\lib\\site-packages (from unstructured) (0.6.7)\n",
      "Requirement already satisfied: python-iso639 in c:\\users\\chari\\anaconda3\\lib\\site-packages (from unstructured) (2024.10.22)\n",
      "Requirement already satisfied: langdetect in c:\\users\\chari\\anaconda3\\lib\\site-packages (from unstructured) (1.0.9)\n",
      "Requirement already satisfied: numpy<2 in c:\\users\\chari\\anaconda3\\lib\\site-packages (from unstructured) (1.26.4)\n",
      "Requirement already satisfied: rapidfuzz in c:\\users\\chari\\anaconda3\\lib\\site-packages (from unstructured) (3.10.1)\n",
      "Requirement already satisfied: backoff in c:\\users\\chari\\anaconda3\\lib\\site-packages (from unstructured) (2.2.1)\n",
      "Requirement already satisfied: typing-extensions in c:\\users\\chari\\anaconda3\\lib\\site-packages (from unstructured) (4.11.0)\n",
      "Requirement already satisfied: unstructured-client in c:\\users\\chari\\anaconda3\\lib\\site-packages (from unstructured) (0.28.1)\n",
      "Requirement already satisfied: wrapt in c:\\users\\chari\\anaconda3\\lib\\site-packages (from unstructured) (1.14.1)\n",
      "Requirement already satisfied: tqdm in c:\\users\\chari\\anaconda3\\lib\\site-packages (from unstructured) (4.66.5)\n",
      "Requirement already satisfied: psutil in c:\\users\\chari\\anaconda3\\lib\\site-packages (from unstructured) (5.9.0)\n",
      "Requirement already satisfied: python-oxmsg in c:\\users\\chari\\anaconda3\\lib\\site-packages (from unstructured) (0.0.1)\n",
      "Requirement already satisfied: html5lib in c:\\users\\chari\\anaconda3\\lib\\site-packages (from unstructured) (1.1)\n",
      "Requirement already satisfied: soupsieve>1.2 in c:\\users\\chari\\anaconda3\\lib\\site-packages (from beautifulsoup4->unstructured) (2.5)\n",
      "Requirement already satisfied: marshmallow<4.0.0,>=3.18.0 in c:\\users\\chari\\anaconda3\\lib\\site-packages (from dataclasses-json->unstructured) (3.23.1)\n",
      "Requirement already satisfied: typing-inspect<1,>=0.4.0 in c:\\users\\chari\\anaconda3\\lib\\site-packages (from dataclasses-json->unstructured) (0.9.0)\n",
      "Requirement already satisfied: six>=1.9 in c:\\users\\chari\\anaconda3\\lib\\site-packages (from html5lib->unstructured) (1.16.0)\n",
      "Requirement already satisfied: webencodings in c:\\users\\chari\\anaconda3\\lib\\site-packages (from html5lib->unstructured) (0.5.1)\n",
      "Requirement already satisfied: click in c:\\users\\chari\\anaconda3\\lib\\site-packages (from nltk->unstructured) (8.1.7)\n",
      "Requirement already satisfied: joblib in c:\\users\\chari\\anaconda3\\lib\\site-packages (from nltk->unstructured) (1.4.2)\n",
      "Requirement already satisfied: regex>=2021.8.3 in c:\\users\\chari\\anaconda3\\lib\\site-packages (from nltk->unstructured) (2024.9.11)\n",
      "Requirement already satisfied: olefile in c:\\users\\chari\\anaconda3\\lib\\site-packages (from python-oxmsg->unstructured) (0.47)\n",
      "Requirement already satisfied: charset-normalizer<4,>=2 in c:\\users\\chari\\anaconda3\\lib\\site-packages (from requests->unstructured) (3.3.2)\n",
      "Requirement already satisfied: idna<4,>=2.5 in c:\\users\\chari\\anaconda3\\lib\\site-packages (from requests->unstructured) (3.7)\n",
      "Requirement already satisfied: urllib3<3,>=1.21.1 in c:\\users\\chari\\anaconda3\\lib\\site-packages (from requests->unstructured) (2.2.3)\n",
      "Requirement already satisfied: certifi>=2017.4.17 in c:\\users\\chari\\anaconda3\\lib\\site-packages (from requests->unstructured) (2024.8.30)\n",
      "Requirement already satisfied: colorama in c:\\users\\chari\\anaconda3\\lib\\site-packages (from tqdm->unstructured) (0.4.6)\n",
      "Requirement already satisfied: aiofiles>=24.1.0 in c:\\users\\chari\\anaconda3\\lib\\site-packages (from unstructured-client->unstructured) (24.1.0)\n",
      "Requirement already satisfied: cryptography>=3.1 in c:\\users\\chari\\anaconda3\\lib\\site-packages (from unstructured-client->unstructured) (43.0.0)\n",
      "Requirement already satisfied: eval-type-backport<0.3.0,>=0.2.0 in c:\\users\\chari\\anaconda3\\lib\\site-packages (from unstructured-client->unstructured) (0.2.0)\n",
      "Requirement already satisfied: httpx>=0.27.0 in c:\\users\\chari\\anaconda3\\lib\\site-packages (from unstructured-client->unstructured) (0.27.0)\n",
      "Requirement already satisfied: jsonpath-python<2.0.0,>=1.0.6 in c:\\users\\chari\\anaconda3\\lib\\site-packages (from unstructured-client->unstructured) (1.0.6)\n",
      "Requirement already satisfied: nest-asyncio>=1.6.0 in c:\\users\\chari\\anaconda3\\lib\\site-packages (from unstructured-client->unstructured) (1.6.0)\n",
      "Requirement already satisfied: pydantic<2.10.0,>=2.9.2 in c:\\users\\chari\\anaconda3\\lib\\site-packages (from unstructured-client->unstructured) (2.9.2)\n",
      "Requirement already satisfied: pypdf>=4.0 in c:\\users\\chari\\anaconda3\\lib\\site-packages (from unstructured-client->unstructured) (5.1.0)\n",
      "Requirement already satisfied: python-dateutil<3.0.0,>=2.8.2 in c:\\users\\chari\\anaconda3\\lib\\site-packages (from unstructured-client->unstructured) (2.9.0.post0)\n",
      "Requirement already satisfied: requests-toolbelt>=1.0.0 in c:\\users\\chari\\anaconda3\\lib\\site-packages (from unstructured-client->unstructured) (1.0.0)\n",
      "Requirement already satisfied: cffi>=1.12 in c:\\users\\chari\\anaconda3\\lib\\site-packages (from cryptography>=3.1->unstructured-client->unstructured) (1.17.1)\n",
      "Requirement already satisfied: anyio in c:\\users\\chari\\anaconda3\\lib\\site-packages (from httpx>=0.27.0->unstructured-client->unstructured) (4.2.0)\n",
      "Requirement already satisfied: httpcore==1.* in c:\\users\\chari\\anaconda3\\lib\\site-packages (from httpx>=0.27.0->unstructured-client->unstructured) (1.0.2)\n",
      "Requirement already satisfied: sniffio in c:\\users\\chari\\anaconda3\\lib\\site-packages (from httpx>=0.27.0->unstructured-client->unstructured) (1.3.0)\n",
      "Requirement already satisfied: h11<0.15,>=0.13 in c:\\users\\chari\\anaconda3\\lib\\site-packages (from httpcore==1.*->httpx>=0.27.0->unstructured-client->unstructured) (0.14.0)\n",
      "Requirement already satisfied: packaging>=17.0 in c:\\users\\chari\\anaconda3\\lib\\site-packages (from marshmallow<4.0.0,>=3.18.0->dataclasses-json->unstructured) (24.1)\n",
      "Requirement already satisfied: annotated-types>=0.6.0 in c:\\users\\chari\\anaconda3\\lib\\site-packages (from pydantic<2.10.0,>=2.9.2->unstructured-client->unstructured) (0.6.0)\n",
      "Requirement already satisfied: pydantic-core==2.23.4 in c:\\users\\chari\\anaconda3\\lib\\site-packages (from pydantic<2.10.0,>=2.9.2->unstructured-client->unstructured) (2.23.4)\n",
      "Requirement already satisfied: mypy-extensions>=0.3.0 in c:\\users\\chari\\anaconda3\\lib\\site-packages (from typing-inspect<1,>=0.4.0->dataclasses-json->unstructured) (1.0.0)\n",
      "Requirement already satisfied: pycparser in c:\\users\\chari\\anaconda3\\lib\\site-packages (from cffi>=1.12->cryptography>=3.1->unstructured-client->unstructured) (2.21)\n",
      "Note: you may need to restart the kernel to use updated packages.\n"
     ]
    }
   ],
   "source": [
    "pip install unstructured\n"
   ]
  },
  {
   "cell_type": "code",
   "execution_count": 81,
   "id": "dbc76052-1d4e-41f9-ab17-0c3bd9bfcf11",
   "metadata": {},
   "outputs": [
    {
     "name": "stdout",
     "output_type": "stream",
     "text": [
      "Requirement already satisfied: pip in c:\\users\\chari\\anaconda3\\lib\\site-packages (24.3.1)\n",
      "Note: you may need to restart the kernel to use updated packages.\n"
     ]
    }
   ],
   "source": [
    "pip install --upgrade pip\n"
   ]
  },
  {
   "cell_type": "code",
   "execution_count": 82,
   "id": "de10431c-9271-4a97-b967-2f86e5fc638d",
   "metadata": {},
   "outputs": [
    {
     "name": "stdout",
     "output_type": "stream",
     "text": [
      "Requirement already satisfied: langchain in c:\\users\\chari\\anaconda3\\lib\\site-packages (0.3.7)\n",
      "Requirement already satisfied: PyYAML>=5.3 in c:\\users\\chari\\anaconda3\\lib\\site-packages (from langchain) (6.0.1)\n",
      "Requirement already satisfied: SQLAlchemy<3,>=1.4 in c:\\users\\chari\\anaconda3\\lib\\site-packages (from langchain) (2.0.34)\n",
      "Requirement already satisfied: aiohttp<4.0.0,>=3.8.3 in c:\\users\\chari\\anaconda3\\lib\\site-packages (from langchain) (3.10.5)\n",
      "Requirement already satisfied: langchain-core<0.4.0,>=0.3.15 in c:\\users\\chari\\anaconda3\\lib\\site-packages (from langchain) (0.3.19)\n",
      "Requirement already satisfied: langchain-text-splitters<0.4.0,>=0.3.0 in c:\\users\\chari\\anaconda3\\lib\\site-packages (from langchain) (0.3.2)\n",
      "Requirement already satisfied: langsmith<0.2.0,>=0.1.17 in c:\\users\\chari\\anaconda3\\lib\\site-packages (from langchain) (0.1.143)\n",
      "Requirement already satisfied: numpy<2.0.0,>=1.26.0 in c:\\users\\chari\\anaconda3\\lib\\site-packages (from langchain) (1.26.4)\n",
      "Requirement already satisfied: pydantic<3.0.0,>=2.7.4 in c:\\users\\chari\\anaconda3\\lib\\site-packages (from langchain) (2.9.2)\n",
      "Requirement already satisfied: requests<3,>=2 in c:\\users\\chari\\anaconda3\\lib\\site-packages (from langchain) (2.32.3)\n",
      "Requirement already satisfied: tenacity!=8.4.0,<10,>=8.1.0 in c:\\users\\chari\\anaconda3\\lib\\site-packages (from langchain) (8.2.3)\n",
      "Requirement already satisfied: aiohappyeyeballs>=2.3.0 in c:\\users\\chari\\anaconda3\\lib\\site-packages (from aiohttp<4.0.0,>=3.8.3->langchain) (2.4.0)\n",
      "Requirement already satisfied: aiosignal>=1.1.2 in c:\\users\\chari\\anaconda3\\lib\\site-packages (from aiohttp<4.0.0,>=3.8.3->langchain) (1.2.0)\n",
      "Requirement already satisfied: attrs>=17.3.0 in c:\\users\\chari\\anaconda3\\lib\\site-packages (from aiohttp<4.0.0,>=3.8.3->langchain) (23.1.0)\n",
      "Requirement already satisfied: frozenlist>=1.1.1 in c:\\users\\chari\\anaconda3\\lib\\site-packages (from aiohttp<4.0.0,>=3.8.3->langchain) (1.4.0)\n",
      "Requirement already satisfied: multidict<7.0,>=4.5 in c:\\users\\chari\\anaconda3\\lib\\site-packages (from aiohttp<4.0.0,>=3.8.3->langchain) (6.0.4)\n",
      "Requirement already satisfied: yarl<2.0,>=1.0 in c:\\users\\chari\\anaconda3\\lib\\site-packages (from aiohttp<4.0.0,>=3.8.3->langchain) (1.11.0)\n",
      "Requirement already satisfied: jsonpatch<2.0,>=1.33 in c:\\users\\chari\\anaconda3\\lib\\site-packages (from langchain-core<0.4.0,>=0.3.15->langchain) (1.33)\n",
      "Requirement already satisfied: packaging<25,>=23.2 in c:\\users\\chari\\anaconda3\\lib\\site-packages (from langchain-core<0.4.0,>=0.3.15->langchain) (24.1)\n",
      "Requirement already satisfied: typing-extensions>=4.7 in c:\\users\\chari\\anaconda3\\lib\\site-packages (from langchain-core<0.4.0,>=0.3.15->langchain) (4.11.0)\n",
      "Requirement already satisfied: httpx<1,>=0.23.0 in c:\\users\\chari\\anaconda3\\lib\\site-packages (from langsmith<0.2.0,>=0.1.17->langchain) (0.27.0)\n",
      "Requirement already satisfied: orjson<4.0.0,>=3.9.14 in c:\\users\\chari\\anaconda3\\lib\\site-packages (from langsmith<0.2.0,>=0.1.17->langchain) (3.10.11)\n",
      "Requirement already satisfied: requests-toolbelt<2.0.0,>=1.0.0 in c:\\users\\chari\\anaconda3\\lib\\site-packages (from langsmith<0.2.0,>=0.1.17->langchain) (1.0.0)\n",
      "Requirement already satisfied: annotated-types>=0.6.0 in c:\\users\\chari\\anaconda3\\lib\\site-packages (from pydantic<3.0.0,>=2.7.4->langchain) (0.6.0)\n",
      "Requirement already satisfied: pydantic-core==2.23.4 in c:\\users\\chari\\anaconda3\\lib\\site-packages (from pydantic<3.0.0,>=2.7.4->langchain) (2.23.4)\n",
      "Requirement already satisfied: charset-normalizer<4,>=2 in c:\\users\\chari\\anaconda3\\lib\\site-packages (from requests<3,>=2->langchain) (3.3.2)\n",
      "Requirement already satisfied: idna<4,>=2.5 in c:\\users\\chari\\anaconda3\\lib\\site-packages (from requests<3,>=2->langchain) (3.7)\n",
      "Requirement already satisfied: urllib3<3,>=1.21.1 in c:\\users\\chari\\anaconda3\\lib\\site-packages (from requests<3,>=2->langchain) (2.2.3)\n",
      "Requirement already satisfied: certifi>=2017.4.17 in c:\\users\\chari\\anaconda3\\lib\\site-packages (from requests<3,>=2->langchain) (2024.8.30)\n",
      "Requirement already satisfied: greenlet!=0.4.17 in c:\\users\\chari\\anaconda3\\lib\\site-packages (from SQLAlchemy<3,>=1.4->langchain) (3.0.1)\n",
      "Requirement already satisfied: anyio in c:\\users\\chari\\anaconda3\\lib\\site-packages (from httpx<1,>=0.23.0->langsmith<0.2.0,>=0.1.17->langchain) (4.2.0)\n",
      "Requirement already satisfied: httpcore==1.* in c:\\users\\chari\\anaconda3\\lib\\site-packages (from httpx<1,>=0.23.0->langsmith<0.2.0,>=0.1.17->langchain) (1.0.2)\n",
      "Requirement already satisfied: sniffio in c:\\users\\chari\\anaconda3\\lib\\site-packages (from httpx<1,>=0.23.0->langsmith<0.2.0,>=0.1.17->langchain) (1.3.0)\n",
      "Requirement already satisfied: h11<0.15,>=0.13 in c:\\users\\chari\\anaconda3\\lib\\site-packages (from httpcore==1.*->httpx<1,>=0.23.0->langsmith<0.2.0,>=0.1.17->langchain) (0.14.0)\n",
      "Requirement already satisfied: jsonpointer>=1.9 in c:\\users\\chari\\anaconda3\\lib\\site-packages (from jsonpatch<2.0,>=1.33->langchain-core<0.4.0,>=0.3.15->langchain) (2.1)\n",
      "Note: you may need to restart the kernel to use updated packages.\n"
     ]
    }
   ],
   "source": [
    "pip install langchain"
   ]
  },
  {
   "cell_type": "code",
   "execution_count": 83,
   "id": "ca77acc9-c846-49db-9f90-f29afbf761b6",
   "metadata": {},
   "outputs": [],
   "source": [
    "from langchain_community.document_loaders import UnstructuredURLLoader"
   ]
  },
  {
   "cell_type": "code",
   "execution_count": 84,
   "id": "c2ae9cdf-17ab-4996-b1ca-5f3971cd8f57",
   "metadata": {},
   "outputs": [],
   "source": [
    "loader = UnstructuredURLLoader(\n",
    "    urls = [\n",
    "        \"https://www.moneycontrol.com/news/business/stocks/accumulate-tata-motors-target-of-rs-1075-prabhudas-lilladher-12538061.html\",\n",
    "        \"https://www.moneycontrol.com/news/business/stocks/buy-tata-motors-target-of-rs-1188-sharekhan-12411611.html\",\n",
    "        \"https://www.moneycontrol.com/news/business/stocks/reduce-tata-motors-target-of-rs-901-icici-securities-12411521.html\"\n",
    "        \n",
    "        \n",
    "    ])"
   ]
  },
  {
   "cell_type": "code",
   "execution_count": 85,
   "id": "8269da56-f61d-4128-96e0-5f0cb65318a7",
   "metadata": {},
   "outputs": [],
   "source": [
    "data = loader.load()"
   ]
  },
  {
   "cell_type": "code",
   "execution_count": 86,
   "id": "937cb98c-7eca-4a82-83d1-4eb871f13f23",
   "metadata": {},
   "outputs": [
    {
     "data": {
      "text/plain": [
       "[Document(metadata={'source': 'https://www.moneycontrol.com/news/business/stocks/accumulate-tata-motors-target-of-rs-1075-prabhudas-lilladher-12538061.html'}, page_content=\"English\\n\\nHindi\\n\\nGujarati\\n\\nSpecials\\n\\nHello, Login\\n\\nHello, Login\\n\\nLog-inor Sign-Up\\n\\nMy Account\\n\\nMy Profile\\n\\nMy Portfolio\\n\\nMy Watchlist\\n\\nMy Alerts\\n\\nMy Messages\\n\\nPrice Alerts\\n\\nMy Profile\\n\\nMy PRO\\n\\nMy Portfolio\\n\\nMy Watchlist\\n\\nMy Alerts\\n\\nMy Messages\\n\\nPrice Alerts\\n\\nLogout\\n\\nLoans up to ₹15 LAKHS\\n\\nFixed Deposits\\n\\nCredit CardsLifetime Free\\n\\nCredit Score\\n\\nChat with Us\\n\\nDownload App\\n\\nFollow us on:\\n\\nGo Ad-Free\\n\\nMy Alerts\\n\\n>->MC_ENG_DESKTOP/MC_ENG_NEWS/MC_ENG_STOCKS_AS/MC_ENG_ROS_NWS_STK_AS_ATF_728\\n\\nGo PRO @₹99 PRO\\n\\nAdvertisement\\n\\nRemove Ad\\n\\nBusiness\\n\\nMarkets\\n\\nStocks\\n\\nEconomy\\n\\nCompanies\\n\\nTrends\\n\\nIPO\\n\\nOpinion\\n\\nEV Special\\n\\nHomeNewsBusinessStocksAccumulate Tata Motors; target of Rs 1075: Prabhudas Lilladher\\n\\nTrending Topics\\n\\nIndia Q2 GDP Data LiveFiscal Deficit India GDPIndian RupeeAster DM Merger\\n\\nAccumulate Tata Motors; target of Rs 1075: Prabhudas Lilladher\\n\\nPrabhudas Lilladher recommended accumulate rating on Tata Motors with a target price of Rs 1075 in its research report dated March 28, 2024.\\n\\nBroker Research\\n\\nMarch 28, 2024 / 19:52 IST\\n\\nAccumulate\\n\\nWatchlist\\n\\nPortfolio\\n\\nMessage\\n\\nSet Alert\\n\\nlive\\n\\nbselive\\n\\nnselive\\n\\nVolume\\n\\nTodays L/H\\n\\nMore\\n\\nPrabhudas Lilladher's research report on Tata Motors\\n\\nWe met with Tata Motors' management to understand the rationale behind the demerger and receive general business updates. TTMT is on track to meet its outlined operational metrics, viewing the demerger as having no impact on these objectives. TTMT expects demerger to offer greater maneuverability, aiming for both entities to operate in a self-sustaining manner. Although we see limited benefits in terms of value unlocking, TTMT's confidence reassures us of a sustainable recovery in both the India PV and JLR. We remain positive on Tata Motors based on: 1) JLR’s volume ramp-up, leading to strong revenue, profitability, and FCF; 2) a focus on increasing market share in the PV segment through model launches and rising EV penetration; and 3) profitable and robust FCF performance, driven by margin expansion in the CV segment. We have adjusted our estimates primarily for the India businesses, resulting in a consolidated EPS change of 0.4% for FY24-FY26E, with an estimated CAGR of 12.4% over the same period.\\n\\nStory continues below Advertisement\\n\\nRemove Ad\\n\\nOutlook\\n\\nWe have increased our EV/EBITDA multiple for the India PV business to 13x to align it more closely with Maruti Suzuki. Consequently, our SoTP-based TP has been revised upwards to Rs. 1,075. However, given the stock's sharp runup over the last three months, we are downgrading our recommendation to 'ACCUMULATE' from 'Buy'.\\n\\nFor all IPO report, click here\\n\\nRelated stories\\n\\nBuy KEC International; target of Rs 1250: Sharekhan\\n\\nBuy Cipla; target of Rs 1730 Prabhudas Lilladher\\n\\nBuy Lloyds Metals and Energy; target of Rs 1260: Anand Rathi\\n\\nDisclaimer: The views and investment tips expressed by investment experts/broking houses/rating agencies on moneycontrol.com are their own, and not that of the website or its management. Moneycontrol.com advises users to check with certified experts before taking any investment decisions.\\n\\nTata Motors - 28032024 - prabhu\\n\\nBroker Research\\n\\nTags: #Accumulate #Prabhudas Lilladher #Recommendations #Tata Motors\\n\\nfirst published: Mar 28, 2024 03:36 pm\\n\\nDiscover the latest business news, Sensex, and Nifty updates. Obtain Personal Finance insights, tax queries, and expert opinions on Moneycontrol or download the Moneycontrol App to stay updated!\\n\\nAdvertisement\\n\\nRemove Ad\\n\\nTrending news\\n\\n'This is...': Elon Musk praises Apple's ad for AirPods Pro 2 titled 'Heartstrings'. Watch\\n\\nThis is how Zerodha's Nithin Kamath protects himself from stock market frauds: 'One thing you can do...'\\n\\nUnacademy CEO Gaurav Munjal tries Duolingo to learn Spanish: '100 days and I still couldn't speak or write'\\n\\n'India is not for beginners': UP man performs breakdance after being released from jail. Watch\\n\\nChina woman makes Rs 35 lakh in 3 months from 'flash marriages'. All about the scam\\n\\nAdvisory Alert:\\n\\nForum Facebook Twitter Instagram Linkedin RSS\\n\\nPortfolio\\n\\nMarkets\\n\\nLoans up to ₹15 LAKHS\\n\\nWatchlist\\n\\nLive TV Show\\n\\nCurrencies\\n\\nCredit CardsLifetime Free\\n\\nCredit Score\\n\\nFinance Tracker\\n\\nCommodities\\n\\nFixed Deposits\\n\\nFixed Income\\n\\nPersonal Finance\\n\\nMutual Fund\\n\\nPre-Market\\n\\nIPO\\n\\nGlobal Market\\n\\nBudget 2024\\n\\nElections 2024\\n\\nGold Rate\\n\\nBSE Sensex\\n\\nForum\\n\\nMC 30\\n\\nNews\\n\\nBusiness\\n\\nMarkets\\n\\nStocks\\n\\nIncome Tax Calculator\\n\\nElection Schedule 2024\\n\\nIndia News\\n\\nEconomy\\n\\nMutual Funds\\n\\nPersonal Finance\\n\\nIPO News\\n\\nStartups\\n\\nStocks: A | B | C | D | E | F | G | H | I | J | K | L | M | N | O | P | Q | R | S | T | U | V | W | X | Y | Z | Others\\n\\nMutual Funds: A | B | C | D | E | F | G | H | I | J | K | L | M | N | O | P | Q | R | S | T | U | V | W | X | Y | Z\\n\\nVisit the App Store to see all our apps:\\n\\nDownload from Google PlayDownload from APP StoreDownload from Windows Phone\\n\\nTools\\n\\nRetirement Planning\\n\\nEMI Calculator\\n\\nSIP Calculator\\n\\nSIP Planner\\n\\nUseful Links\\n\\nCrypto News\\n\\nBank Holidays in India\\n\\nGold Rate Today\\n\\nSilver Rate Today\\n\\nTrending News\\n\\nStartups\\n\\nNational News\\n\\nMC Videos\\n\\nMC You Tube\\n\\nHouse Purchase Index\\n\\nBest Portfolio Manager\\n\\nSmall Savings Schemes\\n\\nBonds\\n\\nTopperLearning\\n\\nClear Study Doubts\\n\\nEducation Franchisee Opportunity\\n\\nSpecials\\n\\nMaster Your Money\\n\\nGame Changers\\n\\nInvestment Watch\\n\\nPowerYourTrade\\n\\nFocus\\n\\nSME Step Up\\n\\nNetwork 18 Sites\\n\\nNews18\\n\\nFirstpost\\n\\nCNBC TV18\\n\\nNews18 Hindi\\n\\nCricketnext\\n\\nOverdrive\\n\\nTopper Learning\\n\\nAbout us | Contact Us | Advisory Alert | Advertise with Us | Support | Disclaimer | Privacy Policy | Cookie Policy | Terms & Conditions | Careers | Financial Terms (Glossary) | FAQs | Sitemap | RSS Feed | Investors\\n\\nCopyright © Network18 Media & Investments Limited. All rights reserved. Reproduction of news articles, photos, videos or any other content in whole or in part in any form or medium without express writtern permission of moneycontrol.com is prohibited.\\n\\nYou got 30 Day’s Trial of\\n\\nGrab it Now\\n\\nAd-Free Experience\\n\\nTop Articles from Financial Times\\n\\nActionable Insights\\n\\nMC Research\\n\\nEconomic Calendar\\n\\n& Many More\\n\\nYou are already a Moneycontrol Pro user.\\n\\nSubhash Helgaokar\"),\n",
       " Document(metadata={'source': 'https://www.moneycontrol.com/news/business/stocks/buy-tata-motors-target-of-rs-1188-sharekhan-12411611.html'}, page_content=\"English\\n\\nHindi\\n\\nGujarati\\n\\nSpecials\\n\\nHello, Login\\n\\nHello, Login\\n\\nLog-inor Sign-Up\\n\\nMy Account\\n\\nMy Profile\\n\\nMy Portfolio\\n\\nMy Watchlist\\n\\nMy Alerts\\n\\nMy Messages\\n\\nPrice Alerts\\n\\nMy Profile\\n\\nMy PRO\\n\\nMy Portfolio\\n\\nMy Watchlist\\n\\nMy Alerts\\n\\nMy Messages\\n\\nPrice Alerts\\n\\nLogout\\n\\nLoans up to ₹15 LAKHS\\n\\nFixed Deposits\\n\\nCredit CardsLifetime Free\\n\\nCredit Score\\n\\nChat with Us\\n\\nDownload App\\n\\nFollow us on:\\n\\nGo Ad-Free\\n\\nMy Alerts\\n\\n>->MC_ENG_DESKTOP/MC_ENG_NEWS/MC_ENG_STOCKS_AS/MC_ENG_ROS_NWS_STK_AS_ATF_728\\n\\nGo PRO @₹99 PRO\\n\\nAdvertisement\\n\\nRemove Ad\\n\\nBusiness\\n\\nMarkets\\n\\nStocks\\n\\nEconomy\\n\\nCompanies\\n\\nTrends\\n\\nIPO\\n\\nOpinion\\n\\nEV Special\\n\\nHomeNewsBusinessStocksBuy Tata Motors; target of Rs 1188: Sharekhan\\n\\nTrending Topics\\n\\nIndia Q2 GDP Data LiveFiscal Deficit India GDPIndian RupeeAster DM Merger\\n\\nBuy Tata Motors; target of Rs 1188: Sharekhan\\n\\nSharekhan is bullish on Tata Motors has recommended buy rating on the stock with a target price of Rs 1188 in its research report dated March 05, 2024.\\n\\nBroker Research\\n\\nMarch 06, 2024 / 13:41 IST\\n\\nBuy\\n\\nWatchlist\\n\\nPortfolio\\n\\nMessage\\n\\nSet Alert\\n\\nlive\\n\\nbselive\\n\\nnselive\\n\\nVolume\\n\\nTodays L/H\\n\\nMore\\n\\nSharekhan's research report on Tata Motors\\n\\nTata Motors Ltd plans to separately list its CV and PV businesses in equity markets. TML has been consistently showing an improvement in all of its business segments.\\n\\nStory continues below Advertisement\\n\\nRemove Ad\\n\\nOutlook\\n\\nWe maintain a Buy with a revised PT of Rs 1,188 on expectations of continued improvement in JLR, PV and CV business and reduced net automotive debt from current levels. Stock trades at P/E multiple of 14.6x and EV/EBITDA multiple of 5.6x its FY26E estimates.\\n\\nFor all recommendations report, click here\\n\\nDisclaimer: The views and investment tips expressed by investment experts/broking houses/rating agencies on moneycontrol.com are their own, and not that of the website or its management. Moneycontrol.com advises users to check with certified experts before taking any investment decisions.\\n\\nTata Motors - 06032024 - khan\\n\\nBroker Research\\n\\nTags: #Buy #Recommendations #Sharekhan #Tata Motors\\n\\nfirst published: Mar 6, 2024 01:41 pm\\n\\nDiscover the latest business news, Sensex, and Nifty updates. Obtain Personal Finance insights, tax queries, and expert opinions on Moneycontrol or download the Moneycontrol App to stay updated!\\n\\nAdvertisement\\n\\nRemove Ad\\n\\nAdvisory Alert:\\n\\nForum Facebook Twitter Instagram Linkedin RSS\\n\\nPortfolio\\n\\nMarkets\\n\\nLoans up to ₹15 LAKHS\\n\\nWatchlist\\n\\nLive TV Show\\n\\nCurrencies\\n\\nCredit CardsLifetime Free\\n\\nCredit Score\\n\\nFinance Tracker\\n\\nCommodities\\n\\nFixed Deposits\\n\\nFixed Income\\n\\nPersonal Finance\\n\\nMutual Fund\\n\\nPre-Market\\n\\nIPO\\n\\nGlobal Market\\n\\nBudget 2024\\n\\nElections 2024\\n\\nGold Rate\\n\\nBSE Sensex\\n\\nForum\\n\\nMC 30\\n\\nNews\\n\\nBusiness\\n\\nMarkets\\n\\nStocks\\n\\nIncome Tax Calculator\\n\\nElection Schedule 2024\\n\\nIndia News\\n\\nEconomy\\n\\nMutual Funds\\n\\nPersonal Finance\\n\\nIPO News\\n\\nStartups\\n\\nStocks: A | B | C | D | E | F | G | H | I | J | K | L | M | N | O | P | Q | R | S | T | U | V | W | X | Y | Z | Others\\n\\nMutual Funds: A | B | C | D | E | F | G | H | I | J | K | L | M | N | O | P | Q | R | S | T | U | V | W | X | Y | Z\\n\\nVisit the App Store to see all our apps:\\n\\nDownload from Google PlayDownload from APP StoreDownload from Windows Phone\\n\\nTools\\n\\nRetirement Planning\\n\\nEMI Calculator\\n\\nSIP Calculator\\n\\nSIP Planner\\n\\nUseful Links\\n\\nCrypto News\\n\\nBank Holidays in India\\n\\nGold Rate Today\\n\\nSilver Rate Today\\n\\nTrending News\\n\\nStartups\\n\\nNational News\\n\\nMC Videos\\n\\nMC You Tube\\n\\nHouse Purchase Index\\n\\nBest Portfolio Manager\\n\\nSmall Savings Schemes\\n\\nBonds\\n\\nTopperLearning\\n\\nClear Study Doubts\\n\\nEducation Franchisee Opportunity\\n\\nSpecials\\n\\nMaster Your Money\\n\\nGame Changers\\n\\nInvestment Watch\\n\\nPowerYourTrade\\n\\nFocus\\n\\nSME Step Up\\n\\nNetwork 18 Sites\\n\\nNews18\\n\\nFirstpost\\n\\nCNBC TV18\\n\\nNews18 Hindi\\n\\nCricketnext\\n\\nOverdrive\\n\\nTopper Learning\\n\\nAbout us | Contact Us | Advisory Alert | Advertise with Us | Support | Disclaimer | Privacy Policy | Cookie Policy | Terms & Conditions | Careers | Financial Terms (Glossary) | FAQs | Sitemap | RSS Feed | Investors\\n\\nCopyright © Network18 Media & Investments Limited. All rights reserved. Reproduction of news articles, photos, videos or any other content in whole or in part in any form or medium without express writtern permission of moneycontrol.com is prohibited.\\n\\nYou got 30 Day’s Trial of\\n\\nGrab it Now\\n\\nAd-Free Experience\\n\\nTop Articles from Financial Times\\n\\nActionable Insights\\n\\nMC Research\\n\\nEconomic Calendar\\n\\n& Many More\\n\\nYou are already a Moneycontrol Pro user.\\n\\nSubhash Helgaokar\"),\n",
       " Document(metadata={'source': 'https://www.moneycontrol.com/news/business/stocks/reduce-tata-motors-target-of-rs-901-icici-securities-12411521.html'}, page_content=\"English\\n\\nHindi\\n\\nGujarati\\n\\nSpecials\\n\\nHello, Login\\n\\nHello, Login\\n\\nLog-inor Sign-Up\\n\\nMy Account\\n\\nMy Profile\\n\\nMy Portfolio\\n\\nMy Watchlist\\n\\nMy Alerts\\n\\nMy Messages\\n\\nPrice Alerts\\n\\nMy Profile\\n\\nMy PRO\\n\\nMy Portfolio\\n\\nMy Watchlist\\n\\nMy Alerts\\n\\nMy Messages\\n\\nPrice Alerts\\n\\nLogout\\n\\nLoans up to ₹15 LAKHS\\n\\nFixed Deposits\\n\\nCredit CardsLifetime Free\\n\\nCredit Score\\n\\nChat with Us\\n\\nDownload App\\n\\nFollow us on:\\n\\nGo Ad-Free\\n\\nMy Alerts\\n\\n>->MC_ENG_DESKTOP/MC_ENG_NEWS/MC_ENG_STOCKS_AS/MC_ENG_ROS_NWS_STK_AS_ATF_728\\n\\nGo PRO @₹99 PRO\\n\\nAdvertisement\\n\\nRemove Ad\\n\\nBusiness\\n\\nMarkets\\n\\nStocks\\n\\nEconomy\\n\\nCompanies\\n\\nTrends\\n\\nIPO\\n\\nOpinion\\n\\nEV Special\\n\\nHomeNewsBusinessStocksReduce Tata Motors; target of Rs 901: ICICI Securities\\n\\nTrending Topics\\n\\nIndia Q2 GDP Data LiveFiscal Deficit India GDPIndian RupeeAster DM Merger\\n\\nReduce Tata Motors; target of Rs 901: ICICI Securities\\n\\nICICI Securities recommended reduce rating on Tata Motors with a target price of Rs 901 in its research report dated March 06, 2024.\\n\\nBroker Research\\n\\nMarch 06, 2024 / 12:57 IST\\n\\nreduce\\n\\nWatchlist\\n\\nPortfolio\\n\\nMessage\\n\\nSet Alert\\n\\nlive\\n\\nbselive\\n\\nnselive\\n\\nVolume\\n\\nTodays L/H\\n\\nMore\\n\\nICICI Securities research report on Tata Motors\\n\\nTata Motors (TTMT) approved proposal of demerger of existing listed entity into two listed entities, one w.r.t CVs plus related investments and the other including JLR, India PVs/EVs. With identical shareholding post demerger, we believe this development would help investors manage their holdings in the CV business, as per their assessment of CV cycle’s trends. This demerger, in our view, would bring to the fore the synergistic benefits within the PV domain more efficiently and help TTMT unlock further value in domestic PVs vs. valuing India CV+PVs at 10-12x EV/EBITDA – India PVs shall be valued at 15x EV/EBITDA, 10% discount to MSIL, pushing up overall valuation by ~6%.\\n\\nStory continues below Advertisement\\n\\nRemove Ad\\n\\nOutlook\\n\\nWe downgrade TTMT to REDUCE from Hold, post its ~40% rally in past three months, with an SoTP-based TP of INR 901 (implying ~13x/2.5x FY26E India/JLR EV/EBITDA).\\n\\nFor all recommendations report, click here\\n\\nRelated stories\\n\\nBuy KEC International; target of Rs 1250: Sharekhan\\n\\nBharti Airtel leads Nifty 50 gainers, jumps 6% on ICICI Securities upgrade to 'Buy'\\n\\nBuy Cipla; target of Rs 1730 Prabhudas Lilladher\\n\\nDisclaimer: The views and investment tips expressed by investment experts/broking houses/rating agencies on moneycontrol.com are their own, and not that of the website or its management. Moneycontrol.com advises users to check with certified experts before taking any investment decisions.\\n\\nTata Motors - 06032024 -ici\\n\\nBroker Research\\n\\nTags: #ICICI Securities #Recommendations #Reduce #Tata Motors\\n\\nfirst published: Mar 6, 2024 12:49 pm\\n\\nDiscover the latest business news, Sensex, and Nifty updates. Obtain Personal Finance insights, tax queries, and expert opinions on Moneycontrol or download the Moneycontrol App to stay updated!\\n\\nAdvertisement\\n\\nRemove Ad\\n\\nTrending news\\n\\n'This is...': Elon Musk praises Apple's ad for AirPods Pro 2 titled 'Heartstrings'. Watch\\n\\nThis is how Zerodha's Nithin Kamath protects himself from stock market frauds: 'One thing you can do...'\\n\\nUnacademy CEO Gaurav Munjal tries Duolingo to learn Spanish: '100 days and I still couldn't speak or write'\\n\\n'India is not for beginners': UP man performs breakdance after being released from jail. Watch\\n\\nChina woman makes Rs 35 lakh in 3 months from 'flash marriages'. All about the scam\\n\\nAdvisory Alert:\\n\\nForum Facebook Twitter Instagram Linkedin RSS\\n\\nPortfolio\\n\\nMarkets\\n\\nLoans up to ₹15 LAKHS\\n\\nWatchlist\\n\\nLive TV Show\\n\\nCurrencies\\n\\nCredit CardsLifetime Free\\n\\nCredit Score\\n\\nFinance Tracker\\n\\nCommodities\\n\\nFixed Deposits\\n\\nFixed Income\\n\\nPersonal Finance\\n\\nMutual Fund\\n\\nPre-Market\\n\\nIPO\\n\\nGlobal Market\\n\\nBudget 2024\\n\\nElections 2024\\n\\nGold Rate\\n\\nBSE Sensex\\n\\nForum\\n\\nMC 30\\n\\nNews\\n\\nBusiness\\n\\nMarkets\\n\\nStocks\\n\\nIncome Tax Calculator\\n\\nElection Schedule 2024\\n\\nIndia News\\n\\nEconomy\\n\\nMutual Funds\\n\\nPersonal Finance\\n\\nIPO News\\n\\nStartups\\n\\nStocks: A | B | C | D | E | F | G | H | I | J | K | L | M | N | O | P | Q | R | S | T | U | V | W | X | Y | Z | Others\\n\\nMutual Funds: A | B | C | D | E | F | G | H | I | J | K | L | M | N | O | P | Q | R | S | T | U | V | W | X | Y | Z\\n\\nVisit the App Store to see all our apps:\\n\\nDownload from Google PlayDownload from APP StoreDownload from Windows Phone\\n\\nTools\\n\\nRetirement Planning\\n\\nEMI Calculator\\n\\nSIP Calculator\\n\\nSIP Planner\\n\\nUseful Links\\n\\nCrypto News\\n\\nBank Holidays in India\\n\\nGold Rate Today\\n\\nSilver Rate Today\\n\\nTrending News\\n\\nStartups\\n\\nNational News\\n\\nMC Videos\\n\\nMC You Tube\\n\\nHouse Purchase Index\\n\\nBest Portfolio Manager\\n\\nSmall Savings Schemes\\n\\nBonds\\n\\nTopperLearning\\n\\nClear Study Doubts\\n\\nEducation Franchisee Opportunity\\n\\nSpecials\\n\\nMaster Your Money\\n\\nGame Changers\\n\\nInvestment Watch\\n\\nPowerYourTrade\\n\\nFocus\\n\\nSME Step Up\\n\\nNetwork 18 Sites\\n\\nNews18\\n\\nFirstpost\\n\\nCNBC TV18\\n\\nNews18 Hindi\\n\\nCricketnext\\n\\nOverdrive\\n\\nTopper Learning\\n\\nAbout us | Contact Us | Advisory Alert | Advertise with Us | Support | Disclaimer | Privacy Policy | Cookie Policy | Terms & Conditions | Careers | Financial Terms (Glossary) | FAQs | Sitemap | RSS Feed | Investors\\n\\nCopyright © Network18 Media & Investments Limited. All rights reserved. Reproduction of news articles, photos, videos or any other content in whole or in part in any form or medium without express writtern permission of moneycontrol.com is prohibited.\\n\\nYou got 30 Day’s Trial of\\n\\nGrab it Now\\n\\nAd-Free Experience\\n\\nTop Articles from Financial Times\\n\\nActionable Insights\\n\\nMC Research\\n\\nEconomic Calendar\\n\\n& Many More\\n\\nYou are already a Moneycontrol Pro user.\\n\\nSubhash Helgaokar\")]"
      ]
     },
     "execution_count": 86,
     "metadata": {},
     "output_type": "execute_result"
    }
   ],
   "source": [
    "data"
   ]
  },
  {
   "cell_type": "code",
   "execution_count": 87,
   "id": "f4a2875a-bdc1-4ed8-9029-48fef6aee0e3",
   "metadata": {},
   "outputs": [
    {
     "data": {
      "text/plain": [
       "3"
      ]
     },
     "execution_count": 87,
     "metadata": {},
     "output_type": "execute_result"
    }
   ],
   "source": [
    "len(data)"
   ]
  },
  {
   "cell_type": "code",
   "execution_count": 88,
   "id": "a0a44b68-e70e-4882-ab56-317a48e5833a",
   "metadata": {},
   "outputs": [
    {
     "data": {
      "text/plain": [
       "\"English\\n\\nHindi\\n\\nGujarati\\n\\nSpecials\\n\\nHello, Login\\n\\nHello, Login\\n\\nLog-inor Sign-Up\\n\\nMy Account\\n\\nMy Profile\\n\\nMy Portfolio\\n\\nMy Watchlist\\n\\nMy Alerts\\n\\nMy Messages\\n\\nPrice Alerts\\n\\nMy Profile\\n\\nMy PRO\\n\\nMy Portfolio\\n\\nMy Watchlist\\n\\nMy Alerts\\n\\nMy Messages\\n\\nPrice Alerts\\n\\nLogout\\n\\nLoans up to ₹15 LAKHS\\n\\nFixed Deposits\\n\\nCredit CardsLifetime Free\\n\\nCredit Score\\n\\nChat with Us\\n\\nDownload App\\n\\nFollow us on:\\n\\nGo Ad-Free\\n\\nMy Alerts\\n\\n>->MC_ENG_DESKTOP/MC_ENG_NEWS/MC_ENG_STOCKS_AS/MC_ENG_ROS_NWS_STK_AS_ATF_728\\n\\nGo PRO @₹99 PRO\\n\\nAdvertisement\\n\\nRemove Ad\\n\\nBusiness\\n\\nMarkets\\n\\nStocks\\n\\nEconomy\\n\\nCompanies\\n\\nTrends\\n\\nIPO\\n\\nOpinion\\n\\nEV Special\\n\\nHomeNewsBusinessStocksBuy Tata Motors; target of Rs 1188: Sharekhan\\n\\nTrending Topics\\n\\nIndia Q2 GDP Data LiveFiscal Deficit India GDPIndian RupeeAster DM Merger\\n\\nBuy Tata Motors; target of Rs 1188: Sharekhan\\n\\nSharekhan is bullish on Tata Motors has recommended buy rating on the stock with a target price of Rs 1188 in its research report dated March 05, 2024.\\n\\nBroker Research\\n\\nMarch 06, 2024 / 13:41 IST\\n\\nBuy\\n\\nWatchlist\\n\\nPortfolio\\n\\nMessage\\n\\nSet Alert\\n\\nlive\\n\\nbselive\\n\\nnselive\\n\\nVolume\\n\\nTodays L/H\\n\\nMore\\n\\nSharekhan's research report on Tata Motors\\n\\nTata Motors Ltd plans to separately list its CV and PV businesses in equity markets. TML has been consistently showing an improvement in all of its business segments.\\n\\nStory continues below Advertisement\\n\\nRemove Ad\\n\\nOutlook\\n\\nWe maintain a Buy with a revised PT of Rs 1,188 on expectations of continued improvement in JLR, PV and CV business and reduced net automotive debt from current levels. Stock trades at P/E multiple of 14.6x and EV/EBITDA multiple of 5.6x its FY26E estimates.\\n\\nFor all recommendations report, click here\\n\\nDisclaimer: The views and investment tips expressed by investment experts/broking houses/rating agencies on moneycontrol.com are their own, and not that of the website or its management. Moneycontrol.com advises users to check with certified experts before taking any investment decisions.\\n\\nTata Motors - 06032024 - khan\\n\\nBroker Research\\n\\nTags: #Buy #Recommendations #Sharekhan #Tata Motors\\n\\nfirst published: Mar 6, 2024 01:41 pm\\n\\nDiscover the latest business news, Sensex, and Nifty updates. Obtain Personal Finance insights, tax queries, and expert opinions on Moneycontrol or download the Moneycontrol App to stay updated!\\n\\nAdvertisement\\n\\nRemove Ad\\n\\nAdvisory Alert:\\n\\nForum Facebook Twitter Instagram Linkedin RSS\\n\\nPortfolio\\n\\nMarkets\\n\\nLoans up to ₹15 LAKHS\\n\\nWatchlist\\n\\nLive TV Show\\n\\nCurrencies\\n\\nCredit CardsLifetime Free\\n\\nCredit Score\\n\\nFinance Tracker\\n\\nCommodities\\n\\nFixed Deposits\\n\\nFixed Income\\n\\nPersonal Finance\\n\\nMutual Fund\\n\\nPre-Market\\n\\nIPO\\n\\nGlobal Market\\n\\nBudget 2024\\n\\nElections 2024\\n\\nGold Rate\\n\\nBSE Sensex\\n\\nForum\\n\\nMC 30\\n\\nNews\\n\\nBusiness\\n\\nMarkets\\n\\nStocks\\n\\nIncome Tax Calculator\\n\\nElection Schedule 2024\\n\\nIndia News\\n\\nEconomy\\n\\nMutual Funds\\n\\nPersonal Finance\\n\\nIPO News\\n\\nStartups\\n\\nStocks: A | B | C | D | E | F | G | H | I | J | K | L | M | N | O | P | Q | R | S | T | U | V | W | X | Y | Z | Others\\n\\nMutual Funds: A | B | C | D | E | F | G | H | I | J | K | L | M | N | O | P | Q | R | S | T | U | V | W | X | Y | Z\\n\\nVisit the App Store to see all our apps:\\n\\nDownload from Google PlayDownload from APP StoreDownload from Windows Phone\\n\\nTools\\n\\nRetirement Planning\\n\\nEMI Calculator\\n\\nSIP Calculator\\n\\nSIP Planner\\n\\nUseful Links\\n\\nCrypto News\\n\\nBank Holidays in India\\n\\nGold Rate Today\\n\\nSilver Rate Today\\n\\nTrending News\\n\\nStartups\\n\\nNational News\\n\\nMC Videos\\n\\nMC You Tube\\n\\nHouse Purchase Index\\n\\nBest Portfolio Manager\\n\\nSmall Savings Schemes\\n\\nBonds\\n\\nTopperLearning\\n\\nClear Study Doubts\\n\\nEducation Franchisee Opportunity\\n\\nSpecials\\n\\nMaster Your Money\\n\\nGame Changers\\n\\nInvestment Watch\\n\\nPowerYourTrade\\n\\nFocus\\n\\nSME Step Up\\n\\nNetwork 18 Sites\\n\\nNews18\\n\\nFirstpost\\n\\nCNBC TV18\\n\\nNews18 Hindi\\n\\nCricketnext\\n\\nOverdrive\\n\\nTopper Learning\\n\\nAbout us | Contact Us | Advisory Alert | Advertise with Us | Support | Disclaimer | Privacy Policy | Cookie Policy | Terms & Conditions | Careers | Financial Terms (Glossary) | FAQs | Sitemap | RSS Feed | Investors\\n\\nCopyright © Network18 Media & Investments Limited. All rights reserved. Reproduction of news articles, photos, videos or any other content in whole or in part in any form or medium without express writtern permission of moneycontrol.com is prohibited.\\n\\nYou got 30 Day’s Trial of\\n\\nGrab it Now\\n\\nAd-Free Experience\\n\\nTop Articles from Financial Times\\n\\nActionable Insights\\n\\nMC Research\\n\\nEconomic Calendar\\n\\n& Many More\\n\\nYou are already a Moneycontrol Pro user.\\n\\nSubhash Helgaokar\""
      ]
     },
     "execution_count": 88,
     "metadata": {},
     "output_type": "execute_result"
    }
   ],
   "source": [
    "data[1].page_content"
   ]
  },
  {
   "cell_type": "code",
   "execution_count": 89,
   "id": "52b4be57-86fb-4088-84fc-1f45e2b6527d",
   "metadata": {},
   "outputs": [
    {
     "data": {
      "text/plain": [
       "{'source': 'https://www.moneycontrol.com/news/business/stocks/buy-tata-motors-target-of-rs-1188-sharekhan-12411611.html'}"
      ]
     },
     "execution_count": 89,
     "metadata": {},
     "output_type": "execute_result"
    }
   ],
   "source": [
    "data[1].metadata"
   ]
  },
  {
   "cell_type": "markdown",
   "id": "b969e745-c34c-4018-9e96-36577a440b97",
   "metadata": {},
   "source": [
    "# Text Splitting"
   ]
  },
  {
   "cell_type": "code",
   "execution_count": 91,
   "id": "4062f160-2a3d-4509-93d9-5777e7ad960f",
   "metadata": {},
   "outputs": [],
   "source": [
    "text=\"\"\"Tata Motors\n",
    "\n",
    "\n",
    "\n",
    "Tata Motors LimitedHeadquarters in MumbaiFormerlyTata Engineering and Locomotive Company Ltd. (TELCO)Company typePublicTraded asBSE: 500570NSE: TATAMOTORSBSE SENSEX constituentNSE NIFTY 50 constituentISININ9155A01020IndustryAutomotiveFounded1945; 79 years agoFounderJ. R. D. TataHeadquartersMumbai, Maharashtra, India[1]Area servedWorldwideKey peopleNatarajan Chandrasekaran  (Chairman)P. B. Balaji (CFO)[2]ProductsAutomobilesLuxury vehiclesCommercial vehiclesAutomotive partsPickup trucksSUVsProduction output1.1 million (2021)ServicesAutomotive financeVehicle leasingVehicle serviceRevenue ₹443,877 crore (US$53 billion) (2024)[3]Operating income ₹28,232 crore (US$3.4 billion) (2024)[3]Net income ₹31,806 crore (US$3.8 billion) (2024)[3]Total assets ₹370,663 crore (US$44 billion) (2024)[4]Total equity ₹93,093 crore (US$11 billion) (2024)[4]Number of employees91,811 (2024)[5]ParentTata GroupSubsidiaries\n",
    "Tata Motors Cars\n",
    "Jaguar Land Rover\n",
    "Tata Daewoo\n",
    "Tata Marcopolo\n",
    "Tata Technologies\n",
    "Tata Hispano\n",
    "Tata Hitachi Construction Machinery\n",
    "RatingS&P BB/Stable[6]Websitetatamotors.com\n",
    "Tata Motors Limited is an Indian multinational automotive company, headquartered in Mumbai and part of the Tata Group. The company produces cars, trucks, vans, and buses.[7]\n",
    "Subsidiaries include British Jaguar Land Rover and South Korean Tata Daewoo. Tata Motors has joint ventures with Hitachi (Tata Hitachi Construction Machinery) and Stellantis, which makes vehicle parts for Fiat Chrysler and Tata-branded vehicles.\n",
    "Tata Motors has auto manufacturing and vehicle plants in Jamshedpur, Pantnagar, Lucknow, Sanand, Dharwad, and Pune in India, as well as in Argentina, South Africa, the United Kingdom, and Thailand. It has research and development centers in Pune, Jamshedpur, Lucknow, Dharwad, India and South Korea, the United Kingdom, and Spain. Tata Motors is listed on the BSE and NSE, and is a constituent of the BSE SENSEX and NIFTY 50 benchmark indices. The company is ranked 265th on the Fortune Global 500 list of the world's biggest corporations as of 2019.[8]\n",
    "On 17 January 2017, Natarajan Chandrasekaran was appointed chairman of the company Tata Group. Tata Motors increased its UV market share to over 8% in FY2019.[9]\n",
    "\n",
    "\n",
    "History[edit]\n",
    "Tata Sierra (1991-2000)\n",
    "Tata Sumo (1994–2019)\n",
    "Tata Motors was founded in 1945, as a locomotive manufacturer. Tata Group entered the commercial vehicle sector in 1954 after forming a joint venture with Daimler-Benz of Germany in which Tata developed a manufacturing facility in Jamshedpur for Daimler lorries.[10] By November 1954 Tata and Daimler manufactured their first goods carrier chassis at their Jamshedpur plant with 90-100 hp and capacity of 3-5 tons.[11] After years of dominating the commercial vehicle market in India, Tata Motors entered the passenger vehicle market in 1991 by launching the Tata Sierra, a sport utility vehicle based on the Tata Mobile platform. Tata subsequently launched the Tata Estate (1992; a station wagon design based on the earlier Tata Mobile), the Tata Sumo (1994, a 5-door SUV) and the Tata Safari (1998).[citation needed]\n",
    "\n",
    "Tata Indica (first generation)\n",
    "Tata launched the Indica in 1998. A newer version of the car, named Indica V2, later appeared. Tata Motors also exported cars to South Africa.[12]\n",
    "In the 2000s, Tata Motors made a series of acquisitions and partnerships, acquiring Daewoo's South Korea-based truck manufacturing unit,[13] a joint venture with the Brazil-based Marcopolo, Tata Marcopolo Bus,[14] Jaguar Land Rover.,[15][16][17][18] Hispano Carrocera,[19] and an 80% stake in the Italian design and engineering company Trilix.[20]\n",
    "On 12 October 2021, private equity firm TPG invested $1 billion in Tata Motors' electric vehicle subsidiary.[21]\n",
    "\n",
    "Operations[edit]\n",
    "Tata Motors has vehicle assembly operations in India, the United Kingdom, South Korea, Thailand, Spain, and South Africa. It plans to establish plants in Turkey, Indonesia, and Eastern Europe.\n",
    "\n",
    "Tata Motors Cars[edit]\n",
    "\n",
    "Tata Motors Cars is a division of Tata Motors which produces passenger cars under the Tata Motors hood. Tata Motors is among the top five passenger vehicle brands in India with products in the compact, midsize car, and utility vehicle segments.[22] The company's manufacturing base in India is spread across Jamshedpur (Jharkhand), Pune (Maharashtra), Lucknow (Uttar Pradesh), Pantnagar (Uttarakhand), Dharwad (Karnataka) and Sanand (Gujarat). Tata's dealership, sales, service, and spare parts network comprise over 3,500 touchpoints.[22] Tata Motors has more than 250 dealerships in more than 195 cities across 27 states and four Union Territories of India.[23] It has the third-largest sales and service network after Maruti Suzuki and Hyundai.\n",
    "Tata also has franchisee/joint venture assembly operations in Kenya, Bangladesh, Ukraine, Russia, and Senegal.[24] Tata has dealerships in 26 countries across 4 continents.[25] Tata is present in many countries, it has managed to create a large consumer base in the Indian subcontinent, namely India, Bangladesh, Bhutan, Sri Lanka and Nepal. Tata is also present in Italy,[26] Spain,[27] Poland,[28] Romania,[29] Turkey,[30] Chile,[31] South Africa,[32] Oman, Kuwait, Qatar, Saudi Arabia, United Arab Emirates, Bahrain, Iraq, Syria and Australia.\n",
    "\n",
    "Tata Daewoo[edit]\n",
    "\n",
    "Tata LPT Trucks made at overseas plantsTata Daewoo (officially Tata Daewoo Commercial Vehicle Company and formerly Daewoo Commercial Vehicle Company) is a commercial vehicle manufacturer headquartered in Gunsan, Jeollabuk-do South Korea, and a wholly owned subsidiary of Tata Motors. It is the second-largest heavy commercial vehicle manufacturer in South Korea and was acquired by Tata Motors in 2004. The principal reasons behind the acquisition were to reduce Tata's dependence on the Indian commercial vehicle market (which was responsible for around 94% of its sales in the MHCV segment and around 84% in the light commercial vehicle segment) and expand its product portfolio by leveraging on Daewoo's strengths in the heavy-tonnage sector.\n",
    "Tata Motors has jointly worked with Tata Daewoo to develop trucks such as Novus and World Truck and buses including GloBus and StarBus. In 2012, Tata began developing a new line to manufacture competitive and fuel-efficient commercial vehicles to face the competition posed by the entry of international brands such as Mercedes-Benz, Volvo, and Navistar into the Indian market.[33]\n",
    "\n",
    "Tata Hispano[edit]\n",
    "\n",
    "Tata Hispano Motors Carrocera, S.A. was a bus and coach manufacturer based in Zaragoza, Aragon, Spain, and a wholly owned subsidiary of Tata Motors. Tata Hispano has plants in Zaragoza, Spain, and Casablanca, Morocco. Tata Motors first acquired a 21% stake in Hispano Carrocera SA in 2005,[34] and purchased the remaining 79% for an undisclosed sum in 2009, making it a fully owned subsidiary, subsequently renamed Tata Hispano. In 2013, Tata Hispano ceased production at its Zaragoza plant.[35][36]\n",
    "\n",
    "TML Drivelines[edit]\n",
    "TML Drivelines Ltd. is a wholly owned subsidiary of Tata Motors engaged in the manufacture of gearboxes and axles for heavy and medium commercial vehicles. It has production facilities at Jamshedpur and Lucknow.  TML Forge division is also a recent acquisition of TML Drivelines. TML Drivelines was formed through the merger of HV Transmission  and HV Axles.\n",
    "\n",
    "Tata Technologies[edit]\n",
    "Tata Technologies Limited (TTL) is a 43%-owned subsidiary of Tata Motors which provides design, engineering, and business process outsourcing services to the automotive industry. It is headquartered in Pune's Hinjawadi business district and also has operations in London, Detroit and Thailand. Its clients include Ford, General Motors, Honda, and Toyota.\n",
    "The British engineering and design services company Incat International, which specialises in engineering and design services and product lifecycle management in the automotive, aerospace, and engineering sectors, is a wholly owned subsidiary of TTL. It was acquired by TTL in August 2005 for ₹4 billion.\n",
    "In 2017, TAL, a subsidiary of Tata Motors, manufactured India's first industrial articulated robot for micro, small, and medium enterprises.[36]\n",
    "\n",
    "European Technical Centre[edit]\n",
    "The Tata Motors European Technical Centre (TMETC) is an automotive design, engineering, and research company based at WMG, University of Warwick on the campus of the University of Warwick in England. It was established in 2005 and is a wholly owned subsidiary of Tata Motors. It was the joint developer of the World Truck.[37]\n",
    "In September 2013, it was announced that a new National Automotive Innovation Campus would be built at WMG at Warwick's main campus at a cost of £100 million.[38][39] The initiative will be a partnership between Tata Motors, the university, and Jaguar Land Rover, with £30 million in funding coming from Tata Motors.[40]\n",
    "\n",
    "Subsidiaries[edit]\n",
    "Jaguar Land Rover[edit]\n",
    "Range Rover (L405)\n",
    "\n",
    "Land Rover Defender\n",
    "Jaguar Land Rover PLC is a premium British automaker headquartered in Whitley, Coventry, United Kingdom, and has been a wholly owned subsidiary of Tata Motors since June 2008, when it was acquired from Ford Motor Company of USA.[41] Its principal activity is the development, manufacture and sale of Jaguar luxury and sports cars and Land Rover premium four-wheel-drive vehicles.\n",
    "Jaguar Land Rover has two design centres and three assembly plants in the United Kingdom. Under Tata ownership, Jaguar Land Rover has launched new vehicles including the Range Rover Evoque, Jaguar F-Type, the Jaguar XE, the Jaguar XJ (X351), the second-generation Range Rover Sport, and Jaguar XF, the fourth-generation Land Rover Discovery, Range Rover Velar  and the Range Rover (L405).\n",
    "\n",
    "Land Rover Discovery Sport\n",
    "JD Power, of the US, rates Land Rover and Jaguar as the two worst brands for initial quality.\n",
    "[42] The Jaguar F-Pace made Consumer Reports February 2019 list of the 10 Least Reliable Cars. The editors cited \"electronics, drive system, power equipment, noises and leaks\" as problematic aspects.[43]\n",
    "The Jaguar Land Rover subsidiary was struggling by 2019 and Tata Motors wrote down its investment in JLR by $3.9 billion. Much of the financial problem was due to a 50% drop in sales in China during 2019, although the situation was improving. Still, Tata was open to considering a partnership with another company according to a statement in mid-October, as long as the partnership agreement would allow Tata to maintain control of the business. The company ruled out the possibility of a sale of JLR to another entity.[44]\n",
    "In July 2023, Tata announced its plans to invest £4 billion to build an electric car battery factory in the UK, which will be one of the largest of its kind in Europe.[45][46][47] The factory will be the company's first battery production facility outside India.[47] Located in Bridgwater, Somerset, the factory will supply Jaguar Land Rover's future battery electric models, including the Range Rover, Defender, Discovery and Jaguar brands, with the potential to also supply other car manufacturers.[36] Production at the new facility is due to start in 2026.\n",
    "\n",
    "Joint ventures[edit]\n",
    "Tata Marcopolo[edit]\n",
    "\n",
    "A Tata Marcopolo bus in use in Chandigarh, India\n",
    "Tata Marcopolo is a bus-manufacturing joint venture between Tata Motors (51%) and the Brazil-based Marcopolo S.A. (49%). The joint venture manufactures and assembles fully built buses and coaches targeted at developing mass rapid transportation systems. It uses technology and expertise in chassis and aggregates from Tata Motors, and know-how in processes and systems for bodybuilding and bus body design from Marcopolo. Tata Marcopolo has launched a low-floor city bus which is widely used by transport corporations in many Indian cities. Its manufacturing facility is based in Dharwad, Karnataka State, India and Lucknow, India.\n",
    "Tata Motors is expected to buy the 49% stake held by its partner Marcopolo in the bus-making joint venture for ₹100 crore by February 2021. The subsidiary will continue with the ‘Marcopolo’ trademark for a minimum of three years with a non-compete provision in India for a corresponding period.[48]\n",
    "\n",
    "Fiat-Tata[edit]\n",
    "Fiat-Tata is an India-based joint venture between Tata and Stellantis' Fiat which produces Fiat and Tata branded passenger cars, as well as engines and transmissions. Tata Motors has gained access to Fiat's diesel engine and transmission technology through the joint venture.[49]\n",
    "The two companies formerly also had a distribution joint venture through which Fiat products were sold in India through joint Tata-Fiat dealerships. This distribution arrangement was ended in March 2013; Fiats have since been distributed in India by Fiat Automobiles India Limited, a wholly owned subsidiary of Fiat[50][51] and now Tata Motors.\n",
    "\n",
    "Tata Hitachi Construction Machinery[edit]\n",
    "\n",
    "Tata Hitachi Construction Machinery is a joint venture between Tata Motors and Hitachi which manufactures excavators and other construction equipment.[citation needed] It was previously known as Telcon Construction Solutions.[citation needed]\n",
    "\n",
    "Tata Motors European Technical Centre[edit]\n",
    "The TATA Motors European Technical Centre is an automotive design, engineering, and research company.[citation needed] Company based at WMG, University of Warwick in the United Kingdom.[citation needed] It was established in 2005 and is wholly owned subsidiary of Tata Motors. It was the joint developer of the World Truck.[citation needed] In September 2013 it was announced that a new National Automotive Innovative Campus would be built at WMG at Warwick's main campus at a cost of 92 million pounds.[52] The initiative will be a partnership between Tata Motors, the university, and Jaguar Land Rover, with the 30 million pounds in funding coming from Tata Motors.[53]\n",
    "\n",
    "Hyundai-Tata[edit]\n",
    "Tata Motors and Hyundai are in a joint venture to provide  the automatic transmission for Tata Safari & Tata Harrier model.[54]\n",
    "\n",
    "Products[edit]\n",
    "For details of Land Rover and Jaguar products, see Jaguar Land Rover.\n",
    "\n",
    "Passenger vehicles[edit]\n",
    "\n",
    "Current Models[edit]\n",
    "\n",
    "\n",
    "Model\n",
    "\n",
    "Year of Introduction\n",
    "\n",
    "\n",
    "Hatchback\n",
    "\n",
    "\n",
    "Tata Tiago\n",
    "\n",
    "2016[55]\n",
    "\n",
    "\n",
    "Tata Altroz\n",
    "\n",
    "2020\n",
    "\n",
    "\n",
    "Sedan\n",
    "\n",
    "\n",
    "Tata Tigor\n",
    "\n",
    "2016\n",
    "\n",
    "\n",
    "SUV/Crossover\n",
    "\n",
    "\n",
    "Tata Punch\n",
    "\n",
    "2021\n",
    "\n",
    "\n",
    "Tata Nexon\n",
    "\n",
    "2017\n",
    "\n",
    "\n",
    "Tata Harrier\n",
    "\n",
    "2018\n",
    "\n",
    "\n",
    "Tata Safari\n",
    "\n",
    "2021\n",
    "\n",
    "\n",
    "Electric\n",
    "\n",
    "\n",
    "Tata Nexon EV\n",
    "\n",
    "2020\n",
    "\n",
    "\n",
    "Tata Tigor EV\n",
    "\n",
    "2021\n",
    "\n",
    "\n",
    "Tata Tiago EV\n",
    "\n",
    "2022\n",
    "\n",
    "\n",
    "Tata Punch EV\n",
    "\n",
    "2023\n",
    "\n",
    "Commercial vehicles[edit]\n",
    "Tata Ace\n",
    "Tata Ace Zip\n",
    "Tata Ace EV\n",
    "Tata Super Ace\n",
    "Tata Intra\n",
    "Tata Intra V10\n",
    "Tata Intra V20\n",
    "Tata Intra V30\n",
    "Tata Intra V50\n",
    "Tata Xenon XT\n",
    "Tata Yodha\n",
    "Tata Ace Mega\n",
    "Tata Iris\n",
    "Tata TL/Telcoline/207 Pick-up truck\n",
    "Tata 407 Ex and Ex2\n",
    "Tata 709 Ex\n",
    "Tata 807 (Steel cabin chassis, cowl chassis, medium bus chassis, steel cabin + steel body chassis)\n",
    "Tata 809 Ex and Ex2\n",
    "Tata 909 Ex and Ex2\n",
    "Tata 1210 SE and SFC (Semi Forward)\n",
    "Tata 1210 LP (Long Plate)\n",
    "Tata 1109 (Intermediate truck/ LCV bus)\n",
    "Tata 1512c (Medium bus chassis)\n",
    "Tata 1515c/1615 (Medium bus chassis)\n",
    "Tata 1612c/1616c/1618c (Heavy bus chassis)\n",
    "Tata 1618 (Semilow-floor bus chassis)\n",
    "Tata 1623 (Rear-engined low-floor bus chassis)\n",
    "Tata 1518C (Medium truck) 10 ton\n",
    "Tata 1613/1615c (Medium truck)\n",
    "Tata 1616/1618c (Heavy duty truck)\n",
    "Tata 2515c/2516c/2518c (Heavy duty 10-wheeler truck)\n",
    "Tata Starbus (Branded buses for city, intercity, school bus, and standard passenger transportation)\n",
    "Tata Divo (Hispano Divo)\n",
    "Tata CityRide (12- to 20-seater buses for intracity use)\n",
    "Tata 3015 (Heavy truck)\n",
    "Tata 3118 (Heavy truck) (8×2)\n",
    "Tata 3516 (Heavy truck)\n",
    "Tata 4018 (Heavy truck)\n",
    "Tata 4923 (Ultraheavy truck) (6×4)\n",
    "Tata Novus\n",
    "Tata Prima\n",
    "Tata SIGNA series\n",
    "Tata Ultra series (ICV Segment)\n",
    "Tata Winger - (Maxivan)\n",
    "Electric vehicles[edit]\n",
    "Tata Motors has unveiled electric versions of the Tata Indica passenger car powered by TM4 electric motors and inverters,[56] as well as the Tata Ace commercial vehicle, both of which run on lithium batteries which launched in 2022.\n",
    "In 2008 Tata Motors' UK subsidiary, Tata Motors European Technical Centre, bought a 50.3% holding in electric vehicle technology firm Miljøbil Grenland/Innovasjon of Norway for US$1.93 million, and planned to launch the electric Indica hatchback in Europe the following year.[57][58][59] In September 2010, Tata Motors presented four CNG–Electric Hybrid low-floored Starbuses to the Delhi Transport Corporation, to be used during the 2010 Commonwealth Games. These were the first environmentally friendly buses to be used for public transportation in India.\n",
    "In December 2019, Tata Motors unveiled the Nexon EV, an SUV with a 30.2KWh lithium-ion battery and a consistent range of 312 km on a single charge. It is also equipped with fast charging technology, which can charge the vehicle from 0% - 80% in 60 minutes.[60] With 525 units of Nexon EV sold in India last month, Tata Nexon EV[61] was the best-selling electric car in the month of April 2021 in India.\n",
    "Tata Passenger Electric Mobility is a subsidiary which produces electric cars under the brand name Tata Motors.[62]\n",
    "List of Tata electric vehicles:\n",
    "\n",
    "Tata Nexon EV\n",
    "Tata Tigor EV\n",
    "Tata Altroz EV\n",
    "Tata Tiago EV\n",
    "Tata Ace EV\n",
    "Tata Punch EV[63]\n",
    "Electric Vehicle Concepts[edit]\n",
    "Tata Curvv\n",
    "Tata Avinya\n",
    "Tata EVision\n",
    "Harrier.ev\n",
    "Sierra.ev[64]\n",
    "Discontinued Models[edit]\n",
    "Tata Telcoline (1988–2010)\n",
    "Tata Sierra (1991–2003)\n",
    "Tata Estate (1992–2000)\n",
    "Tata Sumo (1994–2019)\n",
    "Tata Indica (1998–2015)\n",
    "Tata Spacio (2000-2011)\n",
    "Tata Indigo (2002–2015)\n",
    "Tata Indigo Marina (2006–2009)\n",
    "Tata Xenon (2007–2018)\n",
    "Tata Sumo Grande (2008–2016)\n",
    "Tata Vista (2008–2015)\n",
    "Tata Nano (2008–2018)\n",
    "Tata Manza (2011–2016)[65]\n",
    "Tata Venture (2010–2017)\n",
    "Tata Aria (2010–2017)\n",
    "Tata Zest (2014–2020)\n",
    "Tata Bolt (2014–2019)\n",
    "Tata Hexa (2017–2020)\n",
    "Notable vehicles[edit]\n",
    "Tata Nano[edit]\n",
    "\n",
    "Tata Nano is often cited as the world's most affordable car\n",
    "The Nano was launched in 2009 as a city car intended to appeal as an affordable alternative to the section of the Indian populace that is primarily the owner of motorcycles and has not bought their first car. Initially priced at ₹100,000 (US$1,500), the vehicle attracted a lot of attention for its relatively low price. However, the Nano was very poorly rated for safety[66][67] and in 2018, Cyrus Mistry, chairman of the Tata Group, called the Tata Nano a failed project, with production ending in May 2018.[68]\n",
    "\n",
    "Tata Ace[edit]\n",
    "\n",
    "Tata Super Ace\n",
    "Tata Ace, India's first indigenously developed sub-one-ton minitruck, was launched in May 2005. The minitruck was a huge success in India with auto analysts claiming that Ace had changed the dynamics of the light commercial vehicle  (LCV) market in the country by creating a new market segment termed the small commercial vehicle  segment. Ace rapidly emerged as the first choice for transporters and single truck owners for city and rural transport.\n",
    "By October 2005, LCV sales of Tata Motors had grown by 36.6% to 28,537 units due to the rising demand for Ace. The Ace was built with a load body produced by Autoline Industries.[69]\n",
    "By 2005, Autoline was producing 300 load bodies per day for Tata Motors. Ace is still a top seller for TML with 500,000 units sold by June 2010.[70] In 2011, Tata Motors invested Rs 1000 crore in Dharwad Plant, Karnataka, with the capacity of 90,000 units annually and launched two models of 0.5-T capacity as Tata Ace Zip, Magic Iris.[71] Ace has also been exported to several Asian, European, South American, and African countries and all-electric models are sold through Polaris Industries' Global Electric Motorcars division. In Sri Lanka, it is sold through Diesel & Motor Engineering (DIMO) PLC under the name of DIMO Batta.\n",
    "\n",
    "Tata Prima[edit]\n",
    "\n",
    "A Tata Prima 4928.S in Assam, India\n",
    "Tata Prima is a range of heavy trucks first introduced in 2008 as the company's 'global' truck. Tata Prima was the winner of the 'Commercial Vehicle of the Year' at the Apollo Commercial Vehicles Awards, 2010 and 2012.\n",
    "\n",
    "Tata 407[edit]\n",
    "\n",
    "A Tata 407 being used as water truck\n",
    "The Tata 407 is a light commercial vehicle (LCV) that has sold over 500,000 units since its launch in 1986.[72] In India, this vehicle dominates market share of the LCV category, accounting for close to 75% of LCV sales. The 407 model range includes trucks, tippers, pick-ups and vehicles for agri/food products, construction, light mining and services.[73]\n",
    "\n",
    "Tata Harrier[edit]\n",
    "\n",
    "Tata Harrier\n",
    "Tata Harrier is a 5-seater SUV that rivals the MG Hector and Jeep Compass. This car uses the engine from Fiat which is a 2.0 L-4 cylinder turbocharged diesel motor and transmission from Hyundai which is a 6-speed, available in both manual and automatic. Tata Harrier is derived from the H5X Concept displayed at the 2018 Auto Expo. It was launched on 23 January 2019.[74]\n",
    "The car is a C-segment crossover SUV based on the OmegaArc platform, an essentially re-engineered version of the Jaguar Land Rover D8 platform.[75] A petrol variant of the Harrier is confirmed to launch in 2022–23.[76]\n",
    "Tata Harrier is also available in Nepal with the name H5.\n",
    "\n",
    "Tata Nexon[edit]\n",
    "\n",
    "Tata Nexon\n",
    "The Tata Nexon is a subcompact crossover SUV produced by Tata Motors since 2017. It is the first crossover SUV from Tata Motors, and occupies the sub-4 metre crossover SUV segment in India.[77] The electric version of the Nexon was revealed on 19 December 2019. The Nexon EV uses components from Tata Motors' electric vehicle technology brand Ziptron. The electric motor produces 94.7 kW (127 hp; 129 PS) and 245 N⋅m (181 lbf⋅ft) of torque and 0 - 100 under 9.9 seconds. It has a 30.2 kWh battery with an ARAI rated range of up to 312 km.[78]\n",
    "The battery can be fully charged in under 8 hours using a complimentary AC charger. It can also be charged using a 15-ampere power cable that can be used at any place with the necessary power socket. DC 25 kW fast charging can be used to charge the battery from 0 to 80% in 1 hour.[79]\n",
    "\n",
    "Restructuring[edit]\n",
    "In March 2024, Tata Motors announced plans to undergo a significant restructuring by splitting into two separate listed entities. This strategic move aims to enhance operational efficiencies and focus on distinct business segments. The demerger is expected to allow each entity to pursue tailored growth strategies and attract specific investor bases. The announcement was well-received by the market, with Tata Motors' stock experiencing a notable jump following the news.[80][81][82]\n",
    "\n",
    "See also[edit]\n",
    "List of companies of India\n",
    "List of largest companies by revenue\n",
    "List of corporations by market capitalisation\n",
    "Make in India\n",
    "Forbes Global 2000\n",
    "Fortune India 500\n",
    "Automotive industry in India\n",
    "Tata Revotron engine\n",
    "References[edit]\n",
    "\n",
    "^ \"Contact Us - Tata Motors Limited\". www.tatamotors.com. 14 October 2015. Archived from the original on 4 May 2019. Retrieved 30 July 2018.\n",
    "\n",
    "^ \"Tata Motors Ltd\". Reuters. Retrieved 19 May 2024.\n",
    "\n",
    "^ Jump up to: a b c \"Tata Motors Ltd. Financial Statements\" (PDF). bseindia.com.\n",
    "\n",
    "^ Jump up to: a b \"Tata Motors Consolidated Balance Sheet, Tata Motors Financial Statement & Accounts\" (PDF). www.bseindia.com.\n",
    "\n",
    "^ \"Tata Motors\" (PDF). Tata Motors. May 2022. Retrieved 1 June 2024. Employees: 50,837\n",
    "\n",
    "^ cite news|url=https://www.business-standard.com/amp/companies/news/s-p-upgrades-tata-motors-long-term-issuer-issue-credit-ratings-to-bb-123042600194_1.html%7Cwebsite=business-standard.com\n",
    "\n",
    "^ \"Financials of Tata Motors Limited\". CNN. Archived from the original on 16 October 2013.\n",
    "\n",
    "^ \"Fortune Global 500 list\". Archived from the original on 7 August 2019. Retrieved 18 October 2019.\n",
    "\n",
    "^ \"Tata Motors Market Share\". Auto Car Professional. Retrieved 2 April 2019.\n",
    "\n",
    "^ \"More Special A Licences Granted | 12th March 1954 | The Commercial Motor Archive\". archive.commercialmotor.com. Retrieved 30 May 2023.\n",
    "\n",
    "^ \"Government View• On Roads : Big Extension of Construction? | 12th November 1954 | The Commercial Motor Archive\". archive.commercialmotor.com. Retrieved 30 May 2023.\n",
    "\n",
    "^ \"Tata Milestones\". Archived from the original on 6 December 2010. Retrieved 22 March 2009.\n",
    "\n",
    "^ \"Tata Motors completes acquisition of Daewoo Commercial Vehicle Company\". Tata Motors. Archived from the original on 8 February 2010. Retrieved 7 October 2010.\n",
    "\n",
    "^ \"Tata Motors, Brazil co form joint venture\". The Hindu Business Line. Archived from the original on 10 October 2010. Retrieved 7 October 2010.\n",
    "\n",
    "^ \"Ford Motor Company Announces Agreement to Sell Jaguar Land Rover to Tata Motors\" (Press release). Ford Motor Company. 26 March 2008. Archived from the original on 12 June 2008. Retrieved 27 March 2008.\n",
    "\n",
    "^ \"Tata Motors enters into Definitive Agreement with Ford for purchase of Jaguar Land Rover\" (Press release). Tata Motors. 26 March 2008. Archived from the original on 5 December 2010. Retrieved 27 March 2008.\n",
    "\n",
    "^ Lewin, Tony (27 March 2008). \"Classic names are part of Tata deal\". Automotive News. Crain Communications. Archived from the original on 28 March 2008. Retrieved 18 May 2008.\n",
    "\n",
    "^ \"Tata Motors completes acquisition of Jag, Land Rover\". Thomson Reuters. 2 June 2008. Archived from the original on 29 December 2008. Retrieved 2 June 2008.\n",
    "\n",
    "^ \"Tata Motors acquires control of Hispano Carrocera\". Business-Standard. 20 October 2009. Archived from the original on 21 April 2010. Retrieved 20 October 2011.\n",
    "\n",
    "^ \"Tata Motors acquires 80% stake in Italy's Trilix\". Money Control. Archived from the original on 10 October 2010. Retrieved 7 October 2010.\n",
    "\n",
    "^ Barman, Arijit (12 October 2021). \"TPG - Tata Motors: TPG drives into Tata Motors EV business with $1 billion investment\". The Economic Times. Retrieved 13 October 2021.\n",
    "\n",
    "^ Jump up to: a b \"Tata Motors\". Tata Motors. Archived from the original on 11 January 2011. Retrieved 4 June 2009.\n",
    "\n",
    "^ \"Booking Center Locator\". tatanano.inservices.tatamotors.com. Archived from the original on 25 March 2009. Retrieved 15 January 2022.\n",
    "\n",
    "^ \"Tata Motors International : Company : Profile\". Tatacarsworldwide.com. Archived from the original on 4 March 2009. Retrieved 4 June 2009.\n",
    "\n",
    "^ \"Tata Motors International : Global Network\". Tatacarsworldwide.com. Archived from the original on 15 July 2009. Retrieved 4 June 2009.\n",
    "\n",
    "^ \"Tata Motors -\". Tata Motors. Archived from the original on 27 May 2017. Retrieved 27 September 2017.\n",
    "\n",
    "^ \"Tata Motors España. Coches Tata - Coches Nuevos y Nuevas Ofertas de Tata\". Tatamotors.es. Archived from the original on 11 October 2007. Retrieved 28 June 2015.\n",
    "\n",
    "^ \"Start - sklep internetowy Tata Motors POLSKA\". tatamotor.com.pl. Archived from the original on 28 September 2017. Retrieved 27 September 2017.\n",
    "\n",
    "^ \"Davossi\". Davossi.ro. Archived from the original on 1 August 2015. Retrieved 28 June 2015.\n",
    "\n",
    "^ \"Tata Türkıye\". Tata.com.tr. Archived from the original on 12 January 2008. Retrieved 28 June 2015.\n",
    "\n",
    "^ \"Tata Motors\". Tata-motors.cl. Archived from the original on 9 August 2011. Retrieved 28 June 2015.\n",
    "\n",
    "^ \"Tata Homepage - Tata South Africa\". Tata.co.za. Archived from the original on 26 June 2015. Retrieved 28 June 2015.\n",
    "\n",
    "^ \"Tatas readying new line of CVs to take on competition\". 14 July 2012. Archived from the original on 17 July 2012. Retrieved 14 July 2012.\n",
    "\n",
    "^ \"Hispano\". Hispano-net.com. Archived from the original on 28 September 2010. Retrieved 11 October 2010.\n",
    "\n",
    "^ \"Media - Tata Motors Limited\". 10 September 2015. Archived from the original on 28 September 2017. Retrieved 27 September 2017.\n",
    "\n",
    "^ Jump up to: a b c Mondal, Manisha. \"Robotic hand rocks manufacturing cradle\". The Hindu. Retrieved 11 April 2017.\n",
    "\n",
    "^ \"Tata Motors Unveils New Range Of Trucks\". Motorbeam.com. 29 May 2009. Archived from the original on 1 June 2009. Retrieved 4 June 2009.\n",
    "\n",
    "^ \"£100m investment boost for Warwick University\". The Independent. 25 September 2013. Archived from the original on 29 September 2013. Retrieved 29 September 2013.\n",
    "\n",
    "^ \"University of Warwick £100m car centre 'will secure jobs'\". BBC. 24 September 2013. Archived from the original on 28 September 2013. Retrieved 29 September 2013.\n",
    "\n",
    "^ \"Tata Motors confirms £30m investment in UK R&D centre\". The Engineer. 3 December 2013. Archived from the original on 29 November 2014. Retrieved 27 February 2014.\n",
    "\n",
    "^ Rutherford, Mike (29 March 2008). \"Mike Rutherford ponders Tata's takeover of Land Rover and Jaguar\". The Daily Telegraph. Archived from the original on 8 April 2008. Retrieved 30 July 2008.\n",
    "\n",
    "^ McIntyre, Douglas A. (24 June 2019). \"And the Worst New Car Sold in America Is…\". MSN. Microsoft News. Retrieved 25 June 2019.\n",
    "\n",
    "^ Linkov, Jon; Elek, Steven (18 November 2021). \"10 Least Reliable Cars\". Consumer Reports. Archived from the original on 7 October 2019.\n",
    "\n",
    "^ Trudell, Craig; Coppola, Gabrielle; Kotoky, Anurag (15 October 2019). \"Tata Looks for Jaguar Land Rover Partners, but Rules Out Sale\". Bloomberg. Archived from the original on 17 October 2019.\n",
    "\n",
    "^ \"Tata Group confirms plans to build gigafactory for batteries in the UK\". Sky News. Retrieved 20 July 2023.\n",
    "\n",
    "^ Ralph, Alex (20 July 2023). \"Tata to build £4bn gigafactory in Somerset\". The Times. ISSN 0140-0460. Retrieved 20 July 2023.\n",
    "\n",
    "^ Jump up to: a b \"Tata confirms Somerset will host £4bn battery factory\". BBC News. 28 February 2024. Retrieved 28 February 2024.\n",
    "\n",
    "^ \"Tata Motors To Buy Remaining 49% Share In Tata Marcopolo Motors For Nearly ₹ 100 Crore\". Retrieved 23 December 2020.\n",
    "\n",
    "^ \"Fiat, Tata Motors set up joint venture\". timesofmalta.com. 21 October 2007. Archived from the original on 18 November 2007. Retrieved 1 April 2008.\n",
    "\n",
    "^ \"Fiat to complete split from Tata in sales ops by Mar 2013\". Business Standard. 19 September 2012. Archived from the original on 12 January 2014. Retrieved 12 January 2014.\n",
    "\n",
    "^ \"After split with Tata Motors, Fiat begins its solo India ride\". The Economic Times. 11 April 2013. Archived from the original on 12 January 2014. Retrieved 12 January 2014.\n",
    "\n",
    "^ \"£92 million National Automotive Innovation Campus to be built at University of Warwick\". warwick.ac.uk. Retrieved 6 October 2020.\n",
    "\n",
    "^ \"Tata Motors European technical centre demonstrates latest mobility technology on the Tata HEXA\". Automotive World. Archived from the original on 10 January 2019. Retrieved 9 January 2018.\n",
    "\n",
    "^ \"How Good Is All New Tata Safari 2023\". Motorlane. 12 November 2023.\n",
    "\n",
    "^ www.ETAuto.com. \"Tata Tiago to be launched on April 6 - ET Auto\". ETAuto.com. Retrieved 27 February 2024.\n",
    "\n",
    "^ \"Customers\". TM4. Archived from the original on 30 June 2015. Retrieved 28 June 2015.\n",
    "\n",
    "^ \"TMETC acquires 50.3 per cent stake in Norway's Miljo Grenland/Innovasjon; to launch first electric vehicle\". Tata.com. 14 October 2008. Archived from the original on 30 July 2013. Retrieved 2 May 2009.\n",
    "\n",
    "^ \"Tata Motors European Technical Centre\". Tata.com. Archived from the original on 24 January 2009. Retrieved 2 May 2009.\n",
    "\n",
    "^ \"Tata to launch EV next year\". Just-auto.com. 14 October 2008. Archived from the original on 29 March 2009. Retrieved 2 May 2009.\n",
    "\n",
    "^ \"Tata Nexon EV - India's Own Electric Compact SUV Powered by Ziptron\". Tata Nexon EV - India's Own Electric Compact SUV Powered by Ziptron. Retrieved 28 July 2020.\n",
    "\n",
    "^ \"Tata Nexon EV was India's best-selling electric car in April 2021\". www.timesnownews.com. 20 May 2021. Retrieved 25 June 2021.\n",
    "\n",
    "^ \"Archived copy\". Archived from the original on 8 January 2016. Retrieved 28 June 2015.{{cite web}}:  CS1 maint: archived copy as title (link)\n",
    "\n",
    "^ \"Punch.ev\". ev.tatamotors.com. Retrieved 22 January 2024.\n",
    "\n",
    "^ \"TATA Motors EV\". ev.tatamotors.com. Retrieved 22 January 2024.\n",
    "\n",
    "^ \"Tata Manza [2011-2015] - Manza [2011-2015] Price, Specs, Images, Colours\". www.cartrade.com. Retrieved 28 February 2024.\n",
    "\n",
    "^ \"Tata Nano safety under scrutiny after dire crash test results\". Guardian. 31 January 2014. Retrieved 9 September 2017.\n",
    "\n",
    "^ \"Tata Nano falls short of global crash test standards – video\". Guardian. 31 January 2014. Retrieved 9 September 2017.\n",
    "\n",
    "^ \"Air Asia Case Puts Spotlight Once Again on Cyrus Mistry's 'Legacy Hotspots'\". The Wire. Archived from the original on 9 July 2018. Retrieved 5 June 2018.\n",
    "\n",
    "^ \"Autoline - A Stamp of Perfection\". 9 February 2008. Archived from the original on 9 February 2008. Retrieved 27 September 2017.\n",
    "\n",
    "^ \"tatamotors\". Tatamotors. 14 March 2012. Archived from the original on 9 February 2008. Retrieved 8 August 2012.\n",
    "\n",
    "^ \"Autoline\". 9 February 2008. Archived from the original on 9 February 2008. Retrieved 11 October 2010.\n",
    "\n",
    "^ \"TATA Motors Annual Report 2011–2012\". Tatamotors.com. Archived from the original on 8 January 2016. Retrieved 28 June 2015.\n",
    "\n",
    "^ \"Tata Light Commercial Vehicles\". Tata Motors.\n",
    "\n",
    "^ \"2019 Tata Harrier launched in India, priced at Rs 12.69 lakh\". Archived from the original on 21 March 2019. Retrieved 21 March 2019.\n",
    "\n",
    "^ \"OMEGA-Arc: What defines Tata Harrier is the platform, here's how it's different\". The Financial Express. 12 December 2020. Retrieved 12 January 2021.\n",
    "\n",
    "^ \"Tata confirms Harrier petrol\". Autocar India. Retrieved 12 January 2021.\n",
    "\n",
    "^ Dhingra, Mayank (21 September 2017). \"Tata Motors launches Nexon compact SUV at Rs 585,000\". Autocar Professional India. Retrieved 5 March 2021.\n",
    "\n",
    "^ \"Tata Nexon EV debuts with 300 km range\". autocarindia.com. Retrieved 8 March 2021.\n",
    "\n",
    "^ \"Tata Nexon EV Review\". news18. 17 January 2021. Retrieved 17 January 2021.\n",
    "\n",
    "^ \"India's Tata Motors jumps on plans to split into two listed firms\". Reuters. 5 March 2024. Retrieved 6 March 2024.\n",
    "\n",
    "^ \"Explained: What Tata Motors' demerger plan means for the company and its shareholders\". Indian Express. 5 March 2024. Retrieved 6 March 2024.\n",
    "\n",
    "^ \"Tata Motors stock check: How does the demerger impact its fundamental and technical outlook for long-term\". Livemint. Retrieved 6 March 2024.\n",
    "\n",
    "\n",
    "External links[edit]\n",
    "\n",
    "\n",
    "Official website\n",
    "\n",
    "\n",
    "\n",
    "\n",
    "\n",
    "\n",
    "\n",
    "\"\"\""
   ]
  },
  {
   "cell_type": "code",
   "execution_count": 92,
   "id": "cba3b674-40e6-433d-9487-adb3a6e794f7",
   "metadata": {},
   "outputs": [
    {
     "data": {
      "text/plain": [
       "'Tata Motors\\n\\n\\n\\nTata Motors LimitedHeadquarters in MumbaiFormerlyTata Engineering and Locomotive Company Ltd. (TELCO)Company typePublicTraded asBSE: 500570NSE: TATAMOTORSBSE SENSEX constituentNSE NIFTY'"
      ]
     },
     "execution_count": 92,
     "metadata": {},
     "output_type": "execute_result"
    }
   ],
   "source": [
    "text[0:200]\n"
   ]
  },
  {
   "cell_type": "markdown",
   "id": "f4c6444f-e60d-4373-a49c-be324a408123",
   "metadata": {},
   "source": [
    "# CharactertextSplitter"
   ]
  },
  {
   "cell_type": "code",
   "execution_count": 94,
   "id": "cc38d967-4769-4a59-b7f2-f68be1ef9938",
   "metadata": {},
   "outputs": [],
   "source": [
    "from langchain.text_splitter import CharacterTextSplitter"
   ]
  },
  {
   "cell_type": "code",
   "execution_count": 95,
   "id": "61bd1f34-1010-499b-a9af-300621aaf564",
   "metadata": {},
   "outputs": [],
   "source": [
    "splitter = CharacterTextSplitter(\n",
    "    separator =\"\\n\",\n",
    "    chunk_size =200,\n",
    "    chunk_overlap = 5\n",
    ")"
   ]
  },
  {
   "cell_type": "code",
   "execution_count": 96,
   "id": "e39c6902-aa86-44c2-b830-4889a1c38261",
   "metadata": {},
   "outputs": [
    {
     "name": "stderr",
     "output_type": "stream",
     "text": [
      "Created a chunk of size 908, which is longer than the specified 200\n",
      "Created a chunk of size 245, which is longer than the specified 200\n",
      "Created a chunk of size 553, which is longer than the specified 200\n",
      "Created a chunk of size 818, which is longer than the specified 200\n",
      "Created a chunk of size 347, which is longer than the specified 200\n",
      "Created a chunk of size 747, which is longer than the specified 200\n",
      "Created a chunk of size 546, which is longer than the specified 200\n",
      "Created a chunk of size 745, which is longer than the specified 200\n",
      "Created a chunk of size 381, which is longer than the specified 200\n",
      "Created a chunk of size 499, which is longer than the specified 200\n",
      "Created a chunk of size 358, which is longer than the specified 200\n",
      "Created a chunk of size 354, which is longer than the specified 200\n",
      "Created a chunk of size 304, which is longer than the specified 200\n",
      "Created a chunk of size 326, which is longer than the specified 200\n",
      "Created a chunk of size 320, which is longer than the specified 200\n",
      "Created a chunk of size 379, which is longer than the specified 200\n",
      "Created a chunk of size 388, which is longer than the specified 200\n",
      "Created a chunk of size 203, which is longer than the specified 200\n",
      "Created a chunk of size 523, which is longer than the specified 200\n",
      "Created a chunk of size 560, which is longer than the specified 200\n",
      "Created a chunk of size 631, which is longer than the specified 200\n",
      "Created a chunk of size 298, which is longer than the specified 200\n",
      "Created a chunk of size 279, which is longer than the specified 200\n",
      "Created a chunk of size 344, which is longer than the specified 200\n",
      "Created a chunk of size 242, which is longer than the specified 200\n",
      "Created a chunk of size 671, which is longer than the specified 200\n",
      "Created a chunk of size 232, which is longer than the specified 200\n",
      "Created a chunk of size 557, which is longer than the specified 200\n",
      "Created a chunk of size 402, which is longer than the specified 200\n",
      "Created a chunk of size 513, which is longer than the specified 200\n",
      "Created a chunk of size 450, which is longer than the specified 200\n",
      "Created a chunk of size 630, which is longer than the specified 200\n",
      "Created a chunk of size 218, which is longer than the specified 200\n",
      "Created a chunk of size 357, which is longer than the specified 200\n",
      "Created a chunk of size 371, which is longer than the specified 200\n",
      "Created a chunk of size 218, which is longer than the specified 200\n",
      "Created a chunk of size 542, which is longer than the specified 200\n",
      "Created a chunk of size 285, which is longer than the specified 200\n",
      "Created a chunk of size 485, which is longer than the specified 200\n",
      "Created a chunk of size 204, which is longer than the specified 200\n",
      "Created a chunk of size 209, which is longer than the specified 200\n",
      "Created a chunk of size 204, which is longer than the specified 200\n"
     ]
    }
   ],
   "source": [
    "chunks=splitter.split_text(text)"
   ]
  },
  {
   "cell_type": "code",
   "execution_count": 97,
   "id": "edcaef8e-7618-46ff-9e70-2499623fad78",
   "metadata": {},
   "outputs": [
    {
     "name": "stdout",
     "output_type": "stream",
     "text": [
      "11\n",
      "908\n",
      "172\n",
      "173\n",
      "245\n",
      "553\n",
      "199\n",
      "21\n",
      "818\n",
      "177\n",
      "347\n",
      "129\n",
      "192\n",
      "22\n",
      "747\n",
      "546\n",
      "17\n",
      "745\n",
      "381\n",
      "18\n",
      "499\n",
      "20\n",
      "358\n",
      "23\n",
      "354\n",
      "304\n",
      "176\n",
      "326\n",
      "320\n",
      "81\n",
      "379\n",
      "388\n",
      "120\n",
      "203\n",
      "523\n",
      "560\n",
      "90\n",
      "631\n",
      "298\n",
      "15\n",
      "279\n",
      "344\n",
      "41\n",
      "242\n",
      "43\n",
      "671\n",
      "161\n",
      "195\n",
      "187\n",
      "199\n",
      "186\n",
      "190\n",
      "191\n",
      "187\n",
      "183\n",
      "154\n",
      "232\n",
      "557\n",
      "402\n",
      "190\n",
      "189\n",
      "195\n",
      "191\n",
      "120\n",
      "513\n",
      "29\n",
      "450\n",
      "182\n",
      "630\n",
      "52\n",
      "218\n",
      "51\n",
      "357\n",
      "31\n",
      "371\n",
      "218\n",
      "85\n",
      "542\n",
      "285\n",
      "19\n",
      "485\n",
      "175\n",
      "66\n",
      "193\n",
      "80\n",
      "127\n",
      "86\n",
      "189\n",
      "191\n",
      "76\n",
      "137\n",
      "167\n",
      "92\n",
      "161\n",
      "144\n",
      "204\n",
      "209\n",
      "176\n",
      "158\n",
      "162\n",
      "141\n",
      "171\n",
      "115\n",
      "135\n",
      "140\n",
      "137\n",
      "103\n",
      "163\n",
      "145\n",
      "195\n",
      "101\n",
      "118\n",
      "140\n",
      "105\n",
      "129\n",
      "115\n",
      "138\n",
      "164\n",
      "164\n",
      "165\n",
      "192\n",
      "128\n",
      "137\n",
      "194\n",
      "109\n",
      "126\n",
      "130\n",
      "119\n",
      "150\n",
      "174\n",
      "175\n",
      "132\n",
      "190\n",
      "178\n",
      "87\n",
      "204\n",
      "121\n",
      "131\n",
      "165\n",
      "129\n",
      "143\n",
      "125\n",
      "123\n",
      "121\n",
      "120\n",
      "156\n",
      "130\n",
      "114\n",
      "104\n",
      "175\n",
      "135\n",
      "152\n",
      "75\n",
      "146\n",
      "163\n",
      "117\n",
      "144\n",
      "182\n"
     ]
    }
   ],
   "source": [
    "for chunk in  chunks:\n",
    "    print(len(chunk))\n",
    "    "
   ]
  },
  {
   "cell_type": "markdown",
   "id": "acd8e0bf-a1ca-4cf4-9e3f-07d8e87f256d",
   "metadata": {},
   "source": [
    "# Recursive Text Splitter"
   ]
  },
  {
   "cell_type": "code",
   "execution_count": 99,
   "id": "bda1c683-8f48-45b0-b72a-1fe1b4a6a116",
   "metadata": {},
   "outputs": [],
   "source": [
    "from langchain.text_splitter import RecursiveCharacterTextSplitter"
   ]
  },
  {
   "cell_type": "code",
   "execution_count": 100,
   "id": "85ab1a27-b53c-496b-ab62-206b7a53023e",
   "metadata": {},
   "outputs": [],
   "source": [
    "from langchain.text_splitter import CharacterTextSplitter"
   ]
  },
  {
   "cell_type": "code",
   "execution_count": 101,
   "id": "6880b03f-5577-44ab-a538-8fa3a87376c9",
   "metadata": {},
   "outputs": [],
   "source": [
    "splitter = RecursiveCharacterTextSplitter(\n",
    "    separators =[\"\\n\\n\",\"\\n\",\" \"],\n",
    "    chunk_size =200,\n",
    "    chunk_overlap = 0,\n",
    "    length_function = len\n",
    ")"
   ]
  },
  {
   "cell_type": "code",
   "execution_count": 102,
   "id": "b76c7253-9203-4a0e-84a3-5d6a958b8463",
   "metadata": {},
   "outputs": [],
   "source": [
    "chunks = splitter.split_text(text)"
   ]
  },
  {
   "cell_type": "code",
   "execution_count": 103,
   "id": "21ca007b-59af-4f63-88a8-cfe1c7e74909",
   "metadata": {},
   "outputs": [
    {
     "name": "stdout",
     "output_type": "stream",
     "text": [
      "11\n",
      "188\n",
      "199\n",
      "187\n",
      "197\n",
      "133\n",
      "172\n",
      "173\n",
      "194\n",
      "50\n",
      "197\n",
      "198\n",
      "156\n",
      "161\n",
      "59\n",
      "192\n",
      "199\n",
      "194\n",
      "198\n",
      "31\n",
      "177\n",
      "194\n",
      "152\n",
      "112\n",
      "16\n",
      "192\n",
      "22\n",
      "192\n",
      "193\n",
      "197\n",
      "162\n",
      "195\n",
      "191\n",
      "158\n",
      "17\n",
      "186\n",
      "199\n",
      "196\n",
      "161\n",
      "192\n",
      "188\n",
      "18\n",
      "196\n",
      "196\n",
      "105\n",
      "20\n",
      "198\n",
      "159\n",
      "23\n",
      "198\n",
      "155\n",
      "192\n",
      "111\n",
      "144\n",
      "31\n",
      "199\n",
      "126\n",
      "191\n",
      "128\n",
      "61\n",
      "19\n",
      "196\n",
      "182\n",
      "196\n",
      "191\n",
      "120\n",
      "190\n",
      "12\n",
      "198\n",
      "198\n",
      "125\n",
      "199\n",
      "195\n",
      "164\n",
      "41\n",
      "48\n",
      "195\n",
      "197\n",
      "194\n",
      "42\n",
      "199\n",
      "98\n",
      "15\n",
      "199\n",
      "79\n",
      "197\n",
      "146\n",
      "41\n",
      "194\n",
      "47\n",
      "43\n",
      "194\n",
      "191\n",
      "198\n",
      "85\n",
      "146\n",
      "197\n",
      "194\n",
      "41\n",
      "194\n",
      "186\n",
      "190\n",
      "191\n",
      "187\n",
      "183\n",
      "154\n",
      "198\n",
      "33\n",
      "197\n",
      "190\n",
      "168\n",
      "198\n",
      "196\n",
      "6\n",
      "147\n",
      "179\n",
      "194\n",
      "179\n",
      "126\n",
      "59\n",
      "197\n",
      "194\n",
      "120\n",
      "14\n",
      "14\n",
      "199\n",
      "196\n",
      "53\n",
      "182\n",
      "195\n",
      "198\n",
      "194\n",
      "40\n",
      "16\n",
      "35\n",
      "195\n",
      "22\n",
      "14\n",
      "36\n",
      "199\n",
      "157\n",
      "18\n",
      "12\n",
      "199\n",
      "171\n",
      "195\n",
      "22\n",
      "57\n",
      "16\n",
      "10\n",
      "197\n",
      "198\n",
      "145\n",
      "199\n",
      "85\n",
      "19\n",
      "194\n",
      "198\n",
      "91\n",
      "175\n",
      "66\n",
      "194\n",
      "80\n",
      "127\n",
      "86\n",
      "189\n",
      "192\n",
      "76\n",
      "137\n",
      "167\n",
      "92\n",
      "161\n",
      "144\n",
      "198\n",
      "5\n",
      "197\n",
      "11\n",
      "176\n",
      "158\n",
      "162\n",
      "141\n",
      "171\n",
      "115\n",
      "135\n",
      "140\n",
      "137\n",
      "103\n",
      "163\n",
      "145\n",
      "196\n",
      "101\n",
      "118\n",
      "140\n",
      "105\n",
      "129\n",
      "115\n",
      "138\n",
      "164\n",
      "164\n",
      "165\n",
      "192\n",
      "128\n",
      "137\n",
      "194\n",
      "109\n",
      "126\n",
      "130\n",
      "119\n",
      "150\n",
      "174\n",
      "175\n",
      "132\n",
      "190\n",
      "179\n",
      "87\n",
      "198\n",
      "5\n",
      "121\n",
      "131\n",
      "165\n",
      "129\n",
      "143\n",
      "126\n",
      "123\n",
      "121\n",
      "120\n",
      "156\n",
      "130\n",
      "114\n",
      "104\n",
      "176\n",
      "135\n",
      "152\n",
      "75\n",
      "146\n",
      "164\n",
      "117\n",
      "144\n",
      "186\n"
     ]
    }
   ],
   "source": [
    "for chunk in chunks:\n",
    "    print(len(chunk))"
   ]
  },
  {
   "cell_type": "markdown",
   "id": "d38be37b-11b7-461d-8822-89598f5c2beb",
   "metadata": {},
   "source": [
    "# Understanding Faiss"
   ]
  },
  {
   "cell_type": "code",
   "execution_count": 105,
   "id": "cb616f52-5c90-4758-b484-989e4947fd3b",
   "metadata": {},
   "outputs": [],
   "source": [
    "#!pip install faiss-cpu\n"
   ]
  },
  {
   "cell_type": "code",
   "execution_count": 106,
   "id": "f74fbfd4-9eaf-4248-90b8-bd664b24fc90",
   "metadata": {},
   "outputs": [],
   "source": [
    "#!pip install sentence-transformers"
   ]
  },
  {
   "cell_type": "code",
   "execution_count": 107,
   "id": "e59b9f36-8125-4ecf-8dc1-b07a8f8eacf8",
   "metadata": {},
   "outputs": [],
   "source": [
    "import pandas as pd"
   ]
  },
  {
   "cell_type": "code",
   "execution_count": 108,
   "id": "435ddab8-ec4b-4e26-83e4-6a91aeaf5a4a",
   "metadata": {},
   "outputs": [],
   "source": [
    "df=pd.read_csv(\"FAISS_text.csv\")"
   ]
  },
  {
   "cell_type": "code",
   "execution_count": 109,
   "id": "38f353ef-ffcf-4981-ae5f-1e43243a54af",
   "metadata": {},
   "outputs": [
    {
     "data": {
      "text/html": [
       "<div>\n",
       "<style scoped>\n",
       "    .dataframe tbody tr th:only-of-type {\n",
       "        vertical-align: middle;\n",
       "    }\n",
       "\n",
       "    .dataframe tbody tr th {\n",
       "        vertical-align: top;\n",
       "    }\n",
       "\n",
       "    .dataframe thead th {\n",
       "        text-align: right;\n",
       "    }\n",
       "</style>\n",
       "<table border=\"1\" class=\"dataframe\">\n",
       "  <thead>\n",
       "    <tr style=\"text-align: right;\">\n",
       "      <th></th>\n",
       "      <th>text</th>\n",
       "      <th>category</th>\n",
       "    </tr>\n",
       "  </thead>\n",
       "  <tbody>\n",
       "    <tr>\n",
       "      <th>0</th>\n",
       "      <td>Meditation and yoga can improve mental health</td>\n",
       "      <td>Health</td>\n",
       "    </tr>\n",
       "    <tr>\n",
       "      <th>1</th>\n",
       "      <td>Fruits, whole grains and vegetables helps cont...</td>\n",
       "      <td>Health</td>\n",
       "    </tr>\n",
       "    <tr>\n",
       "      <th>2</th>\n",
       "      <td>These are the latest fashion trends for this week</td>\n",
       "      <td>Fashion</td>\n",
       "    </tr>\n",
       "    <tr>\n",
       "      <th>3</th>\n",
       "      <td>Vibrant color jeans for male are becoming a trend</td>\n",
       "      <td>Fashion</td>\n",
       "    </tr>\n",
       "    <tr>\n",
       "      <th>4</th>\n",
       "      <td>The concert starts at 7 PM tonight</td>\n",
       "      <td>Event</td>\n",
       "    </tr>\n",
       "    <tr>\n",
       "      <th>5</th>\n",
       "      <td>Navaratri dandiya program at Expo center in Mu...</td>\n",
       "      <td>Event</td>\n",
       "    </tr>\n",
       "    <tr>\n",
       "      <th>6</th>\n",
       "      <td>Exciting vacation destinations for your next trip</td>\n",
       "      <td>Travel</td>\n",
       "    </tr>\n",
       "    <tr>\n",
       "      <th>7</th>\n",
       "      <td>Maldives and Srilanka are gaining popularity i...</td>\n",
       "      <td>Travel</td>\n",
       "    </tr>\n",
       "  </tbody>\n",
       "</table>\n",
       "</div>"
      ],
      "text/plain": [
       "                                                text category\n",
       "0      Meditation and yoga can improve mental health   Health\n",
       "1  Fruits, whole grains and vegetables helps cont...   Health\n",
       "2  These are the latest fashion trends for this week  Fashion\n",
       "3  Vibrant color jeans for male are becoming a trend  Fashion\n",
       "4                 The concert starts at 7 PM tonight    Event\n",
       "5  Navaratri dandiya program at Expo center in Mu...    Event\n",
       "6  Exciting vacation destinations for your next trip   Travel\n",
       "7  Maldives and Srilanka are gaining popularity i...   Travel"
      ]
     },
     "execution_count": 109,
     "metadata": {},
     "output_type": "execute_result"
    }
   ],
   "source": [
    "df"
   ]
  },
  {
   "cell_type": "code",
   "execution_count": 110,
   "id": "913d86b4-e813-409b-965a-b4ea5adaab84",
   "metadata": {},
   "outputs": [
    {
     "name": "stdout",
     "output_type": "stream",
     "text": [
      "Python 3.12.7\n"
     ]
    }
   ],
   "source": [
    "!python --version"
   ]
  },
  {
   "cell_type": "code",
   "execution_count": 111,
   "id": "ed667b06-1bf2-46a5-a464-4c442312453f",
   "metadata": {},
   "outputs": [
    {
     "name": "stdout",
     "output_type": "stream",
     "text": [
      "Requirement already satisfied: sentence-transformers in c:\\users\\chari\\anaconda3\\lib\\site-packages (3.3.1)\n",
      "Requirement already satisfied: transformers<5.0.0,>=4.41.0 in c:\\users\\chari\\anaconda3\\lib\\site-packages (from sentence-transformers) (4.46.3)\n",
      "Requirement already satisfied: tqdm in c:\\users\\chari\\anaconda3\\lib\\site-packages (from sentence-transformers) (4.66.5)\n",
      "Requirement already satisfied: torch>=1.11.0 in c:\\users\\chari\\anaconda3\\lib\\site-packages (from sentence-transformers) (2.5.1)\n",
      "Requirement already satisfied: scikit-learn in c:\\users\\chari\\anaconda3\\lib\\site-packages (from sentence-transformers) (1.5.1)\n",
      "Requirement already satisfied: scipy in c:\\users\\chari\\anaconda3\\lib\\site-packages (from sentence-transformers) (1.13.1)\n",
      "Requirement already satisfied: huggingface-hub>=0.20.0 in c:\\users\\chari\\anaconda3\\lib\\site-packages (from sentence-transformers) (0.26.3)\n",
      "Requirement already satisfied: Pillow in c:\\users\\chari\\anaconda3\\lib\\site-packages (from sentence-transformers) (10.4.0)\n",
      "Requirement already satisfied: filelock in c:\\users\\chari\\anaconda3\\lib\\site-packages (from huggingface-hub>=0.20.0->sentence-transformers) (3.13.1)\n",
      "Requirement already satisfied: fsspec>=2023.5.0 in c:\\users\\chari\\anaconda3\\lib\\site-packages (from huggingface-hub>=0.20.0->sentence-transformers) (2024.6.1)\n",
      "Requirement already satisfied: packaging>=20.9 in c:\\users\\chari\\anaconda3\\lib\\site-packages (from huggingface-hub>=0.20.0->sentence-transformers) (24.1)\n",
      "Requirement already satisfied: pyyaml>=5.1 in c:\\users\\chari\\anaconda3\\lib\\site-packages (from huggingface-hub>=0.20.0->sentence-transformers) (6.0.1)\n",
      "Requirement already satisfied: requests in c:\\users\\chari\\anaconda3\\lib\\site-packages (from huggingface-hub>=0.20.0->sentence-transformers) (2.32.3)\n",
      "Requirement already satisfied: typing-extensions>=3.7.4.3 in c:\\users\\chari\\anaconda3\\lib\\site-packages (from huggingface-hub>=0.20.0->sentence-transformers) (4.11.0)\n",
      "Requirement already satisfied: networkx in c:\\users\\chari\\anaconda3\\lib\\site-packages (from torch>=1.11.0->sentence-transformers) (3.3)\n",
      "Requirement already satisfied: jinja2 in c:\\users\\chari\\anaconda3\\lib\\site-packages (from torch>=1.11.0->sentence-transformers) (3.1.4)\n",
      "Requirement already satisfied: setuptools in c:\\users\\chari\\anaconda3\\lib\\site-packages (from torch>=1.11.0->sentence-transformers) (75.1.0)\n",
      "Requirement already satisfied: sympy==1.13.1 in c:\\users\\chari\\anaconda3\\lib\\site-packages (from torch>=1.11.0->sentence-transformers) (1.13.1)\n",
      "Requirement already satisfied: mpmath<1.4,>=1.1.0 in c:\\users\\chari\\anaconda3\\lib\\site-packages (from sympy==1.13.1->torch>=1.11.0->sentence-transformers) (1.3.0)\n",
      "Requirement already satisfied: colorama in c:\\users\\chari\\anaconda3\\lib\\site-packages (from tqdm->sentence-transformers) (0.4.6)\n",
      "Requirement already satisfied: numpy>=1.17 in c:\\users\\chari\\anaconda3\\lib\\site-packages (from transformers<5.0.0,>=4.41.0->sentence-transformers) (1.26.4)\n",
      "Requirement already satisfied: regex!=2019.12.17 in c:\\users\\chari\\anaconda3\\lib\\site-packages (from transformers<5.0.0,>=4.41.0->sentence-transformers) (2024.9.11)\n",
      "Requirement already satisfied: tokenizers<0.21,>=0.20 in c:\\users\\chari\\anaconda3\\lib\\site-packages (from transformers<5.0.0,>=4.41.0->sentence-transformers) (0.20.3)\n",
      "Requirement already satisfied: safetensors>=0.4.1 in c:\\users\\chari\\anaconda3\\lib\\site-packages (from transformers<5.0.0,>=4.41.0->sentence-transformers) (0.4.5)\n",
      "Requirement already satisfied: joblib>=1.2.0 in c:\\users\\chari\\anaconda3\\lib\\site-packages (from scikit-learn->sentence-transformers) (1.4.2)\n",
      "Requirement already satisfied: threadpoolctl>=3.1.0 in c:\\users\\chari\\anaconda3\\lib\\site-packages (from scikit-learn->sentence-transformers) (3.5.0)\n",
      "Requirement already satisfied: MarkupSafe>=2.0 in c:\\users\\chari\\anaconda3\\lib\\site-packages (from jinja2->torch>=1.11.0->sentence-transformers) (2.1.3)\n",
      "Requirement already satisfied: charset-normalizer<4,>=2 in c:\\users\\chari\\anaconda3\\lib\\site-packages (from requests->huggingface-hub>=0.20.0->sentence-transformers) (3.3.2)\n",
      "Requirement already satisfied: idna<4,>=2.5 in c:\\users\\chari\\anaconda3\\lib\\site-packages (from requests->huggingface-hub>=0.20.0->sentence-transformers) (3.7)\n",
      "Requirement already satisfied: urllib3<3,>=1.21.1 in c:\\users\\chari\\anaconda3\\lib\\site-packages (from requests->huggingface-hub>=0.20.0->sentence-transformers) (2.2.3)\n",
      "Requirement already satisfied: certifi>=2017.4.17 in c:\\users\\chari\\anaconda3\\lib\\site-packages (from requests->huggingface-hub>=0.20.0->sentence-transformers) (2024.8.30)\n"
     ]
    }
   ],
   "source": [
    "!pip install sentence-transformers"
   ]
  },
  {
   "cell_type": "code",
   "execution_count": 112,
   "id": "e3c33d41-afea-46d1-8752-4e95cda56782",
   "metadata": {},
   "outputs": [],
   "source": [
    "from sentence_transformers import SentenceTransformer"
   ]
  },
  {
   "cell_type": "code",
   "execution_count": 113,
   "id": "1c388b19-d96c-457d-b657-c15accfc8609",
   "metadata": {},
   "outputs": [],
   "source": [
    "encoder=SentenceTransformer('all-mpnet-base-v2')"
   ]
  },
  {
   "cell_type": "code",
   "execution_count": 114,
   "id": "3bafc2ac-fe40-4e87-8060-8eb46af5d72d",
   "metadata": {},
   "outputs": [],
   "source": [
    "vectors=encoder.encode(df.text)"
   ]
  },
  {
   "cell_type": "code",
   "execution_count": 115,
   "id": "4bbdf236-6a4c-42bf-b600-580a6659de81",
   "metadata": {},
   "outputs": [
    {
     "data": {
      "text/plain": [
       "array([[-0.00247395,  0.03626721, -0.05290459, ..., -0.09152356,\n",
       "        -0.03970002, -0.04330488],\n",
       "       [-0.03357267,  0.00980517, -0.03250129, ..., -0.05165467,\n",
       "         0.02245886, -0.03156182],\n",
       "       [-0.01865323, -0.04051314, -0.01235387, ...,  0.00610585,\n",
       "        -0.07179647,  0.02773853],\n",
       "       ...,\n",
       "       [-0.00066458,  0.04252125, -0.05645508, ...,  0.01315471,\n",
       "        -0.03183568, -0.04357664],\n",
       "       [-0.03317154,  0.03252455, -0.02484838, ...,  0.01174421,\n",
       "         0.05747123,  0.00571021],\n",
       "       [-0.00166393,  0.00413829, -0.04597083, ...,  0.02008528,\n",
       "         0.05656242, -0.00161596]], dtype=float32)"
      ]
     },
     "execution_count": 115,
     "metadata": {},
     "output_type": "execute_result"
    }
   ],
   "source": [
    "vectors"
   ]
  },
  {
   "cell_type": "code",
   "execution_count": 116,
   "id": "5dc3e9f1-d5d7-4f19-8d41-7f3011f09cf5",
   "metadata": {},
   "outputs": [
    {
     "data": {
      "text/plain": [
       "(8, 768)"
      ]
     },
     "execution_count": 116,
     "metadata": {},
     "output_type": "execute_result"
    }
   ],
   "source": [
    "vectors.shape"
   ]
  },
  {
   "cell_type": "code",
   "execution_count": 117,
   "id": "00618dbb-07bf-454c-a6d6-572d44c880c8",
   "metadata": {},
   "outputs": [
    {
     "data": {
      "text/plain": [
       "array([-2.47395248e-03,  3.62672098e-02, -5.29045872e-02, -2.17348319e-02,\n",
       "        1.41723454e-02, -1.01600331e-03,  2.23637372e-02,  3.65196317e-02,\n",
       "        3.80901434e-02,  5.22007467e-03, -3.00865676e-02,  2.05450621e-03,\n",
       "        1.08502982e-02, -8.49087834e-02, -5.57269482e-03, -6.06597736e-02,\n",
       "        2.32009869e-03, -1.51409162e-02,  1.20670889e-02,  1.98905114e-02,\n",
       "       -1.27936164e-02, -2.72811316e-02, -3.31878588e-02,  3.40648624e-03,\n",
       "        8.41166917e-03, -1.94855332e-02,  4.88132089e-02,  2.24118270e-02,\n",
       "        4.53466661e-02, -5.90892285e-02, -9.13182199e-02, -1.22332934e-03,\n",
       "       -4.05045897e-02,  8.67188256e-03,  1.26565260e-06, -1.92451514e-02,\n",
       "       -3.20659392e-02, -4.08172458e-02,  8.79177079e-02, -1.52632259e-02,\n",
       "        1.09908832e-02, -4.47976924e-02, -4.74822242e-03,  3.52632254e-02,\n",
       "        1.31070735e-02,  1.09944055e-02, -3.45762307e-03,  9.12349299e-02,\n",
       "        5.68809770e-02,  4.82893623e-02, -4.51437850e-03,  3.58451270e-02,\n",
       "       -2.44210232e-02, -4.28084731e-02, -1.66666731e-02,  1.65211316e-02,\n",
       "        1.14227980e-02,  6.19199350e-02, -2.31557414e-02, -3.98106761e-02,\n",
       "       -1.20360218e-02, -3.24893370e-02, -4.68717590e-02,  5.74309155e-02,\n",
       "       -2.09295359e-02,  8.66613910e-03,  2.93694586e-02,  1.39482028e-03,\n",
       "        2.89673191e-02,  1.57140736e-02, -4.39894106e-03,  3.33095938e-02,\n",
       "        3.25464010e-02, -5.67624019e-03,  9.64477565e-03, -1.09199723e-02,\n",
       "       -9.13844630e-03, -2.17638649e-02, -1.64262473e-03,  2.95123141e-02,\n",
       "        7.90998265e-02,  1.52952289e-02, -3.61722894e-02, -1.28437746e-02,\n",
       "        7.60599747e-02, -2.54636928e-02, -4.98353550e-03, -9.66977421e-03,\n",
       "        1.23360483e-02, -1.11458786e-02, -1.25426780e-02, -4.38241065e-02,\n",
       "       -1.63971039e-03,  3.94684728e-03,  5.90662356e-04,  1.25496993e-02,\n",
       "       -1.35576436e-02, -1.38590038e-01, -1.79839656e-02,  8.95770937e-02,\n",
       "        6.93043470e-02,  5.44512235e-02, -1.73114277e-02, -6.94496483e-02,\n",
       "        9.26831365e-03,  2.52373479e-02,  1.27631761e-02, -4.95675392e-03,\n",
       "       -1.05310697e-02,  6.89907894e-02, -4.03778069e-03,  1.46954386e-02,\n",
       "       -2.53698025e-02, -3.24942730e-02, -4.91565978e-03,  4.10973094e-03,\n",
       "       -6.16341308e-02, -9.87220369e-03, -4.40229066e-02, -2.49388143e-02,\n",
       "       -2.57239752e-02, -6.45753965e-02, -2.28087939e-02,  8.39947024e-04,\n",
       "        5.17682433e-02,  7.28095919e-02, -2.78259609e-02, -2.70896740e-02,\n",
       "        2.56125517e-02, -2.85153054e-02,  2.48931125e-02,  1.52170826e-02,\n",
       "       -1.82603002e-02,  4.57471935e-03,  4.00786381e-03, -4.10634503e-02,\n",
       "        5.58519997e-02, -4.68985690e-03, -5.42437173e-02,  4.36729379e-03,\n",
       "        1.01202549e-02, -9.13175382e-03,  8.82923678e-02, -2.30878200e-02,\n",
       "       -2.15984415e-02, -4.62850742e-02,  2.45606601e-02, -9.63651482e-03,\n",
       "        2.04568915e-02, -3.36907208e-02, -2.33146325e-02, -3.08773542e-06,\n",
       "       -4.21611108e-02, -2.33145505e-02,  3.98631245e-02,  5.20909093e-02,\n",
       "        8.87797922e-02, -7.32751098e-04,  3.44772004e-02, -2.87739858e-02,\n",
       "        4.24330533e-02, -1.99290626e-02,  2.78219972e-02, -3.48258018e-02,\n",
       "        5.40323555e-02, -4.23691906e-02,  8.31100568e-02, -2.88301427e-02,\n",
       "       -6.22712746e-02,  2.47737076e-02, -6.59210682e-02, -1.81271862e-02,\n",
       "       -1.48120672e-02,  1.07428856e-01, -4.06896183e-03,  6.28881678e-02,\n",
       "       -1.45184100e-02,  2.66864058e-02, -8.66079330e-02, -1.52695691e-02,\n",
       "       -3.13378824e-03, -2.73711351e-03, -1.79909486e-02,  1.99597366e-02,\n",
       "        8.21225643e-02,  6.80243550e-03, -7.02435710e-03,  2.94618700e-02,\n",
       "       -1.36624705e-02, -4.27074172e-02, -4.59483676e-02, -2.15018000e-02,\n",
       "        1.33594852e-02, -4.04235013e-02, -3.29468632e-03,  1.99418422e-02,\n",
       "        4.95411977e-02,  5.59021421e-02,  1.10123856e-02, -1.27649645e-03,\n",
       "       -3.47214490e-02,  5.04799262e-02, -2.76383311e-02, -6.08149171e-02,\n",
       "       -4.09358069e-02, -1.70138255e-02,  2.28634160e-02,  3.50624672e-03,\n",
       "        8.88338313e-02, -2.17470080e-02,  7.32045574e-03,  4.30594981e-02,\n",
       "       -2.76752794e-03, -1.28805162e-02,  1.48883066e-03, -7.65299611e-03,\n",
       "        7.79357448e-04,  3.98992598e-02,  1.81989539e-02,  2.18545715e-03,\n",
       "       -1.44026019e-02,  6.61468804e-02,  1.29944887e-02,  3.00712330e-04,\n",
       "        6.94511980e-02,  9.69152059e-03,  7.73052797e-02,  1.49983671e-02,\n",
       "        7.68603086e-02,  1.50437523e-02, -2.70854272e-02,  1.03822136e-02,\n",
       "       -6.34133443e-03, -1.86572019e-02, -5.77929728e-02,  2.80815586e-02,\n",
       "        2.32389066e-02, -2.65862308e-02, -4.37124260e-02,  2.25695409e-02,\n",
       "        2.60373577e-02,  5.91906086e-02, -9.07661021e-03, -2.58117504e-02,\n",
       "       -2.82168179e-03, -1.48377074e-02, -2.11602952e-02,  2.95709446e-02,\n",
       "       -6.05772808e-02,  9.92967747e-03,  3.09270504e-03, -2.78294981e-02,\n",
       "       -4.66294400e-02, -1.66598316e-02, -3.01651154e-02, -4.93829735e-02,\n",
       "       -4.89022471e-02, -1.16061624e-02,  1.28895249e-02, -1.51608828e-02,\n",
       "       -1.83716919e-02, -6.28018193e-03,  4.56341309e-03, -3.93354781e-02,\n",
       "        1.97598748e-02, -2.09158361e-02,  3.26804481e-02, -9.99122486e-02,\n",
       "       -7.31077511e-03, -2.85855085e-02, -4.75265644e-02, -7.53560662e-03,\n",
       "        7.45948963e-03, -1.76944099e-02, -3.87278162e-02, -1.26046408e-02,\n",
       "        6.57023489e-02,  9.98488516e-02,  3.23767550e-02, -3.14150564e-02,\n",
       "       -3.39231938e-02,  2.18933765e-02,  4.17155884e-02, -2.91292686e-02,\n",
       "        1.69252101e-02, -2.70651244e-02,  1.02948043e-02, -8.51277728e-03,\n",
       "        5.82498387e-02,  6.05044840e-03,  2.51693279e-02,  1.17144072e-02,\n",
       "       -1.43267941e-02, -2.68336125e-02, -3.36446166e-02,  4.13522795e-02,\n",
       "        1.23573206e-02,  3.27557474e-02,  1.36755023e-03, -3.43487971e-02,\n",
       "       -2.23306362e-02,  1.16950683e-02,  2.89603826e-02,  9.82660800e-03,\n",
       "        4.48702797e-02,  1.36506110e-02, -2.55217422e-02,  1.16558382e-02,\n",
       "        1.72282252e-02, -1.19525949e-02,  2.94620059e-02,  5.43993991e-03,\n",
       "        7.05651753e-03, -2.76310034e-02,  2.19648462e-02,  2.89274268e-02,\n",
       "        2.90115904e-02,  1.71293952e-02,  1.71571746e-02,  3.06242593e-02,\n",
       "       -3.33008706e-03, -4.28258441e-02, -2.78930832e-02, -8.78216140e-03,\n",
       "       -1.97482738e-03, -3.04208566e-02,  1.01123989e-01,  1.11175859e-02,\n",
       "        3.70046636e-03,  3.05223875e-02, -6.94842217e-03,  3.36759500e-02,\n",
       "        1.49479052e-02,  5.09506986e-02, -6.17867894e-02, -6.54374585e-02,\n",
       "        1.01318574e-02,  8.71544518e-03, -2.13060807e-02, -7.16115907e-03,\n",
       "        2.81146429e-02,  6.08832715e-03, -6.53893575e-02,  8.65299404e-02,\n",
       "       -4.26638499e-02, -1.95683595e-02,  6.20288029e-03,  5.45220561e-02,\n",
       "       -2.94234458e-04, -7.94979557e-02,  2.34850962e-02, -2.81759407e-02,\n",
       "       -2.67926864e-02,  8.09147395e-03,  1.06042959e-02, -3.51758450e-02,\n",
       "        3.66235003e-02,  1.09313298e-02,  2.97116805e-02,  1.30287791e-02,\n",
       "       -3.92856933e-02,  1.45116448e-02,  1.87349170e-02, -1.32707153e-02,\n",
       "        6.87149391e-02, -3.04464921e-02, -2.08048206e-02,  1.08850226e-02,\n",
       "        2.52188966e-02,  1.71259530e-02, -3.36281434e-02,  5.18848784e-02,\n",
       "       -1.62589941e-02,  1.43419076e-02, -5.09705767e-02,  7.62143582e-02,\n",
       "       -3.95714631e-03, -6.92037269e-02, -5.83421998e-02, -1.35672996e-02,\n",
       "        6.34213910e-03,  1.52591700e-02,  6.45107962e-03,  4.78064455e-03,\n",
       "        2.21218970e-02, -1.46030737e-02,  1.99064761e-02,  4.94005568e-02,\n",
       "        3.77786160e-02, -4.72103171e-02,  1.19165308e-03, -7.77721182e-02,\n",
       "        7.51761422e-02,  1.51350508e-02, -3.00766993e-02, -2.54277550e-02,\n",
       "       -7.68551277e-03, -3.32965888e-02,  2.68354546e-02,  1.16432970e-02,\n",
       "       -2.65071858e-02, -2.21001115e-02,  3.13200504e-02, -1.75454728e-02,\n",
       "        1.62755270e-02,  1.05225900e-02,  4.59099971e-02,  1.12993876e-02,\n",
       "        2.25951616e-03, -4.32901010e-02,  2.55049262e-02,  9.08372328e-02,\n",
       "        3.49960960e-02,  1.99541468e-02,  8.99380371e-02, -1.25246271e-02,\n",
       "        2.99614575e-02,  5.30705787e-03,  3.87516618e-02, -7.73842931e-02,\n",
       "       -2.13107932e-02,  1.71742886e-02, -2.26807781e-02,  3.90662216e-02,\n",
       "       -1.48159871e-02,  6.43334836e-02,  4.15602624e-02,  3.50659620e-03,\n",
       "       -3.73801813e-02, -2.15710439e-02,  3.59705053e-02,  1.26669956e-02,\n",
       "        1.18572237e-02, -1.57606788e-02,  2.89345738e-02, -1.26262580e-03,\n",
       "       -1.25825163e-02, -1.85953025e-02, -4.02568989e-02, -4.52977754e-02,\n",
       "       -3.23485024e-02, -9.25439131e-03,  1.25144664e-02, -1.65085811e-02,\n",
       "        1.14768194e-02,  2.81502903e-02,  8.33325461e-02,  3.36187817e-02,\n",
       "        4.08893451e-04,  3.39801051e-02,  1.61180478e-02,  3.48991752e-02,\n",
       "        1.53090367e-02, -1.57535542e-02,  4.15873267e-02, -2.98247449e-02,\n",
       "       -4.53814678e-02, -1.02242269e-01,  4.03168239e-02,  1.70004927e-02,\n",
       "        1.87224932e-02, -2.08056206e-03, -3.33347241e-03,  3.12028676e-02,\n",
       "        4.42098593e-04, -6.45755753e-02, -6.61168769e-02, -6.12062216e-02,\n",
       "       -1.36192041e-02, -2.49696653e-02,  6.13838099e-02,  2.51729898e-02,\n",
       "       -6.04649214e-03,  2.46976260e-02,  1.33112166e-02,  2.91291196e-02,\n",
       "       -3.77130210e-02,  3.14109623e-02,  7.01060370e-02, -1.87029075e-02,\n",
       "        4.64438908e-02, -3.50710303e-02,  5.78635000e-03,  2.02969834e-02,\n",
       "       -9.14937118e-04,  2.73546800e-02, -4.49903421e-02, -1.92701686e-02,\n",
       "       -1.94973231e-03, -2.72162519e-02, -1.74498430e-03,  5.99824227e-02,\n",
       "        3.38420225e-03, -4.43555377e-02,  2.25252043e-02, -1.98009014e-02,\n",
       "       -1.27885435e-02, -1.68490894e-02, -3.18890996e-02, -9.83175263e-03,\n",
       "       -2.37169228e-02, -3.51661030e-04,  2.70689907e-03,  4.34032828e-02,\n",
       "        2.23510410e-03,  1.04528144e-02, -1.25210658e-02,  3.80455293e-02,\n",
       "       -5.37322194e-04, -1.31307803e-02,  1.76105108e-02, -3.21566738e-04,\n",
       "       -4.33223583e-02, -6.97795004e-02,  2.04764828e-02,  2.54791905e-03,\n",
       "        3.64245623e-02,  1.31793069e-02,  3.74211669e-02, -2.40744743e-02,\n",
       "        1.58513132e-02,  2.33805981e-02, -1.43252825e-02,  9.85240191e-03,\n",
       "       -1.55072715e-02,  8.11946020e-03, -2.57197544e-02,  4.66310699e-03,\n",
       "       -1.50064928e-02, -1.59889143e-02, -6.18273728e-02, -3.19935083e-02,\n",
       "        3.00306976e-02, -2.62036510e-02, -4.40740287e-02,  4.71212342e-02,\n",
       "       -8.53406712e-02,  5.49824797e-02, -6.54156227e-03,  4.11518775e-02,\n",
       "        4.12454046e-02, -2.99727488e-02,  8.77856836e-02, -4.84293187e-03,\n",
       "       -1.86586771e-02, -2.43209563e-02, -3.44154029e-03,  1.71137415e-02,\n",
       "        5.27162179e-02, -3.81458700e-02, -6.85427636e-02,  1.49509469e-02,\n",
       "       -2.22114734e-02, -2.86750458e-02, -2.97920639e-03, -3.73255676e-33,\n",
       "       -8.48157890e-03,  5.95543720e-02, -9.73881222e-03,  2.78523155e-02,\n",
       "        4.26141266e-03, -4.62204106e-02, -1.60575539e-04,  2.03653332e-02,\n",
       "        2.74291933e-02,  3.67005467e-02,  8.95548705e-03,  7.47958273e-02,\n",
       "       -5.74467750e-03,  1.78796556e-02, -8.56288243e-03, -1.87858343e-02,\n",
       "       -2.86744274e-02,  5.29133249e-03, -7.28305243e-03, -1.84069090e-02,\n",
       "       -3.48132066e-02,  5.07888943e-02,  3.45481820e-02, -4.04980257e-02,\n",
       "       -4.27604429e-02,  2.78409105e-02,  4.66892943e-02, -6.46445155e-02,\n",
       "       -5.29186148e-03, -5.78816049e-03, -1.56755261e-02, -5.47080953e-03,\n",
       "        1.39788669e-02, -1.11808418e-03,  5.50410245e-04, -2.26584189e-02,\n",
       "        1.50561538e-02,  3.38191129e-02, -8.25204421e-03,  2.16513406e-02,\n",
       "        8.77551502e-04, -2.40295357e-03, -2.82622837e-02,  1.05069242e-02,\n",
       "        3.68514247e-02, -2.31945030e-02, -2.93092839e-02, -4.81787659e-02,\n",
       "        2.89041195e-02, -4.68107685e-02, -3.55234966e-02, -2.09481679e-02,\n",
       "       -8.83262604e-03,  8.06664899e-02, -8.48142579e-02, -3.95479873e-02,\n",
       "       -5.03684841e-02,  2.69837193e-02, -3.94664332e-03, -2.39755940e-02,\n",
       "        3.29292119e-02,  4.16704826e-02, -2.45395415e-02, -3.85609977e-02,\n",
       "       -3.02901231e-02, -2.84514688e-02, -6.83768913e-02, -9.38018411e-03,\n",
       "       -4.70948555e-02, -2.15400793e-02,  4.15227301e-02,  6.90572290e-03,\n",
       "        2.96323709e-02, -1.55480960e-02, -2.56335717e-02, -4.94205020e-02,\n",
       "       -1.07960925e-02,  1.36496406e-02,  8.46192706e-03,  4.44032103e-02,\n",
       "        3.94011411e-04,  2.20193453e-02,  3.60400826e-02,  5.93104661e-02,\n",
       "        2.14910135e-02, -1.90565716e-02, -2.08019484e-02,  1.91410426e-02,\n",
       "       -3.78729915e-03,  1.66846476e-02,  2.79686134e-02, -6.88841566e-03,\n",
       "       -9.25204251e-03, -2.20814962e-02,  4.68296260e-02,  2.11678147e-02,\n",
       "       -2.44130753e-02, -7.68515002e-03,  3.94080132e-02, -5.65718189e-02,\n",
       "        8.71800259e-03,  2.10748240e-02, -1.76222418e-02,  5.53251058e-02,\n",
       "        3.49679701e-02, -2.62318887e-02,  5.69754094e-02, -7.94603825e-02,\n",
       "       -1.52110066e-02,  2.09261570e-02,  1.75831355e-02,  4.12070528e-02,\n",
       "        2.66290195e-02, -1.34376111e-02, -4.86178100e-02,  1.27242859e-02,\n",
       "        9.39345732e-03, -8.11946671e-03,  2.95723733e-02, -6.94516599e-02,\n",
       "       -7.10697472e-02,  3.01120803e-04,  4.31027636e-02, -5.95075041e-02,\n",
       "        2.65519470e-02, -5.90478927e-02,  4.46865186e-02, -1.46237640e-02,\n",
       "       -9.81815811e-03, -4.89699170e-02,  1.01139788e-02,  2.82771625e-02,\n",
       "        1.99888504e-07, -6.35881349e-02,  1.15379794e-02, -1.61977075e-02,\n",
       "       -3.75170261e-02,  2.24945173e-02,  5.74998418e-03, -6.25733733e-02,\n",
       "       -1.51105914e-02,  2.80585308e-02,  3.69874611e-02, -4.67125215e-02,\n",
       "       -2.84616202e-02,  1.72772203e-02, -9.28012189e-03,  7.98695683e-02,\n",
       "       -8.46900120e-02,  3.83958891e-02,  1.41008489e-03, -9.62680951e-03,\n",
       "        1.36490725e-02, -1.77746937e-02,  4.18013744e-02,  8.53314251e-03,\n",
       "       -1.77573878e-03, -8.90158489e-03,  3.19797397e-02,  3.75544503e-02,\n",
       "        1.10769253e-02,  5.14425710e-02,  4.77531739e-02,  9.78297219e-02,\n",
       "       -9.33892559e-03, -6.87362030e-02, -3.38471308e-02, -4.79166722e-03,\n",
       "       -3.35370339e-02, -2.90469378e-02,  2.22573560e-02, -6.03137305e-04,\n",
       "        4.80033495e-02, -3.26162912e-02,  7.76100233e-02, -2.88890544e-02,\n",
       "       -1.22942887e-02,  1.82095990e-02, -1.09790392e-01, -2.57627387e-02,\n",
       "        3.70127633e-02, -6.64480915e-03, -2.65491940e-02,  2.67257821e-02,\n",
       "        2.67418567e-02,  6.14947686e-03,  3.98128852e-02, -1.56973419e-03,\n",
       "        6.82425918e-04,  4.84148599e-02,  2.97234906e-03, -1.46997049e-02,\n",
       "       -3.73888016e-02, -1.90463196e-02,  4.02793102e-02,  1.27058278e-03,\n",
       "        1.20821630e-03, -5.90572767e-02, -1.78195965e-02, -5.61401248e-02,\n",
       "        9.20051393e-35,  1.11877704e-02,  1.60856992e-02,  9.83772986e-03,\n",
       "       -2.01887768e-02, -7.61519140e-03, -4.81337495e-02, -6.21873699e-02,\n",
       "        6.26678113e-03, -9.15235579e-02, -3.97000164e-02, -4.33048755e-02],\n",
       "      dtype=float32)"
      ]
     },
     "execution_count": 117,
     "metadata": {},
     "output_type": "execute_result"
    }
   ],
   "source": [
    "vectors[0]"
   ]
  },
  {
   "cell_type": "code",
   "execution_count": 118,
   "id": "97edb278-0724-49e3-b8b4-992bfeaeb014",
   "metadata": {},
   "outputs": [],
   "source": [
    "dim = vectors.shape[1]"
   ]
  },
  {
   "cell_type": "code",
   "execution_count": 119,
   "id": "6343dff4-7ac3-4855-9047-9e1829a4c3b8",
   "metadata": {},
   "outputs": [
    {
     "data": {
      "text/plain": [
       "768"
      ]
     },
     "execution_count": 119,
     "metadata": {},
     "output_type": "execute_result"
    }
   ],
   "source": [
    "dim"
   ]
  },
  {
   "cell_type": "code",
   "execution_count": 120,
   "id": "59b072d6-2f2d-4173-ab17-df6a79c1af07",
   "metadata": {},
   "outputs": [
    {
     "name": "stderr",
     "output_type": "stream",
     "text": [
      "ERROR: Could not find a version that satisfies the requirement faiss (from versions: none)\n",
      "ERROR: No matching distribution found for faiss\n"
     ]
    }
   ],
   "source": [
    "!pip install faiss"
   ]
  },
  {
   "cell_type": "code",
   "execution_count": 121,
   "id": "5712dbff-aadf-49b8-854d-0f74e6e5c7d7",
   "metadata": {},
   "outputs": [
    {
     "name": "stdout",
     "output_type": "stream",
     "text": [
      "Requirement already satisfied: faiss-cpu in c:\\users\\chari\\anaconda3\\lib\\site-packages (1.9.0.post1)\n",
      "Requirement already satisfied: numpy<3.0,>=1.25.0 in c:\\users\\chari\\anaconda3\\lib\\site-packages (from faiss-cpu) (1.26.4)\n",
      "Requirement already satisfied: packaging in c:\\users\\chari\\anaconda3\\lib\\site-packages (from faiss-cpu) (24.1)\n"
     ]
    }
   ],
   "source": [
    "!pip install faiss-cpu\n"
   ]
  },
  {
   "cell_type": "code",
   "execution_count": 122,
   "id": "8b76ece6-2a31-41a1-9add-4fb6a8c6afd7",
   "metadata": {},
   "outputs": [
    {
     "name": "stderr",
     "output_type": "stream",
     "text": [
      "ERROR: Could not find a version that satisfies the requirement faiss-gpu (from versions: none)\n",
      "ERROR: No matching distribution found for faiss-gpu\n"
     ]
    }
   ],
   "source": [
    "!pip install faiss-gpu\n"
   ]
  },
  {
   "cell_type": "code",
   "execution_count": 123,
   "id": "a4fa746d-e536-4dd5-ae79-6fafa83457e1",
   "metadata": {},
   "outputs": [],
   "source": [
    "import faiss\n"
   ]
  },
  {
   "cell_type": "code",
   "execution_count": 124,
   "id": "13df90b7-c041-40d9-b90b-307b935b7999",
   "metadata": {},
   "outputs": [],
   "source": [
    "index=faiss.IndexFlatL2(dim)"
   ]
  },
  {
   "cell_type": "code",
   "execution_count": 125,
   "id": "4312d1f3-6e68-4f5e-8811-1cf0d704b7f3",
   "metadata": {},
   "outputs": [
    {
     "data": {
      "text/plain": [
       "<faiss.swigfaiss_avx2.IndexFlatL2; proxy of <Swig Object of type 'faiss::IndexFlatL2 *' at 0x000001CFAAE65710> >"
      ]
     },
     "execution_count": 125,
     "metadata": {},
     "output_type": "execute_result"
    }
   ],
   "source": [
    "index"
   ]
  },
  {
   "cell_type": "code",
   "execution_count": 126,
   "id": "25f8ec46-0fcc-4e5f-9efe-e7c6bcec3931",
   "metadata": {},
   "outputs": [],
   "source": [
    "index.add(vectors)"
   ]
  },
  {
   "cell_type": "code",
   "execution_count": 127,
   "id": "39b0a8c2-d2a0-4f9a-b4da-3ea7d1908752",
   "metadata": {},
   "outputs": [
    {
     "data": {
      "text/html": [
       "<div>\n",
       "<style scoped>\n",
       "    .dataframe tbody tr th:only-of-type {\n",
       "        vertical-align: middle;\n",
       "    }\n",
       "\n",
       "    .dataframe tbody tr th {\n",
       "        vertical-align: top;\n",
       "    }\n",
       "\n",
       "    .dataframe thead th {\n",
       "        text-align: right;\n",
       "    }\n",
       "</style>\n",
       "<table border=\"1\" class=\"dataframe\">\n",
       "  <thead>\n",
       "    <tr style=\"text-align: right;\">\n",
       "      <th></th>\n",
       "      <th>text</th>\n",
       "      <th>category</th>\n",
       "    </tr>\n",
       "  </thead>\n",
       "  <tbody>\n",
       "    <tr>\n",
       "      <th>0</th>\n",
       "      <td>Meditation and yoga can improve mental health</td>\n",
       "      <td>Health</td>\n",
       "    </tr>\n",
       "    <tr>\n",
       "      <th>1</th>\n",
       "      <td>Fruits, whole grains and vegetables helps cont...</td>\n",
       "      <td>Health</td>\n",
       "    </tr>\n",
       "    <tr>\n",
       "      <th>2</th>\n",
       "      <td>These are the latest fashion trends for this week</td>\n",
       "      <td>Fashion</td>\n",
       "    </tr>\n",
       "    <tr>\n",
       "      <th>3</th>\n",
       "      <td>Vibrant color jeans for male are becoming a trend</td>\n",
       "      <td>Fashion</td>\n",
       "    </tr>\n",
       "    <tr>\n",
       "      <th>4</th>\n",
       "      <td>The concert starts at 7 PM tonight</td>\n",
       "      <td>Event</td>\n",
       "    </tr>\n",
       "    <tr>\n",
       "      <th>5</th>\n",
       "      <td>Navaratri dandiya program at Expo center in Mu...</td>\n",
       "      <td>Event</td>\n",
       "    </tr>\n",
       "    <tr>\n",
       "      <th>6</th>\n",
       "      <td>Exciting vacation destinations for your next trip</td>\n",
       "      <td>Travel</td>\n",
       "    </tr>\n",
       "    <tr>\n",
       "      <th>7</th>\n",
       "      <td>Maldives and Srilanka are gaining popularity i...</td>\n",
       "      <td>Travel</td>\n",
       "    </tr>\n",
       "  </tbody>\n",
       "</table>\n",
       "</div>"
      ],
      "text/plain": [
       "                                                text category\n",
       "0      Meditation and yoga can improve mental health   Health\n",
       "1  Fruits, whole grains and vegetables helps cont...   Health\n",
       "2  These are the latest fashion trends for this week  Fashion\n",
       "3  Vibrant color jeans for male are becoming a trend  Fashion\n",
       "4                 The concert starts at 7 PM tonight    Event\n",
       "5  Navaratri dandiya program at Expo center in Mu...    Event\n",
       "6  Exciting vacation destinations for your next trip   Travel\n",
       "7  Maldives and Srilanka are gaining popularity i...   Travel"
      ]
     },
     "execution_count": 127,
     "metadata": {},
     "output_type": "execute_result"
    }
   ],
   "source": [
    "df"
   ]
  },
  {
   "cell_type": "code",
   "execution_count": 128,
   "id": "b53cae4e-2202-4019-aec6-5e57077f1c26",
   "metadata": {},
   "outputs": [],
   "source": [
    "search_query=\"An a apple a day keeps doctor away\""
   ]
  },
  {
   "cell_type": "code",
   "execution_count": 129,
   "id": "7e7d0510-9989-4d7c-bcbe-8f7fcbf33205",
   "metadata": {},
   "outputs": [],
   "source": [
    "vec=encoder.encode(search_query)"
   ]
  },
  {
   "cell_type": "code",
   "execution_count": 130,
   "id": "9cad2a59-874a-4645-b94a-ed03071501f0",
   "metadata": {},
   "outputs": [
    {
     "data": {
      "text/plain": [
       "(768,)"
      ]
     },
     "execution_count": 130,
     "metadata": {},
     "output_type": "execute_result"
    }
   ],
   "source": [
    "vec.shape"
   ]
  },
  {
   "cell_type": "code",
   "execution_count": 131,
   "id": "6b3229a6-6439-4f68-bb4a-a1a8c22001eb",
   "metadata": {},
   "outputs": [
    {
     "name": "stdout",
     "output_type": "stream",
     "text": [
      "Requirement already satisfied: numpy in c:\\users\\chari\\anaconda3\\lib\\site-packages (1.26.4)\n"
     ]
    }
   ],
   "source": [
    "!pip install numpy"
   ]
  },
  {
   "cell_type": "code",
   "execution_count": 132,
   "id": "d7a39f49-a945-4441-ba28-048b77e4a340",
   "metadata": {},
   "outputs": [],
   "source": [
    "import numpy as np\n",
    "svec=np.array(vec).reshape(1,-1)"
   ]
  },
  {
   "cell_type": "code",
   "execution_count": 133,
   "id": "1047238a-636f-4591-888b-effd3d11416b",
   "metadata": {},
   "outputs": [
    {
     "data": {
      "text/plain": [
       "(1, 768)"
      ]
     },
     "execution_count": 133,
     "metadata": {},
     "output_type": "execute_result"
    }
   ],
   "source": [
    "svec.shape"
   ]
  },
  {
   "cell_type": "code",
   "execution_count": 134,
   "id": "09dc5fa9-6656-4f6d-85cd-8b3420bd73c4",
   "metadata": {},
   "outputs": [
    {
     "data": {
      "text/plain": [
       "(array([[1.3917177, 1.7182837]], dtype=float32), array([[1, 0]], dtype=int64))"
      ]
     },
     "execution_count": 134,
     "metadata": {},
     "output_type": "execute_result"
    }
   ],
   "source": [
    "index.search(svec,k=2)"
   ]
  },
  {
   "cell_type": "code",
   "execution_count": 135,
   "id": "c29f8245-1aba-432a-8887-d7219c6f22d4",
   "metadata": {},
   "outputs": [],
   "source": [
    "dis, I =index.search(svec,k=2)"
   ]
  },
  {
   "cell_type": "code",
   "execution_count": 136,
   "id": "3312437d-ee25-4f2a-a483-cdd69f7bdcfe",
   "metadata": {},
   "outputs": [
    {
     "data": {
      "text/plain": [
       "array([[1.3917177, 1.7182837]], dtype=float32)"
      ]
     },
     "execution_count": 136,
     "metadata": {},
     "output_type": "execute_result"
    }
   ],
   "source": [
    "dis"
   ]
  },
  {
   "cell_type": "code",
   "execution_count": 137,
   "id": "dec7439c-1f8d-4d9c-abfd-69e4edb7bd30",
   "metadata": {},
   "outputs": [
    {
     "data": {
      "text/plain": [
       "array([[1, 0]], dtype=int64)"
      ]
     },
     "execution_count": 137,
     "metadata": {},
     "output_type": "execute_result"
    }
   ],
   "source": [
    "I"
   ]
  },
  {
   "cell_type": "code",
   "execution_count": 138,
   "id": "4d54b546-b8be-4dd0-9620-84f4755c4879",
   "metadata": {},
   "outputs": [
    {
     "data": {
      "text/html": [
       "<div>\n",
       "<style scoped>\n",
       "    .dataframe tbody tr th:only-of-type {\n",
       "        vertical-align: middle;\n",
       "    }\n",
       "\n",
       "    .dataframe tbody tr th {\n",
       "        vertical-align: top;\n",
       "    }\n",
       "\n",
       "    .dataframe thead th {\n",
       "        text-align: right;\n",
       "    }\n",
       "</style>\n",
       "<table border=\"1\" class=\"dataframe\">\n",
       "  <thead>\n",
       "    <tr style=\"text-align: right;\">\n",
       "      <th></th>\n",
       "      <th>text</th>\n",
       "      <th>category</th>\n",
       "    </tr>\n",
       "  </thead>\n",
       "  <tbody>\n",
       "    <tr>\n",
       "      <th>1</th>\n",
       "      <td>Fruits, whole grains and vegetables helps cont...</td>\n",
       "      <td>Health</td>\n",
       "    </tr>\n",
       "    <tr>\n",
       "      <th>0</th>\n",
       "      <td>Meditation and yoga can improve mental health</td>\n",
       "      <td>Health</td>\n",
       "    </tr>\n",
       "  </tbody>\n",
       "</table>\n",
       "</div>"
      ],
      "text/plain": [
       "                                                text category\n",
       "1  Fruits, whole grains and vegetables helps cont...   Health\n",
       "0      Meditation and yoga can improve mental health   Health"
      ]
     },
     "execution_count": 138,
     "metadata": {},
     "output_type": "execute_result"
    }
   ],
   "source": [
    "df.loc[I[0]]"
   ]
  },
  {
   "cell_type": "code",
   "execution_count": null,
   "id": "c0181f3b-12f1-4717-93c1-d80fc4ab23f7",
   "metadata": {},
   "outputs": [],
   "source": [
    " "
   ]
  }
 ],
 "metadata": {
  "kernelspec": {
   "display_name": "Python 3 (ipykernel)",
   "language": "python",
   "name": "python3"
  },
  "language_info": {
   "codemirror_mode": {
    "name": "ipython",
    "version": 3
   },
   "file_extension": ".py",
   "mimetype": "text/x-python",
   "name": "python",
   "nbconvert_exporter": "python",
   "pygments_lexer": "ipython3",
   "version": "3.12.7"
  }
 },
 "nbformat": 4,
 "nbformat_minor": 5
}
